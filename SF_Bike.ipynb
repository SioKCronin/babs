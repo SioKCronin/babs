{
 "cells": [
  {
   "cell_type": "markdown",
   "metadata": {},
   "source": [
    "# SF Bike Share"
   ]
  },
  {
   "cell_type": "markdown",
   "metadata": {},
   "source": [
    "## Overview"
   ]
  },
  {
   "cell_type": "markdown",
   "metadata": {},
   "source": [
    "## Load data"
   ]
  },
  {
   "cell_type": "code",
   "execution_count": 1,
   "metadata": {
    "collapsed": false
   },
   "outputs": [],
   "source": [
    "import pandas as pd\n",
    "import numpy as np\n",
    "import matplotlib.pyplot as plt\n",
    "import pprint\n",
    "%matplotlib inline\n",
    "\n",
    "data = pd.read_csv('bikeshare_trips.csv')"
   ]
  },
  {
   "cell_type": "code",
   "execution_count": 2,
   "metadata": {
    "collapsed": false
   },
   "outputs": [
    {
     "data": {
      "text/html": [
       "<div>\n",
       "<table border=\"1\" class=\"dataframe\">\n",
       "  <thead>\n",
       "    <tr style=\"text-align: right;\">\n",
       "      <th></th>\n",
       "      <th>trip_id</th>\n",
       "      <th>duration_sec</th>\n",
       "      <th>start_date</th>\n",
       "      <th>start_station_name</th>\n",
       "      <th>start_station_id</th>\n",
       "      <th>end_date</th>\n",
       "      <th>end_station_name</th>\n",
       "      <th>end_station_id</th>\n",
       "      <th>bike_number</th>\n",
       "      <th>zip_code</th>\n",
       "      <th>subscriber_type</th>\n",
       "    </tr>\n",
       "  </thead>\n",
       "  <tbody>\n",
       "    <tr>\n",
       "      <th>0</th>\n",
       "      <td>650330</td>\n",
       "      <td>495</td>\n",
       "      <td>2015-02-19 15:46:00 UTC</td>\n",
       "      <td>Yerba Buena Center of the Arts (3rd @ Howard)</td>\n",
       "      <td>68</td>\n",
       "      <td>2015-02-19 15:54:00 UTC</td>\n",
       "      <td>San Francisco Caltrain 2 (330 Townsend)</td>\n",
       "      <td>69</td>\n",
       "      <td>463</td>\n",
       "      <td>94061</td>\n",
       "      <td>Subscriber</td>\n",
       "    </tr>\n",
       "    <tr>\n",
       "      <th>1</th>\n",
       "      <td>367544</td>\n",
       "      <td>241</td>\n",
       "      <td>2014-07-17 08:09:00 UTC</td>\n",
       "      <td>San Francisco Caltrain 2 (330 Townsend)</td>\n",
       "      <td>69</td>\n",
       "      <td>2014-07-17 08:13:00 UTC</td>\n",
       "      <td>Townsend at 7th</td>\n",
       "      <td>65</td>\n",
       "      <td>441</td>\n",
       "      <td>95120</td>\n",
       "      <td>Subscriber</td>\n",
       "    </tr>\n",
       "    <tr>\n",
       "      <th>2</th>\n",
       "      <td>586344</td>\n",
       "      <td>3589</td>\n",
       "      <td>2014-12-27 16:01:00 UTC</td>\n",
       "      <td>Embarcadero at Bryant</td>\n",
       "      <td>54</td>\n",
       "      <td>2014-12-27 17:01:00 UTC</td>\n",
       "      <td>2nd at Townsend</td>\n",
       "      <td>61</td>\n",
       "      <td>466</td>\n",
       "      <td>27401</td>\n",
       "      <td>Customer</td>\n",
       "    </tr>\n",
       "    <tr>\n",
       "      <th>3</th>\n",
       "      <td>772874</td>\n",
       "      <td>733</td>\n",
       "      <td>2015-05-19 09:50:00 UTC</td>\n",
       "      <td>Davis at Jackson</td>\n",
       "      <td>42</td>\n",
       "      <td>2015-05-19 10:02:00 UTC</td>\n",
       "      <td>2nd at Townsend</td>\n",
       "      <td>61</td>\n",
       "      <td>501</td>\n",
       "      <td>94111</td>\n",
       "      <td>Subscriber</td>\n",
       "    </tr>\n",
       "    <tr>\n",
       "      <th>4</th>\n",
       "      <td>419431</td>\n",
       "      <td>302</td>\n",
       "      <td>2014-08-21 19:11:00 UTC</td>\n",
       "      <td>5th at Howard</td>\n",
       "      <td>57</td>\n",
       "      <td>2014-08-21 19:16:00 UTC</td>\n",
       "      <td>San Francisco Caltrain (Townsend at 4th)</td>\n",
       "      <td>70</td>\n",
       "      <td>392</td>\n",
       "      <td>95110</td>\n",
       "      <td>Subscriber</td>\n",
       "    </tr>\n",
       "  </tbody>\n",
       "</table>\n",
       "</div>"
      ],
      "text/plain": [
       "   trip_id  duration_sec               start_date  \\\n",
       "0   650330           495  2015-02-19 15:46:00 UTC   \n",
       "1   367544           241  2014-07-17 08:09:00 UTC   \n",
       "2   586344          3589  2014-12-27 16:01:00 UTC   \n",
       "3   772874           733  2015-05-19 09:50:00 UTC   \n",
       "4   419431           302  2014-08-21 19:11:00 UTC   \n",
       "\n",
       "                              start_station_name  start_station_id  \\\n",
       "0  Yerba Buena Center of the Arts (3rd @ Howard)                68   \n",
       "1        San Francisco Caltrain 2 (330 Townsend)                69   \n",
       "2                          Embarcadero at Bryant                54   \n",
       "3                               Davis at Jackson                42   \n",
       "4                                  5th at Howard                57   \n",
       "\n",
       "                  end_date                          end_station_name  \\\n",
       "0  2015-02-19 15:54:00 UTC   San Francisco Caltrain 2 (330 Townsend)   \n",
       "1  2014-07-17 08:13:00 UTC                           Townsend at 7th   \n",
       "2  2014-12-27 17:01:00 UTC                           2nd at Townsend   \n",
       "3  2015-05-19 10:02:00 UTC                           2nd at Townsend   \n",
       "4  2014-08-21 19:16:00 UTC  San Francisco Caltrain (Townsend at 4th)   \n",
       "\n",
       "   end_station_id  bike_number zip_code subscriber_type  \n",
       "0              69          463    94061      Subscriber  \n",
       "1              65          441    95120      Subscriber  \n",
       "2              61          466    27401        Customer  \n",
       "3              61          501    94111      Subscriber  \n",
       "4              70          392    95110      Subscriber  "
      ]
     },
     "execution_count": 2,
     "metadata": {},
     "output_type": "execute_result"
    }
   ],
   "source": [
    "data[0:5]"
   ]
  },
  {
   "cell_type": "code",
   "execution_count": 3,
   "metadata": {
    "collapsed": false
   },
   "outputs": [
    {
     "data": {
      "text/plain": [
       "84"
      ]
     },
     "execution_count": 3,
     "metadata": {},
     "output_type": "execute_result"
    }
   ],
   "source": [
    "len(data.start_station_name.unique())"
   ]
  },
  {
   "cell_type": "code",
   "execution_count": 4,
   "metadata": {
    "collapsed": false
   },
   "outputs": [
    {
     "data": {
      "text/plain": [
       "84"
      ]
     },
     "execution_count": 4,
     "metadata": {},
     "output_type": "execute_result"
    }
   ],
   "source": [
    "len(data.end_station_name.unique())"
   ]
  },
  {
   "cell_type": "code",
   "execution_count": 5,
   "metadata": {
    "collapsed": false
   },
   "outputs": [
    {
     "data": {
      "text/plain": [
       "700"
      ]
     },
     "execution_count": 5,
     "metadata": {},
     "output_type": "execute_result"
    }
   ],
   "source": [
    "len(data.bike_number.unique())"
   ]
  },
  {
   "cell_type": "code",
   "execution_count": 6,
   "metadata": {
    "collapsed": false
   },
   "outputs": [
    {
     "data": {
      "text/plain": [
       "983648"
      ]
     },
     "execution_count": 6,
     "metadata": {},
     "output_type": "execute_result"
    }
   ],
   "source": [
    "len(data)"
   ]
  },
  {
   "cell_type": "markdown",
   "metadata": {},
   "source": [
    "## Format data and time"
   ]
  },
  {
   "cell_type": "code",
   "execution_count": 7,
   "metadata": {
    "collapsed": false
   },
   "outputs": [],
   "source": [
    "# Remove UTC from datatime !!Don't do this more than once!!\n",
    "data['start_date'] = data['start_date'].astype(str).str[:-3]"
   ]
  },
  {
   "cell_type": "code",
   "execution_count": 8,
   "metadata": {
    "collapsed": true
   },
   "outputs": [],
   "source": [
    "data['start_date'] = pd.to_datetime(data['start_date'])"
   ]
  },
  {
   "cell_type": "code",
   "execution_count": 10,
   "metadata": {
    "collapsed": false
   },
   "outputs": [],
   "source": [
    "data['end_date'] = pd.to_datetime(data['end_date'])"
   ]
  },
  {
   "cell_type": "code",
   "execution_count": null,
   "metadata": {
    "collapsed": false
   },
   "outputs": [],
   "source": [
    "data[0:5]"
   ]
  },
  {
   "cell_type": "code",
   "execution_count": null,
   "metadata": {
    "collapsed": false
   },
   "outputs": [],
   "source": [
    "len(data.start_date.dt.year.unique())"
   ]
  },
  {
   "cell_type": "code",
   "execution_count": null,
   "metadata": {
    "collapsed": false
   },
   "outputs": [],
   "source": [
    "len(data.start_date.dt.month.unique())"
   ]
  },
  {
   "cell_type": "code",
   "execution_count": 15,
   "metadata": {
    "collapsed": true
   },
   "outputs": [],
   "source": [
    "data['year'] = data.start_date.dt.year"
   ]
  },
  {
   "cell_type": "code",
   "execution_count": 16,
   "metadata": {
    "collapsed": false
   },
   "outputs": [],
   "source": [
    "data['month'] = data.start_date.dt.month"
   ]
  },
  {
   "cell_type": "code",
   "execution_count": 17,
   "metadata": {
    "collapsed": true
   },
   "outputs": [],
   "source": [
    "data['start_day'] = data.start_date.dt.day"
   ]
  },
  {
   "cell_type": "code",
   "execution_count": 18,
   "metadata": {
    "collapsed": false
   },
   "outputs": [],
   "source": [
    "data['start_time'] = data.start_date.dt.time"
   ]
  },
  {
   "cell_type": "code",
   "execution_count": 19,
   "metadata": {
    "collapsed": true
   },
   "outputs": [],
   "source": [
    "data['end_day'] = data.end_date.dt.day"
   ]
  },
  {
   "cell_type": "code",
   "execution_count": 20,
   "metadata": {
    "collapsed": true
   },
   "outputs": [],
   "source": [
    "data['end_time'] = data.end_date.dt.time"
   ]
  },
  {
   "cell_type": "code",
   "execution_count": null,
   "metadata": {
    "collapsed": false
   },
   "outputs": [],
   "source": [
    "data[0:5]"
   ]
  },
  {
   "cell_type": "code",
   "execution_count": 23,
   "metadata": {
    "collapsed": false
   },
   "outputs": [],
   "source": [
    "data['trip_length'] = data['end_date'] - data['start_date']"
   ]
  },
  {
   "cell_type": "code",
   "execution_count": 34,
   "metadata": {
    "collapsed": false
   },
   "outputs": [
    {
     "data": {
      "text/plain": [
       "0   00:08:00\n",
       "1   00:04:00\n",
       "2   01:00:00\n",
       "3   00:12:00\n",
       "4   00:05:00\n",
       "5   00:05:00\n",
       "6   00:20:00\n",
       "7   00:06:00\n",
       "8   00:15:00\n",
       "9   00:07:00\n",
       "Name: trip_length, dtype: timedelta64[ns]"
      ]
     },
     "execution_count": 34,
     "metadata": {},
     "output_type": "execute_result"
    }
   ],
   "source": [
    "data['trip_length'][0:10]"
   ]
  },
  {
   "cell_type": "code",
   "execution_count": 25,
   "metadata": {
    "collapsed": false
   },
   "outputs": [
    {
     "data": {
      "text/plain": [
       "Timedelta('199 days 22:19:00')"
      ]
     },
     "execution_count": 25,
     "metadata": {},
     "output_type": "execute_result"
    }
   ],
   "source": [
    "max(data['trip_length'])"
   ]
  },
  {
   "cell_type": "code",
   "execution_count": 33,
   "metadata": {
    "collapsed": false
   },
   "outputs": [
    {
     "data": {
      "text/plain": [
       "Timedelta('0 days 00:16:58.983782')"
      ]
     },
     "execution_count": 33,
     "metadata": {},
     "output_type": "execute_result"
    }
   ],
   "source": [
    "# Remove trips longer than 3 days \n",
    "np.mean(data['trip_length'])"
   ]
  },
  {
   "cell_type": "code",
   "execution_count": null,
   "metadata": {
    "collapsed": true
   },
   "outputs": [],
   "source": []
  }
 ],
 "metadata": {
  "anaconda-cloud": {},
  "kernelspec": {
   "display_name": "Python [conda root]",
   "language": "python",
   "name": "conda-root-py"
  },
  "language_info": {
   "codemirror_mode": {
    "name": "ipython",
    "version": 2
   },
   "file_extension": ".py",
   "mimetype": "text/x-python",
   "name": "python",
   "nbconvert_exporter": "python",
   "pygments_lexer": "ipython2",
   "version": "2.7.12"
  }
 },
 "nbformat": 4,
 "nbformat_minor": 1
}
