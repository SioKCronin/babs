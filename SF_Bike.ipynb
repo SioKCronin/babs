{
 "cells": [
  {
   "cell_type": "markdown",
   "metadata": {},
   "source": [
    "# Bike Supply"
   ]
  },
  {
   "cell_type": "markdown",
   "metadata": {},
   "source": [
    "## Summary"
   ]
  },
  {
   "cell_type": "markdown",
   "metadata": {},
   "source": [
    "Bike Supply is a PyMC3-driven Bayesian predictive model of an urban bike share company's supply-demand dynamics. This model was built using public data supplied by Bay Area Bike Share. This model was built to answer the question - is it possible to build a model that predicts the volume of bikes entering and leaving a station for any given day of the year?\n",
    "\n",
    "Bike sharing programs have the unique challenge of needing to ensure bikes and docking stations are available throughout the city for users throughout the day, even though users have the freedom to choose their own destinations rental by rental. "
   ]
  },
  {
   "cell_type": "markdown",
   "metadata": {},
   "source": [
    "## About the dataset"
   ]
  },
  {
   "cell_type": "markdown",
   "metadata": {},
   "source": [
    "## Data prep"
   ]
  },
  {
   "cell_type": "code",
   "execution_count": 1,
   "metadata": {
    "collapsed": false
   },
   "outputs": [],
   "source": [
    "import pandas as pd\n",
    "import numpy as np\n",
    "import matplotlib.pyplot as plt\n",
    "import pprint\n",
    "%matplotlib inline\n",
    "\n",
    "data = pd.read_csv('bikeshare_trips.csv')"
   ]
  },
  {
   "cell_type": "code",
   "execution_count": 30,
   "metadata": {
    "collapsed": false
   },
   "outputs": [
    {
     "data": {
      "text/html": [
       "<div>\n",
       "<table border=\"1\" class=\"dataframe\">\n",
       "  <thead>\n",
       "    <tr style=\"text-align: right;\">\n",
       "      <th></th>\n",
       "      <th>trip_id</th>\n",
       "      <th>duration_sec</th>\n",
       "      <th>start_date</th>\n",
       "      <th>start_station_name</th>\n",
       "      <th>start_station_id</th>\n",
       "      <th>end_date</th>\n",
       "      <th>end_station_name</th>\n",
       "      <th>end_station_id</th>\n",
       "      <th>bike_number</th>\n",
       "      <th>zip_code</th>\n",
       "      <th>subscriber_type</th>\n",
       "      <th>year</th>\n",
       "      <th>month</th>\n",
       "      <th>start_day</th>\n",
       "      <th>start_time</th>\n",
       "      <th>end_day</th>\n",
       "      <th>end_time</th>\n",
       "      <th>trip_length</th>\n",
       "    </tr>\n",
       "  </thead>\n",
       "  <tbody>\n",
       "    <tr>\n",
       "      <th>0</th>\n",
       "      <td>650330</td>\n",
       "      <td>495</td>\n",
       "      <td>2015-02-19 15:46:00</td>\n",
       "      <td>Yerba Buena Center of the Arts (3rd @ Howard)</td>\n",
       "      <td>68</td>\n",
       "      <td>2015-02-19 15:54:00</td>\n",
       "      <td>San Francisco Caltrain 2 (330 Townsend)</td>\n",
       "      <td>69</td>\n",
       "      <td>463</td>\n",
       "      <td>94061</td>\n",
       "      <td>Subscriber</td>\n",
       "      <td>2015</td>\n",
       "      <td>2</td>\n",
       "      <td>19</td>\n",
       "      <td>15:46:00</td>\n",
       "      <td>19</td>\n",
       "      <td>15:54:00</td>\n",
       "      <td>00:08:00</td>\n",
       "    </tr>\n",
       "    <tr>\n",
       "      <th>1</th>\n",
       "      <td>367544</td>\n",
       "      <td>241</td>\n",
       "      <td>2014-07-17 08:09:00</td>\n",
       "      <td>San Francisco Caltrain 2 (330 Townsend)</td>\n",
       "      <td>69</td>\n",
       "      <td>2014-07-17 08:13:00</td>\n",
       "      <td>Townsend at 7th</td>\n",
       "      <td>65</td>\n",
       "      <td>441</td>\n",
       "      <td>95120</td>\n",
       "      <td>Subscriber</td>\n",
       "      <td>2014</td>\n",
       "      <td>7</td>\n",
       "      <td>17</td>\n",
       "      <td>08:09:00</td>\n",
       "      <td>17</td>\n",
       "      <td>08:13:00</td>\n",
       "      <td>00:04:00</td>\n",
       "    </tr>\n",
       "    <tr>\n",
       "      <th>2</th>\n",
       "      <td>586344</td>\n",
       "      <td>3589</td>\n",
       "      <td>2014-12-27 16:01:00</td>\n",
       "      <td>Embarcadero at Bryant</td>\n",
       "      <td>54</td>\n",
       "      <td>2014-12-27 17:01:00</td>\n",
       "      <td>2nd at Townsend</td>\n",
       "      <td>61</td>\n",
       "      <td>466</td>\n",
       "      <td>27401</td>\n",
       "      <td>Customer</td>\n",
       "      <td>2014</td>\n",
       "      <td>12</td>\n",
       "      <td>27</td>\n",
       "      <td>16:01:00</td>\n",
       "      <td>27</td>\n",
       "      <td>17:01:00</td>\n",
       "      <td>01:00:00</td>\n",
       "    </tr>\n",
       "  </tbody>\n",
       "</table>\n",
       "</div>"
      ],
      "text/plain": [
       "   trip_id  duration_sec          start_date  \\\n",
       "0   650330           495 2015-02-19 15:46:00   \n",
       "1   367544           241 2014-07-17 08:09:00   \n",
       "2   586344          3589 2014-12-27 16:01:00   \n",
       "\n",
       "                              start_station_name  start_station_id  \\\n",
       "0  Yerba Buena Center of the Arts (3rd @ Howard)                68   \n",
       "1        San Francisco Caltrain 2 (330 Townsend)                69   \n",
       "2                          Embarcadero at Bryant                54   \n",
       "\n",
       "             end_date                         end_station_name  \\\n",
       "0 2015-02-19 15:54:00  San Francisco Caltrain 2 (330 Townsend)   \n",
       "1 2014-07-17 08:13:00                          Townsend at 7th   \n",
       "2 2014-12-27 17:01:00                          2nd at Townsend   \n",
       "\n",
       "   end_station_id  bike_number zip_code subscriber_type  year  month  \\\n",
       "0              69          463    94061      Subscriber  2015      2   \n",
       "1              65          441    95120      Subscriber  2014      7   \n",
       "2              61          466    27401        Customer  2014     12   \n",
       "\n",
       "   start_day start_time  end_day  end_time  trip_length  \n",
       "0         19   15:46:00       19  15:54:00     00:08:00  \n",
       "1         17   08:09:00       17  08:13:00     00:04:00  \n",
       "2         27   16:01:00       27  17:01:00     01:00:00  "
      ]
     },
     "execution_count": 30,
     "metadata": {},
     "output_type": "execute_result"
    }
   ],
   "source": [
    "data[0:3]"
   ]
  },
  {
   "cell_type": "code",
   "execution_count": 29,
   "metadata": {
    "collapsed": false
   },
   "outputs": [
    {
     "name": "stdout",
     "output_type": "stream",
     "text": [
      "Number of stations: 84\n",
      "Number of bikes: 700\n",
      "Number of trips logged: 983648\n"
     ]
    }
   ],
   "source": [
    "print \"Number of stations:\", len(data.start_station_name.unique())\n",
    "print \"Number of bikes:\", len(data.bike_number.unique())\n",
    "print \"Number of trips logged:\", len(data)"
   ]
  },
  {
   "cell_type": "code",
   "execution_count": 7,
   "metadata": {
    "collapsed": false
   },
   "outputs": [],
   "source": [
    "# Remove UTC from datatime !!Don't do this more than once!!\n",
    "data['start_date'] = data['start_date'].astype(str).str[:-3]"
   ]
  },
  {
   "cell_type": "code",
   "execution_count": 25,
   "metadata": {
    "collapsed": true
   },
   "outputs": [],
   "source": [
    "data['start_date'] = pd.to_datetime(data['start_date'])"
   ]
  },
  {
   "cell_type": "code",
   "execution_count": 9,
   "metadata": {
    "collapsed": false
   },
   "outputs": [],
   "source": [
    "data['end_date'] = pd.to_datetime(data['end_date'])"
   ]
  },
  {
   "cell_type": "code",
   "execution_count": 31,
   "metadata": {
    "collapsed": false
   },
   "outputs": [
    {
     "data": {
      "text/html": [
       "<div>\n",
       "<table border=\"1\" class=\"dataframe\">\n",
       "  <thead>\n",
       "    <tr style=\"text-align: right;\">\n",
       "      <th></th>\n",
       "      <th>trip_id</th>\n",
       "      <th>duration_sec</th>\n",
       "      <th>start_date</th>\n",
       "      <th>start_station_name</th>\n",
       "      <th>start_station_id</th>\n",
       "      <th>end_date</th>\n",
       "      <th>end_station_name</th>\n",
       "      <th>end_station_id</th>\n",
       "      <th>bike_number</th>\n",
       "      <th>zip_code</th>\n",
       "      <th>subscriber_type</th>\n",
       "      <th>year</th>\n",
       "      <th>month</th>\n",
       "      <th>start_day</th>\n",
       "      <th>start_time</th>\n",
       "      <th>end_day</th>\n",
       "      <th>end_time</th>\n",
       "      <th>trip_length</th>\n",
       "    </tr>\n",
       "  </thead>\n",
       "  <tbody>\n",
       "    <tr>\n",
       "      <th>0</th>\n",
       "      <td>650330</td>\n",
       "      <td>495</td>\n",
       "      <td>2015-02-19 15:46:00</td>\n",
       "      <td>Yerba Buena Center of the Arts (3rd @ Howard)</td>\n",
       "      <td>68</td>\n",
       "      <td>2015-02-19 15:54:00</td>\n",
       "      <td>San Francisco Caltrain 2 (330 Townsend)</td>\n",
       "      <td>69</td>\n",
       "      <td>463</td>\n",
       "      <td>94061</td>\n",
       "      <td>Subscriber</td>\n",
       "      <td>2015</td>\n",
       "      <td>2</td>\n",
       "      <td>19</td>\n",
       "      <td>15:46:00</td>\n",
       "      <td>19</td>\n",
       "      <td>15:54:00</td>\n",
       "      <td>00:08:00</td>\n",
       "    </tr>\n",
       "    <tr>\n",
       "      <th>1</th>\n",
       "      <td>367544</td>\n",
       "      <td>241</td>\n",
       "      <td>2014-07-17 08:09:00</td>\n",
       "      <td>San Francisco Caltrain 2 (330 Townsend)</td>\n",
       "      <td>69</td>\n",
       "      <td>2014-07-17 08:13:00</td>\n",
       "      <td>Townsend at 7th</td>\n",
       "      <td>65</td>\n",
       "      <td>441</td>\n",
       "      <td>95120</td>\n",
       "      <td>Subscriber</td>\n",
       "      <td>2014</td>\n",
       "      <td>7</td>\n",
       "      <td>17</td>\n",
       "      <td>08:09:00</td>\n",
       "      <td>17</td>\n",
       "      <td>08:13:00</td>\n",
       "      <td>00:04:00</td>\n",
       "    </tr>\n",
       "    <tr>\n",
       "      <th>2</th>\n",
       "      <td>586344</td>\n",
       "      <td>3589</td>\n",
       "      <td>2014-12-27 16:01:00</td>\n",
       "      <td>Embarcadero at Bryant</td>\n",
       "      <td>54</td>\n",
       "      <td>2014-12-27 17:01:00</td>\n",
       "      <td>2nd at Townsend</td>\n",
       "      <td>61</td>\n",
       "      <td>466</td>\n",
       "      <td>27401</td>\n",
       "      <td>Customer</td>\n",
       "      <td>2014</td>\n",
       "      <td>12</td>\n",
       "      <td>27</td>\n",
       "      <td>16:01:00</td>\n",
       "      <td>27</td>\n",
       "      <td>17:01:00</td>\n",
       "      <td>01:00:00</td>\n",
       "    </tr>\n",
       "  </tbody>\n",
       "</table>\n",
       "</div>"
      ],
      "text/plain": [
       "   trip_id  duration_sec          start_date  \\\n",
       "0   650330           495 2015-02-19 15:46:00   \n",
       "1   367544           241 2014-07-17 08:09:00   \n",
       "2   586344          3589 2014-12-27 16:01:00   \n",
       "\n",
       "                              start_station_name  start_station_id  \\\n",
       "0  Yerba Buena Center of the Arts (3rd @ Howard)                68   \n",
       "1        San Francisco Caltrain 2 (330 Townsend)                69   \n",
       "2                          Embarcadero at Bryant                54   \n",
       "\n",
       "             end_date                         end_station_name  \\\n",
       "0 2015-02-19 15:54:00  San Francisco Caltrain 2 (330 Townsend)   \n",
       "1 2014-07-17 08:13:00                          Townsend at 7th   \n",
       "2 2014-12-27 17:01:00                          2nd at Townsend   \n",
       "\n",
       "   end_station_id  bike_number zip_code subscriber_type  year  month  \\\n",
       "0              69          463    94061      Subscriber  2015      2   \n",
       "1              65          441    95120      Subscriber  2014      7   \n",
       "2              61          466    27401        Customer  2014     12   \n",
       "\n",
       "   start_day start_time  end_day  end_time  trip_length  \n",
       "0         19   15:46:00       19  15:54:00     00:08:00  \n",
       "1         17   08:09:00       17  08:13:00     00:04:00  \n",
       "2         27   16:01:00       27  17:01:00     01:00:00  "
      ]
     },
     "execution_count": 31,
     "metadata": {},
     "output_type": "execute_result"
    }
   ],
   "source": [
    "data[0:3]"
   ]
  },
  {
   "cell_type": "code",
   "execution_count": 11,
   "metadata": {
    "collapsed": false
   },
   "outputs": [
    {
     "data": {
      "text/plain": [
       "4"
      ]
     },
     "execution_count": 11,
     "metadata": {},
     "output_type": "execute_result"
    }
   ],
   "source": [
    "print \"Number of years in dataset:\", len(data.start_date.dt.year.unique())"
   ]
  },
  {
   "cell_type": "code",
   "execution_count": 13,
   "metadata": {
    "collapsed": true
   },
   "outputs": [],
   "source": [
    "data['year'] = data.start_date.dt.year"
   ]
  },
  {
   "cell_type": "code",
   "execution_count": 14,
   "metadata": {
    "collapsed": false
   },
   "outputs": [],
   "source": [
    "data['month'] = data.start_date.dt.month"
   ]
  },
  {
   "cell_type": "code",
   "execution_count": 15,
   "metadata": {
    "collapsed": true
   },
   "outputs": [],
   "source": [
    "data['start_day'] = data.start_date.dt.day"
   ]
  },
  {
   "cell_type": "code",
   "execution_count": 16,
   "metadata": {
    "collapsed": false
   },
   "outputs": [],
   "source": [
    "data['start_time'] = data.start_date.dt.time"
   ]
  },
  {
   "cell_type": "code",
   "execution_count": 17,
   "metadata": {
    "collapsed": true
   },
   "outputs": [],
   "source": [
    "data['end_day'] = data.end_date.dt.day"
   ]
  },
  {
   "cell_type": "code",
   "execution_count": 18,
   "metadata": {
    "collapsed": true
   },
   "outputs": [],
   "source": [
    "data['end_time'] = data.end_date.dt.time"
   ]
  },
  {
   "cell_type": "code",
   "execution_count": 19,
   "metadata": {
    "collapsed": false
   },
   "outputs": [
    {
     "data": {
      "text/html": [
       "<div>\n",
       "<table border=\"1\" class=\"dataframe\">\n",
       "  <thead>\n",
       "    <tr style=\"text-align: right;\">\n",
       "      <th></th>\n",
       "      <th>trip_id</th>\n",
       "      <th>duration_sec</th>\n",
       "      <th>start_date</th>\n",
       "      <th>start_station_name</th>\n",
       "      <th>start_station_id</th>\n",
       "      <th>end_date</th>\n",
       "      <th>end_station_name</th>\n",
       "      <th>end_station_id</th>\n",
       "      <th>bike_number</th>\n",
       "      <th>zip_code</th>\n",
       "      <th>subscriber_type</th>\n",
       "      <th>year</th>\n",
       "      <th>month</th>\n",
       "      <th>start_day</th>\n",
       "      <th>start_time</th>\n",
       "      <th>end_day</th>\n",
       "      <th>end_time</th>\n",
       "    </tr>\n",
       "  </thead>\n",
       "  <tbody>\n",
       "    <tr>\n",
       "      <th>0</th>\n",
       "      <td>650330</td>\n",
       "      <td>495</td>\n",
       "      <td>2015-02-19 15:46:00</td>\n",
       "      <td>Yerba Buena Center of the Arts (3rd @ Howard)</td>\n",
       "      <td>68</td>\n",
       "      <td>2015-02-19 15:54:00</td>\n",
       "      <td>San Francisco Caltrain 2 (330 Townsend)</td>\n",
       "      <td>69</td>\n",
       "      <td>463</td>\n",
       "      <td>94061</td>\n",
       "      <td>Subscriber</td>\n",
       "      <td>2015</td>\n",
       "      <td>2</td>\n",
       "      <td>19</td>\n",
       "      <td>15:46:00</td>\n",
       "      <td>19</td>\n",
       "      <td>15:54:00</td>\n",
       "    </tr>\n",
       "    <tr>\n",
       "      <th>1</th>\n",
       "      <td>367544</td>\n",
       "      <td>241</td>\n",
       "      <td>2014-07-17 08:09:00</td>\n",
       "      <td>San Francisco Caltrain 2 (330 Townsend)</td>\n",
       "      <td>69</td>\n",
       "      <td>2014-07-17 08:13:00</td>\n",
       "      <td>Townsend at 7th</td>\n",
       "      <td>65</td>\n",
       "      <td>441</td>\n",
       "      <td>95120</td>\n",
       "      <td>Subscriber</td>\n",
       "      <td>2014</td>\n",
       "      <td>7</td>\n",
       "      <td>17</td>\n",
       "      <td>08:09:00</td>\n",
       "      <td>17</td>\n",
       "      <td>08:13:00</td>\n",
       "    </tr>\n",
       "    <tr>\n",
       "      <th>2</th>\n",
       "      <td>586344</td>\n",
       "      <td>3589</td>\n",
       "      <td>2014-12-27 16:01:00</td>\n",
       "      <td>Embarcadero at Bryant</td>\n",
       "      <td>54</td>\n",
       "      <td>2014-12-27 17:01:00</td>\n",
       "      <td>2nd at Townsend</td>\n",
       "      <td>61</td>\n",
       "      <td>466</td>\n",
       "      <td>27401</td>\n",
       "      <td>Customer</td>\n",
       "      <td>2014</td>\n",
       "      <td>12</td>\n",
       "      <td>27</td>\n",
       "      <td>16:01:00</td>\n",
       "      <td>27</td>\n",
       "      <td>17:01:00</td>\n",
       "    </tr>\n",
       "    <tr>\n",
       "      <th>3</th>\n",
       "      <td>772874</td>\n",
       "      <td>733</td>\n",
       "      <td>2015-05-19 09:50:00</td>\n",
       "      <td>Davis at Jackson</td>\n",
       "      <td>42</td>\n",
       "      <td>2015-05-19 10:02:00</td>\n",
       "      <td>2nd at Townsend</td>\n",
       "      <td>61</td>\n",
       "      <td>501</td>\n",
       "      <td>94111</td>\n",
       "      <td>Subscriber</td>\n",
       "      <td>2015</td>\n",
       "      <td>5</td>\n",
       "      <td>19</td>\n",
       "      <td>09:50:00</td>\n",
       "      <td>19</td>\n",
       "      <td>10:02:00</td>\n",
       "    </tr>\n",
       "    <tr>\n",
       "      <th>4</th>\n",
       "      <td>419431</td>\n",
       "      <td>302</td>\n",
       "      <td>2014-08-21 19:11:00</td>\n",
       "      <td>5th at Howard</td>\n",
       "      <td>57</td>\n",
       "      <td>2014-08-21 19:16:00</td>\n",
       "      <td>San Francisco Caltrain (Townsend at 4th)</td>\n",
       "      <td>70</td>\n",
       "      <td>392</td>\n",
       "      <td>95110</td>\n",
       "      <td>Subscriber</td>\n",
       "      <td>2014</td>\n",
       "      <td>8</td>\n",
       "      <td>21</td>\n",
       "      <td>19:11:00</td>\n",
       "      <td>21</td>\n",
       "      <td>19:16:00</td>\n",
       "    </tr>\n",
       "  </tbody>\n",
       "</table>\n",
       "</div>"
      ],
      "text/plain": [
       "   trip_id  duration_sec          start_date  \\\n",
       "0   650330           495 2015-02-19 15:46:00   \n",
       "1   367544           241 2014-07-17 08:09:00   \n",
       "2   586344          3589 2014-12-27 16:01:00   \n",
       "3   772874           733 2015-05-19 09:50:00   \n",
       "4   419431           302 2014-08-21 19:11:00   \n",
       "\n",
       "                              start_station_name  start_station_id  \\\n",
       "0  Yerba Buena Center of the Arts (3rd @ Howard)                68   \n",
       "1        San Francisco Caltrain 2 (330 Townsend)                69   \n",
       "2                          Embarcadero at Bryant                54   \n",
       "3                               Davis at Jackson                42   \n",
       "4                                  5th at Howard                57   \n",
       "\n",
       "             end_date                          end_station_name  \\\n",
       "0 2015-02-19 15:54:00   San Francisco Caltrain 2 (330 Townsend)   \n",
       "1 2014-07-17 08:13:00                           Townsend at 7th   \n",
       "2 2014-12-27 17:01:00                           2nd at Townsend   \n",
       "3 2015-05-19 10:02:00                           2nd at Townsend   \n",
       "4 2014-08-21 19:16:00  San Francisco Caltrain (Townsend at 4th)   \n",
       "\n",
       "   end_station_id  bike_number zip_code subscriber_type  year  month  \\\n",
       "0              69          463    94061      Subscriber  2015      2   \n",
       "1              65          441    95120      Subscriber  2014      7   \n",
       "2              61          466    27401        Customer  2014     12   \n",
       "3              61          501    94111      Subscriber  2015      5   \n",
       "4              70          392    95110      Subscriber  2014      8   \n",
       "\n",
       "   start_day start_time  end_day  end_time  \n",
       "0         19   15:46:00       19  15:54:00  \n",
       "1         17   08:09:00       17  08:13:00  \n",
       "2         27   16:01:00       27  17:01:00  \n",
       "3         19   09:50:00       19  10:02:00  \n",
       "4         21   19:11:00       21  19:16:00  "
      ]
     },
     "execution_count": 19,
     "metadata": {},
     "output_type": "execute_result"
    }
   ],
   "source": [
    "data[0:5]"
   ]
  },
  {
   "cell_type": "code",
   "execution_count": 20,
   "metadata": {
    "collapsed": false
   },
   "outputs": [],
   "source": [
    "data['trip_length'] = data['end_date'] - data['start_date']"
   ]
  },
  {
   "cell_type": "code",
   "execution_count": 21,
   "metadata": {
    "collapsed": false
   },
   "outputs": [
    {
     "data": {
      "text/plain": [
       "0   00:08:00\n",
       "1   00:04:00\n",
       "2   01:00:00\n",
       "3   00:12:00\n",
       "4   00:05:00\n",
       "5   00:05:00\n",
       "6   00:20:00\n",
       "7   00:06:00\n",
       "8   00:15:00\n",
       "9   00:07:00\n",
       "Name: trip_length, dtype: timedelta64[ns]"
      ]
     },
     "execution_count": 21,
     "metadata": {},
     "output_type": "execute_result"
    }
   ],
   "source": [
    "data['trip_length'][0:10]"
   ]
  },
  {
   "cell_type": "code",
   "execution_count": 22,
   "metadata": {
    "collapsed": false
   },
   "outputs": [
    {
     "data": {
      "text/plain": [
       "Timedelta('199 days 22:19:00')"
      ]
     },
     "execution_count": 22,
     "metadata": {},
     "output_type": "execute_result"
    }
   ],
   "source": [
    "max(data['trip_length'])"
   ]
  },
  {
   "cell_type": "code",
   "execution_count": 23,
   "metadata": {
    "collapsed": false
   },
   "outputs": [
    {
     "data": {
      "text/plain": [
       "Timedelta('0 days 00:16:58.983782')"
      ]
     },
     "execution_count": 23,
     "metadata": {},
     "output_type": "execute_result"
    }
   ],
   "source": [
    "# Remove trips longer than 3 days \n",
    "\n",
    "\n"
   ]
  },
  {
   "cell_type": "markdown",
   "metadata": {},
   "source": [
    "## EDA"
   ]
  },
  {
   "cell_type": "markdown",
   "metadata": {},
   "source": [
    "The big question I have on the onset of this research is how granular do we need to get in our model?\n",
    "\n",
    "* Are the dyanmics similar enough across stations such that they can all be included in the same model, or do we need to build models for clusters of stations? We will try some logical groupings to see if there are any global patterns of dynamics across them. \n",
    "\n",
    "* Weekday-Weekend? Day by day? Month by month? Seasonality? Let's do some side-by-side visualizations of these time periods to see if any trends emerge. \n",
    "\n",
    "* How granular should we be in time bins (1 hour bins, 10 minutes, 1 minute)? I think some simple histograms can help us identity the kinds of volume of activity we are seeing. \n",
    "\n",
    "I'm curious about the number of bikes in the fleet, month by month, year by year. I think his may map onto the growth of the company, and that there may be different dynamics at each scale of growth. This is a big question I have with this data going forward - how will this prediction model scale? I'd love to work closely with the company to observe such shifts. \n"
   ]
  },
  {
   "cell_type": "markdown",
   "metadata": {},
   "source": [
    "## Simple model (unaware) - historical data"
   ]
  },
  {
   "cell_type": "markdown",
   "metadata": {},
   "source": [
    "Inspired by our Python maxim of KISS, let's begin by building a simple model that predicts station inputs and outputs based on hourly averages for each station. To help us out a little, we'll follow our intuition and segment weekend from weekday data, creating two spearate predictors. This first model will be network unaware, meaning we will look only at historical rentals and returns for each station, and not adjust our predictions based on what we know is happening at other stations in real time. \n",
    "\n",
    "For our averages we will use annual averages from 2015, and plot these alongside 2016 data points to see if our averages serve as accurate predictors. "
   ]
  },
  {
   "cell_type": "markdown",
   "metadata": {},
   "source": [
    "## Simple model (aware) - historical + \"real-time\" data\n",
    "\n",
    "This model makes predictions based on the behavior of other stations in the network in real time, and takes a step closer to our Bayesian model. Still relying on annual averages from 2015 to predict departures, this model builds up a prediction of arrivals based on the sum of a weighted factor that is a product of the distribution of journey destinations (by hour) for each station, the number of bikes leaving those station (at each hour interval), and the average bike trip length for that hour interval (which will determine when the bike is predicted to arrive at its destination). NOTE: I put \"real-time\" in quotes, because this model is still being simulated with historical data. However, the attempt with this model is to simulate what could be done in real time."
   ]
  },
  {
   "cell_type": "markdown",
   "metadata": {},
   "source": [
    "## Bayesian model (2015 priors)"
   ]
  },
  {
   "cell_type": "markdown",
   "metadata": {},
   "source": [
    "We will get a bit more granular in our setting of priors - taking some of the seasonality and day of the week trends we spotted in our EDA. Our hyperparameters of the prior distribution will be set on 2015 data, with our tau coming from the granularity we are choosing (day by day, season by season, etc.). We assume our bike rentals are Poisson-distributed. \n",
    "\n",
    "The goal is predict lambdas of net traffic (arrivals - departures) for each station. In the end, we will have generated 84 lambdas, illustrating the dynamics we expect to see across our 84 stations, which we will plot against our 2016 data. \n"
   ]
  },
  {
   "cell_type": "markdown",
   "metadata": {},
   "source": [
    "## Bayesian model (live prior updating)"
   ]
  },
  {
   "cell_type": "markdown",
   "metadata": {},
   "source": [
    "This is the model I am for ....\n",
    "\n",
    "Each bike that leaves a station updates the prior probabilities for the model such that what we are seeing in our posterior distributions are based on the actual dynamics of that day. What is that called? Is that still a Bayesian model?"
   ]
  },
  {
   "cell_type": "markdown",
   "metadata": {},
   "source": [
    "## General provisions"
   ]
  },
  {
   "cell_type": "markdown",
   "metadata": {},
   "source": [
    "I'm not sure how to set a good prior, but I think 2015 data to predict 2016 seems good. I may want to try 2014 + 2015, but I think it all depends on what we observe in the EDA. \n",
    "\n",
    "* Adjust for Giants games (some stations).\n",
    "\n",
    "* Adjust for weather. \n",
    "\n",
    "Distribution of precisions across 84 stations - and an average. \n",
    "\n",
    "Overall precision rating in reducing errors between prediction and observed - each model gets one score (we compare those scores). "
   ]
  },
  {
   "cell_type": "markdown",
   "metadata": {
    "collapsed": true
   },
   "source": [
    "## References"
   ]
  },
  {
   "cell_type": "markdown",
   "metadata": {},
   "source": []
  }
 ],
 "metadata": {
  "anaconda-cloud": {},
  "kernelspec": {
   "display_name": "Python [conda root]",
   "language": "python",
   "name": "conda-root-py"
  },
  "language_info": {
   "codemirror_mode": {
    "name": "ipython",
    "version": 2
   },
   "file_extension": ".py",
   "mimetype": "text/x-python",
   "name": "python",
   "nbconvert_exporter": "python",
   "pygments_lexer": "ipython2",
   "version": "2.7.12"
  }
 },
 "nbformat": 4,
 "nbformat_minor": 1
}
