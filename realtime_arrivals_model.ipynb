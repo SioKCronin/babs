{
 "cells": [
  {
   "cell_type": "markdown",
   "metadata": {},
   "source": [
    "# \"Realtime Arrivals\" Model"
   ]
  },
  {
   "cell_type": "markdown",
   "metadata": {},
   "source": [
    "## Overview"
   ]
  },
  {
   "cell_type": "markdown",
   "metadata": {},
   "source": [
    "This model makes predictions based on the behavior of other stations in the network in \"real time\". I put \"real-time\" in quotes, because this model is still being simulated with historical data. However, the premise is that this model could be connected to the stations and receive real time updates on which bikes are departing. \n",
    "\n",
    "For ARRIVALS, the model builds up a prediction based on the sum of a weighted factor that is a product of the distribution of journey destinations (by hour) for each station, the number of bikes leaving those station (at each hour interval), and the average bike trip length for that hour interval (which will determine when the bike is predicted to arrive at its destination). \n",
    "\n",
    "For DEPARTURES, the story is a bit different. When a bike leaves a station in the system, it tells us something rather important - that it will, at some point (in our case, less than two days), arrive at a station (either its own or another). Yet what does a stationary bike tell us about its probability of departure? To better understand departures, this model relies on historical data from 2015, like before, yet now it is modulated by a \"what has happened in the past 24 hours\" to indicate how typical the day is. For instance, if the past 24 hours was significantly higher than the previous year, we increase our expectations for today based on a factor of that margin of increase. If yesterday's departures were up 5%, we increase today's estimates by 5%. \n",
    "\n",
    "\n",
    "* Metropolis sampler (MCMC for finding the posteriors) - http://twiecki.github.io/blog/2015/11/10/mcmc-sampling/"
   ]
  },
  {
   "cell_type": "code",
   "execution_count": null,
   "metadata": {
    "collapsed": true
   },
   "outputs": [],
   "source": []
  }
 ],
 "metadata": {
  "anaconda-cloud": {},
  "kernelspec": {
   "display_name": "Python [conda root]",
   "language": "python",
   "name": "conda-root-py"
  },
  "language_info": {
   "codemirror_mode": {
    "name": "ipython",
    "version": 2
   },
   "file_extension": ".py",
   "mimetype": "text/x-python",
   "name": "python",
   "nbconvert_exporter": "python",
   "pygments_lexer": "ipython2",
   "version": "2.7.12"
  }
 },
 "nbformat": 4,
 "nbformat_minor": 1
}
