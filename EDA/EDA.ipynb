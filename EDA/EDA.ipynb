{
 "cells": [
  {
   "cell_type": "markdown",
   "metadata": {},
   "source": [
    "# EDA"
   ]
  },
  {
   "cell_type": "markdown",
   "metadata": {},
   "source": [
    "## Overview"
   ]
  },
  {
   "cell_type": "markdown",
   "metadata": {},
   "source": [
    "The big question I have on the onset of this research is how granular do we need to get in our model?\n",
    "\n",
    "* Are the dyanmics similar enough across stations such that they can all be included in the same model, or do we need to build models for clusters of stations? We will try some logical groupings to see if there are any global patterns of dynamics across them. \n",
    "\n",
    "* Weekday-Weekend? Day by day? Month by month? Seasonality? Let's do some side-by-side visualizations of these time periods to see if any trends emerge. \n",
    "\n",
    "* How granular should we be in time bins (1 hour bins, 10 minutes, 1 minute)? I think some simple histograms can help us identity the kinds of volume of activity we are seeing. \n",
    "\n",
    "I'm curious about the number of bikes in the fleet, month by month, year by year. I think his may map onto the growth of the company, and that there may be different dynamics at each scale of growth. This is a big question I have with this data going forward - how will this prediction model scale? I'd love to work closely with the company to observe such shifts. "
   ]
  },
  {
   "cell_type": "markdown",
   "metadata": {
    "collapsed": true
   },
   "source": [
    "## Top Stations"
   ]
  },
  {
   "cell_type": "code",
   "execution_count": 2,
   "metadata": {
    "collapsed": true
   },
   "outputs": [],
   "source": [
    "%matplotlib inline\n",
    "import pandas as pd\n",
    "import numpy as np\n",
    "import matplotlib.pyplot as plt\n",
    "plt.style.use('ggplot')\n",
    "import pprint\n",
    "%load_ext autoreload\n",
    "\n",
    "may_15 = pd.read_csv('~/Code/bikesupply/data/test_data/trips_may2015.csv')\n",
    "may_16 = pd.read_csv('~/Code/bikesupply/data/test_data/trips_may2016.csv')"
   ]
  },
  {
   "cell_type": "code",
   "execution_count": 3,
   "metadata": {},
   "outputs": [
    {
     "data": {
      "text/html": [
       "<div>\n",
       "<table border=\"1\" class=\"dataframe\">\n",
       "  <thead>\n",
       "    <tr style=\"text-align: right;\">\n",
       "      <th></th>\n",
       "      <th>Unnamed: 0</th>\n",
       "      <th>trip_id</th>\n",
       "      <th>duration_sec</th>\n",
       "      <th>start_date</th>\n",
       "      <th>start_station_name</th>\n",
       "      <th>start_station_id</th>\n",
       "      <th>end_date</th>\n",
       "      <th>end_station_name</th>\n",
       "      <th>end_station_id</th>\n",
       "      <th>bike_number</th>\n",
       "      <th>...</th>\n",
       "      <th>subscriber_type</th>\n",
       "      <th>start_just_date</th>\n",
       "      <th>end_just_date</th>\n",
       "      <th>year</th>\n",
       "      <th>month</th>\n",
       "      <th>start_day</th>\n",
       "      <th>start_time</th>\n",
       "      <th>end_day</th>\n",
       "      <th>end_time</th>\n",
       "      <th>end_yyyymmdd</th>\n",
       "    </tr>\n",
       "  </thead>\n",
       "  <tbody>\n",
       "    <tr>\n",
       "      <th>0</th>\n",
       "      <td>3</td>\n",
       "      <td>772874</td>\n",
       "      <td>733</td>\n",
       "      <td>2015-05-19 09:50:00</td>\n",
       "      <td>Davis at Jackson</td>\n",
       "      <td>42</td>\n",
       "      <td>2015-05-19 10:02:00</td>\n",
       "      <td>2nd at Townsend</td>\n",
       "      <td>61</td>\n",
       "      <td>501</td>\n",
       "      <td>...</td>\n",
       "      <td>Subscriber</td>\n",
       "      <td>2015-05-19</td>\n",
       "      <td>2015-05-19</td>\n",
       "      <td>2015</td>\n",
       "      <td>5</td>\n",
       "      <td>19</td>\n",
       "      <td>09:50:00</td>\n",
       "      <td>19</td>\n",
       "      <td>10:02:00</td>\n",
       "      <td>20150519</td>\n",
       "    </tr>\n",
       "    <tr>\n",
       "      <th>1</th>\n",
       "      <td>102</td>\n",
       "      <td>751066</td>\n",
       "      <td>481</td>\n",
       "      <td>2015-05-03 21:03:00</td>\n",
       "      <td>Broadway St at Battery St</td>\n",
       "      <td>82</td>\n",
       "      <td>2015-05-03 21:11:00</td>\n",
       "      <td>Steuart at Market</td>\n",
       "      <td>74</td>\n",
       "      <td>363</td>\n",
       "      <td>...</td>\n",
       "      <td>Subscriber</td>\n",
       "      <td>2015-05-03</td>\n",
       "      <td>2015-05-03</td>\n",
       "      <td>2015</td>\n",
       "      <td>5</td>\n",
       "      <td>3</td>\n",
       "      <td>21:03:00</td>\n",
       "      <td>3</td>\n",
       "      <td>21:11:00</td>\n",
       "      <td>20150503</td>\n",
       "    </tr>\n",
       "    <tr>\n",
       "      <th>2</th>\n",
       "      <td>131</td>\n",
       "      <td>758565</td>\n",
       "      <td>319</td>\n",
       "      <td>2015-05-08 08:12:00</td>\n",
       "      <td>Redwood City Medical Center</td>\n",
       "      <td>26</td>\n",
       "      <td>2015-05-08 08:18:00</td>\n",
       "      <td>Redwood City Caltrain Station</td>\n",
       "      <td>22</td>\n",
       "      <td>106</td>\n",
       "      <td>...</td>\n",
       "      <td>Subscriber</td>\n",
       "      <td>2015-05-08</td>\n",
       "      <td>2015-05-08</td>\n",
       "      <td>2015</td>\n",
       "      <td>5</td>\n",
       "      <td>8</td>\n",
       "      <td>08:12:00</td>\n",
       "      <td>8</td>\n",
       "      <td>08:18:00</td>\n",
       "      <td>20150508</td>\n",
       "    </tr>\n",
       "  </tbody>\n",
       "</table>\n",
       "<p>3 rows × 21 columns</p>\n",
       "</div>"
      ],
      "text/plain": [
       "   Unnamed: 0  trip_id  duration_sec           start_date  \\\n",
       "0           3   772874           733  2015-05-19 09:50:00   \n",
       "1         102   751066           481  2015-05-03 21:03:00   \n",
       "2         131   758565           319  2015-05-08 08:12:00   \n",
       "\n",
       "            start_station_name  start_station_id             end_date  \\\n",
       "0             Davis at Jackson                42  2015-05-19 10:02:00   \n",
       "1    Broadway St at Battery St                82  2015-05-03 21:11:00   \n",
       "2  Redwood City Medical Center                26  2015-05-08 08:18:00   \n",
       "\n",
       "                end_station_name  end_station_id  bike_number     ...       \\\n",
       "0                2nd at Townsend              61          501     ...        \n",
       "1              Steuart at Market              74          363     ...        \n",
       "2  Redwood City Caltrain Station              22          106     ...        \n",
       "\n",
       "  subscriber_type start_just_date end_just_date  year  month  start_day  \\\n",
       "0      Subscriber      2015-05-19    2015-05-19  2015      5         19   \n",
       "1      Subscriber      2015-05-03    2015-05-03  2015      5          3   \n",
       "2      Subscriber      2015-05-08    2015-05-08  2015      5          8   \n",
       "\n",
       "   start_time end_day  end_time end_yyyymmdd  \n",
       "0    09:50:00      19  10:02:00     20150519  \n",
       "1    21:03:00       3  21:11:00     20150503  \n",
       "2    08:12:00       8  08:18:00     20150508  \n",
       "\n",
       "[3 rows x 21 columns]"
      ]
     },
     "execution_count": 3,
     "metadata": {},
     "output_type": "execute_result"
    }
   ],
   "source": [
    "may_15[0:3]"
   ]
  },
  {
   "cell_type": "code",
   "execution_count": 4,
   "metadata": {
    "collapsed": true
   },
   "outputs": [],
   "source": [
    "departures_may_15 = may_15['start_station_id']\n",
    "departures_may_16 = may_16['start_station_id']\n",
    "arrivals_may_15 = may_15['end_station_id']\n",
    "arrivals_may_16 = may_16['end_station_id']\n",
    "\n",
    "may_15_departures_count, division = np.histogram(departures_may_15, bins = range(1,84))\n",
    "may_15_arrivals_count, division = np.histogram(arrivals_may_15, bins = range(1,84))\n",
    "\n",
    "# Plot histograms \n",
    "# fig = plt.figure(figsize=(20, 6)) \n",
    "# f, axarr = plt.subplots(2, 2)\n",
    "# axarr[0, 0].hist(departures_may_15, 84, histtype='stepfilled', color = '#4d5665')\n",
    "# axarr[0, 0].set_title('2015 Departures')\n",
    "# axarr[0, 1].hist(departures_may_16, 84, histtype='stepfilled', color = '#c8b9a4')\n",
    "# axarr[0, 1].set_title('2015 Arrivals')\n",
    "# axarr[1, 0].hist(arrivals_may_15, 84, histtype='stepfilled', color = '#4d5665')\n",
    "# axarr[1, 0].set_title('2016 Departures')\n",
    "# axarr[1, 1].hist(arrivals_may_16, 84, histtype='stepfilled', color = '#c8b9a4')\n",
    "# axarr[1, 1].set_title('2016 Arrivals')"
   ]
  },
  {
   "cell_type": "code",
   "execution_count": 5,
   "metadata": {},
   "outputs": [
    {
     "data": {
      "text/plain": [
       "array([   0,  420,   50,  173,   70,  123,   67,   43,  106,   58,   85,\n",
       "         36,   71,   45,    0,   31,    0,    0,    0,    0,    3,   67,\n",
       "          5,    5,   34,   18,  135,  317,   87,   71,   90,  109,   51,\n",
       "        101,   30,   26,   57,   34,  824,    0,  466,  453,    0,    0,\n",
       "        519,  212,  392,  385,  483, 1510,  583,    0,    0,  604, 1232,\n",
       "        616,  591,  165,  326, 1271, 1069,  659,  594,  798, 1152,  491,\n",
       "       1001,  480, 1924, 2023,  582,  706,  710, 1082,  553,  762,  972,\n",
       "          0,    0,   37,    0,  618])"
      ]
     },
     "execution_count": 5,
     "metadata": {},
     "output_type": "execute_result"
    }
   ],
   "source": [
    "may_15_departures_count"
   ]
  },
  {
   "cell_type": "code",
   "execution_count": 6,
   "metadata": {
    "collapsed": true
   },
   "outputs": [],
   "source": [
    "import collections\n",
    "\n",
    "def top_stations(array, top_number):\n",
    "    stations = {}\n",
    "    for i in range(0, len(array)):\n",
    "        stations[i+1] = array[i]\n",
    "    d = collections.Counter(stations)\n",
    "    top_stations = {}\n",
    "    for k, v in d.most_common(top_number):\n",
    "        top_stations[k] = v\n",
    "    return top_stations "
   ]
  },
  {
   "cell_type": "code",
   "execution_count": 7,
   "metadata": {},
   "outputs": [
    {
     "data": {
      "text/plain": [
       "{50: 1510, 55: 1232, 60: 1271, 69: 1924, 70: 2023}"
      ]
     },
     "execution_count": 7,
     "metadata": {},
     "output_type": "execute_result"
    }
   ],
   "source": [
    "top_stations(may_15_departures_count, 5)"
   ]
  },
  {
   "cell_type": "code",
   "execution_count": 8,
   "metadata": {},
   "outputs": [
    {
     "data": {
      "text/plain": [
       "{50: 1426, 60: 1486, 65: 1329, 69: 2094, 70: 2412}"
      ]
     },
     "execution_count": 8,
     "metadata": {},
     "output_type": "execute_result"
    }
   ],
   "source": [
    "top_stations(may_15_arrivals_count, 5)"
   ]
  },
  {
   "cell_type": "code",
   "execution_count": 9,
   "metadata": {
    "collapsed": true
   },
   "outputs": [],
   "source": [
    "stations_list = pd.read_csv('~/Code/bikesupply/data/babs_download/babs_yr2/201508_station_data.csv')"
   ]
  },
  {
   "cell_type": "code",
   "execution_count": 10,
   "metadata": {},
   "outputs": [
    {
     "data": {
      "text/html": [
       "<div>\n",
       "<table border=\"1\" class=\"dataframe\">\n",
       "  <thead>\n",
       "    <tr style=\"text-align: right;\">\n",
       "      <th></th>\n",
       "      <th>station_id</th>\n",
       "      <th>name</th>\n",
       "      <th>lat</th>\n",
       "      <th>long</th>\n",
       "      <th>dockcount</th>\n",
       "      <th>landmark</th>\n",
       "      <th>installation</th>\n",
       "    </tr>\n",
       "  </thead>\n",
       "  <tbody>\n",
       "    <tr>\n",
       "      <th>39</th>\n",
       "      <td>50</td>\n",
       "      <td>Harry Bridges Plaza (Ferry Building)</td>\n",
       "      <td>37.795392</td>\n",
       "      <td>-122.394203</td>\n",
       "      <td>23</td>\n",
       "      <td>San Francisco</td>\n",
       "      <td>8/20/2013</td>\n",
       "    </tr>\n",
       "  </tbody>\n",
       "</table>\n",
       "</div>"
      ],
      "text/plain": [
       "    station_id                                  name        lat        long  \\\n",
       "39          50  Harry Bridges Plaza (Ferry Building)  37.795392 -122.394203   \n",
       "\n",
       "    dockcount       landmark installation  \n",
       "39         23  San Francisco    8/20/2013  "
      ]
     },
     "execution_count": 10,
     "metadata": {},
     "output_type": "execute_result"
    }
   ],
   "source": [
    "stations_list.query(\"station_id == 50\")"
   ]
  },
  {
   "cell_type": "code",
   "execution_count": 11,
   "metadata": {},
   "outputs": [
    {
     "data": {
      "text/html": [
       "<div>\n",
       "<table border=\"1\" class=\"dataframe\">\n",
       "  <thead>\n",
       "    <tr style=\"text-align: right;\">\n",
       "      <th></th>\n",
       "      <th>station_id</th>\n",
       "      <th>name</th>\n",
       "      <th>lat</th>\n",
       "      <th>long</th>\n",
       "      <th>dockcount</th>\n",
       "      <th>landmark</th>\n",
       "      <th>installation</th>\n",
       "    </tr>\n",
       "  </thead>\n",
       "  <tbody>\n",
       "    <tr>\n",
       "      <th>57</th>\n",
       "      <td>69</td>\n",
       "      <td>San Francisco Caltrain 2 (330 Townsend)</td>\n",
       "      <td>37.7766</td>\n",
       "      <td>-122.39547</td>\n",
       "      <td>23</td>\n",
       "      <td>San Francisco</td>\n",
       "      <td>8/23/2013</td>\n",
       "    </tr>\n",
       "  </tbody>\n",
       "</table>\n",
       "</div>"
      ],
      "text/plain": [
       "    station_id                                     name      lat       long  \\\n",
       "57          69  San Francisco Caltrain 2 (330 Townsend)  37.7766 -122.39547   \n",
       "\n",
       "    dockcount       landmark installation  \n",
       "57         23  San Francisco    8/23/2013  "
      ]
     },
     "execution_count": 11,
     "metadata": {},
     "output_type": "execute_result"
    }
   ],
   "source": [
    "stations_list.query(\"station_id == 69\")"
   ]
  },
  {
   "cell_type": "code",
   "execution_count": 12,
   "metadata": {},
   "outputs": [
    {
     "data": {
      "text/html": [
       "<div>\n",
       "<table border=\"1\" class=\"dataframe\">\n",
       "  <thead>\n",
       "    <tr style=\"text-align: right;\">\n",
       "      <th></th>\n",
       "      <th>station_id</th>\n",
       "      <th>name</th>\n",
       "      <th>lat</th>\n",
       "      <th>long</th>\n",
       "      <th>dockcount</th>\n",
       "      <th>landmark</th>\n",
       "      <th>installation</th>\n",
       "    </tr>\n",
       "  </thead>\n",
       "  <tbody>\n",
       "    <tr>\n",
       "      <th>58</th>\n",
       "      <td>70</td>\n",
       "      <td>San Francisco Caltrain (Townsend at 4th)</td>\n",
       "      <td>37.776617</td>\n",
       "      <td>-122.39526</td>\n",
       "      <td>19</td>\n",
       "      <td>San Francisco</td>\n",
       "      <td>8/23/2013</td>\n",
       "    </tr>\n",
       "  </tbody>\n",
       "</table>\n",
       "</div>"
      ],
      "text/plain": [
       "    station_id                                      name        lat  \\\n",
       "58          70  San Francisco Caltrain (Townsend at 4th)  37.776617   \n",
       "\n",
       "         long  dockcount       landmark installation  \n",
       "58 -122.39526         19  San Francisco    8/23/2013  "
      ]
     },
     "execution_count": 12,
     "metadata": {},
     "output_type": "execute_result"
    }
   ],
   "source": [
    "stations_list.query(\"station_id == 70\")"
   ]
  },
  {
   "cell_type": "markdown",
   "metadata": {},
   "source": [
    "This follows a logic test, as these are indeed stations we'd expect to be popular. "
   ]
  },
  {
   "cell_type": "markdown",
   "metadata": {},
   "source": [
    "## Analyzing flow"
   ]
  },
  {
   "cell_type": "markdown",
   "metadata": {},
   "source": [
    "At first glance we can see the situation we are trying to identify with this project - the popular stations show more arrivals than departures! But, how much more?\n",
    "\n",
    "BABS has data on the available bikes and docks at each station throughout the day, but does this include data on transfers made by the company?\n"
   ]
  },
  {
   "cell_type": "code",
   "execution_count": 13,
   "metadata": {
    "collapsed": true
   },
   "outputs": [],
   "source": [
    "status_2015 = pd.read_csv('~/Code/bikesupply/data/test_data/status_may15.csv')"
   ]
  },
  {
   "cell_type": "code",
   "execution_count": 14,
   "metadata": {},
   "outputs": [
    {
     "data": {
      "text/html": [
       "<div>\n",
       "<table border=\"1\" class=\"dataframe\">\n",
       "  <thead>\n",
       "    <tr style=\"text-align: right;\">\n",
       "      <th></th>\n",
       "      <th>Unnamed: 0</th>\n",
       "      <th>station_id</th>\n",
       "      <th>bikes_available</th>\n",
       "      <th>docks_available</th>\n",
       "      <th>time</th>\n",
       "      <th>month</th>\n",
       "    </tr>\n",
       "  </thead>\n",
       "  <tbody>\n",
       "    <tr>\n",
       "      <th>0</th>\n",
       "      <td>347015</td>\n",
       "      <td>2</td>\n",
       "      <td>15</td>\n",
       "      <td>12</td>\n",
       "      <td>2015-05-01 00:00:02</td>\n",
       "      <td>5</td>\n",
       "    </tr>\n",
       "    <tr>\n",
       "      <th>1</th>\n",
       "      <td>347016</td>\n",
       "      <td>2</td>\n",
       "      <td>15</td>\n",
       "      <td>12</td>\n",
       "      <td>2015-05-01 00:01:02</td>\n",
       "      <td>5</td>\n",
       "    </tr>\n",
       "    <tr>\n",
       "      <th>2</th>\n",
       "      <td>347017</td>\n",
       "      <td>2</td>\n",
       "      <td>15</td>\n",
       "      <td>12</td>\n",
       "      <td>2015-05-01 00:02:02</td>\n",
       "      <td>5</td>\n",
       "    </tr>\n",
       "    <tr>\n",
       "      <th>3</th>\n",
       "      <td>347018</td>\n",
       "      <td>2</td>\n",
       "      <td>15</td>\n",
       "      <td>12</td>\n",
       "      <td>2015-05-01 00:03:02</td>\n",
       "      <td>5</td>\n",
       "    </tr>\n",
       "    <tr>\n",
       "      <th>4</th>\n",
       "      <td>347019</td>\n",
       "      <td>2</td>\n",
       "      <td>15</td>\n",
       "      <td>12</td>\n",
       "      <td>2015-05-01 00:04:02</td>\n",
       "      <td>5</td>\n",
       "    </tr>\n",
       "  </tbody>\n",
       "</table>\n",
       "</div>"
      ],
      "text/plain": [
       "   Unnamed: 0  station_id  bikes_available  docks_available  \\\n",
       "0      347015           2               15               12   \n",
       "1      347016           2               15               12   \n",
       "2      347017           2               15               12   \n",
       "3      347018           2               15               12   \n",
       "4      347019           2               15               12   \n",
       "\n",
       "                  time  month  \n",
       "0  2015-05-01 00:00:02      5  \n",
       "1  2015-05-01 00:01:02      5  \n",
       "2  2015-05-01 00:02:02      5  \n",
       "3  2015-05-01 00:03:02      5  \n",
       "4  2015-05-01 00:04:02      5  "
      ]
     },
     "execution_count": 14,
     "metadata": {},
     "output_type": "execute_result"
    }
   ],
   "source": [
    "status_2015[0:5]"
   ]
  },
  {
   "cell_type": "code",
   "execution_count": 15,
   "metadata": {
    "collapsed": true
   },
   "outputs": [],
   "source": [
    "status_2015['time'] = pd.to_datetime(status_2015['time'])\n",
    "status_2015 = status_2015.set_index('time')"
   ]
  },
  {
   "cell_type": "code",
   "execution_count": 16,
   "metadata": {
    "collapsed": true
   },
   "outputs": [],
   "source": [
    "def bikes_available_for_datetime_and_station(dt, station_id):\n",
    "    return status_2015.query('station_id == @station_id').loc[dt].bikes_available"
   ]
  },
  {
   "cell_type": "code",
   "execution_count": 17,
   "metadata": {
    "collapsed": true
   },
   "outputs": [],
   "source": [
    "status_2015['hour'] = [ts.hour for ts in status_2015.index]\n",
    "status_2015['weekday'] = [ts.weekday() for ts in status_2015.index]"
   ]
  },
  {
   "cell_type": "code",
   "execution_count": 18,
   "metadata": {},
   "outputs": [],
   "source": [
    "means_2015 = status_2015.groupby(['weekday','station_id','hour']).mean()"
   ]
  },
  {
   "cell_type": "code",
   "execution_count": null,
   "metadata": {
    "collapsed": true
   },
   "outputs": [],
   "source": []
  },
  {
   "cell_type": "code",
   "execution_count": 19,
   "metadata": {
    "collapsed": true
   },
   "outputs": [],
   "source": [
    "station_50 = status_2015.query(\"station_id == 50\")\n",
    "station_69 = status_2015.query(\"station_id == 69\")\n",
    "station_70 = status_2015.query(\"station_id == 70\")"
   ]
  },
  {
   "cell_type": "markdown",
   "metadata": {},
   "source": [
    "In looking through this file I do not see information on company changes (nothing listed overtly), so I would like to use this to set the initial values for each day (midnight supply), and then calculate rates of change with trips data. "
   ]
  },
  {
   "cell_type": "markdown",
   "metadata": {},
   "source": [
    "## May 4, 2015"
   ]
  },
  {
   "cell_type": "markdown",
   "metadata": {},
   "source": [
    "Let's slice off a Monday and zoom in to see what we learn."
   ]
  },
  {
   "cell_type": "code",
   "execution_count": 19,
   "metadata": {
    "collapsed": true
   },
   "outputs": [],
   "source": [
    "may_4 = may_15.query('end_day == 4')"
   ]
  },
  {
   "cell_type": "code",
   "execution_count": 20,
   "metadata": {},
   "outputs": [
    {
     "name": "stdout",
     "output_type": "stream",
     "text": [
      "1294\n"
     ]
    }
   ],
   "source": [
    "print len(may_4)"
   ]
  },
  {
   "cell_type": "code",
   "execution_count": 22,
   "metadata": {},
   "outputs": [
    {
     "data": {
      "text/plain": [
       "<matplotlib.text.Text at 0x10efcded0>"
      ]
     },
     "execution_count": 22,
     "metadata": {},
     "output_type": "execute_result"
    },
    {
     "data": {
      "image/png": "[encoded data removed]",
      "text/plain": [
       "<matplotlib.figure.Figure at 0x10dda17d0>"
      ]
     },
     "metadata": {},
     "output_type": "display_data"
    },
    {
     "data": {
      "image/png": "[encoded data removed]",
      "text/plain": [
       "<matplotlib.figure.Figure at 0x10efb42d0>"
      ]
     },
     "metadata": {},
     "output_type": "display_data"
    }
   ],
   "source": [
    "departures_may_4 = may_4['start_station_id']\n",
    "departures_may_11 = may_11['start_station_id']\n",
    "arrivals_may_4 = may_4['end_station_id']\n",
    "arrivals_may_11 = may_11['end_station_id']\n",
    "\n",
    "plt.figure(1)\n",
    "\n",
    "plt.hist(departures_may_4, 84, histtype='stepfilled', color = '#4d5665')\n",
    "plt.title('May 4, 2015 Departures')\n",
    "plt.xlabel('Stations')\n",
    "plt.ylabel('Frequency')\n",
    "\n",
    "plt.figure(2)\n",
    "\n",
    "plt.hist(arrivals_may_4, 84, histtype='stepfilled', color = '#c8b9a4')\n",
    "plt.title('May 4, 2015 Arrivals')\n",
    "plt.xlabel('Stations')\n",
    "plt.ylabel('Frequency')"
   ]
  },
  {
   "cell_type": "markdown",
   "metadata": {},
   "source": [
    "As we say in our May data, we see more arrivals than departures for a few of the leading stations around 68. It would be good to calculate some deltas for each station across the entire day for these two days. "
   ]
  },
  {
   "cell_type": "markdown",
   "metadata": {},
   "source": [
    "### What are the top three most active stations?"
   ]
  },
  {
   "cell_type": "code",
   "execution_count": null,
   "metadata": {
    "collapsed": true
   },
   "outputs": [],
   "source": []
  },
  {
   "cell_type": "markdown",
   "metadata": {},
   "source": [
    "## Graph for May 4"
   ]
  },
  {
   "cell_type": "code",
   "execution_count": 7,
   "metadata": {},
   "outputs": [
    {
     "data": {
      "text/html": [
       "<div>\n",
       "<table border=\"1\" class=\"dataframe\">\n",
       "  <thead>\n",
       "    <tr style=\"text-align: right;\">\n",
       "      <th></th>\n",
       "      <th>Unnamed: 0</th>\n",
       "      <th>trip_id</th>\n",
       "      <th>duration_sec</th>\n",
       "      <th>start_date</th>\n",
       "      <th>start_station_name</th>\n",
       "      <th>start_station_id</th>\n",
       "      <th>end_date</th>\n",
       "      <th>end_station_name</th>\n",
       "      <th>end_station_id</th>\n",
       "      <th>bike_number</th>\n",
       "      <th>...</th>\n",
       "      <th>subscriber_type</th>\n",
       "      <th>start_just_date</th>\n",
       "      <th>end_just_date</th>\n",
       "      <th>year</th>\n",
       "      <th>month</th>\n",
       "      <th>start_day</th>\n",
       "      <th>start_time</th>\n",
       "      <th>end_day</th>\n",
       "      <th>end_time</th>\n",
       "      <th>end_yyyymmdd</th>\n",
       "    </tr>\n",
       "  </thead>\n",
       "  <tbody>\n",
       "    <tr>\n",
       "      <th>25</th>\n",
       "      <td>945</td>\n",
       "      <td>752508</td>\n",
       "      <td>758</td>\n",
       "      <td>2015-05-04 17:54:00</td>\n",
       "      <td>Embarcadero at Folsom</td>\n",
       "      <td>51</td>\n",
       "      <td>2015-05-04 18:07:00</td>\n",
       "      <td>San Francisco Caltrain 2 (330 Townsend)</td>\n",
       "      <td>69</td>\n",
       "      <td>509</td>\n",
       "      <td>...</td>\n",
       "      <td>Subscriber</td>\n",
       "      <td>2015-05-04</td>\n",
       "      <td>2015-05-04</td>\n",
       "      <td>2015</td>\n",
       "      <td>5</td>\n",
       "      <td>4</td>\n",
       "      <td>17:54:00</td>\n",
       "      <td>4</td>\n",
       "      <td>18:07:00</td>\n",
       "      <td>20150504</td>\n",
       "    </tr>\n",
       "    <tr>\n",
       "      <th>32</th>\n",
       "      <td>1192</td>\n",
       "      <td>752043</td>\n",
       "      <td>441</td>\n",
       "      <td>2015-05-04 14:28:00</td>\n",
       "      <td>2nd at South Park</td>\n",
       "      <td>64</td>\n",
       "      <td>2015-05-04 14:35:00</td>\n",
       "      <td>Yerba Buena Center of the Arts (3rd @ Howard)</td>\n",
       "      <td>68</td>\n",
       "      <td>687</td>\n",
       "      <td>...</td>\n",
       "      <td>Subscriber</td>\n",
       "      <td>2015-05-04</td>\n",
       "      <td>2015-05-04</td>\n",
       "      <td>2015</td>\n",
       "      <td>5</td>\n",
       "      <td>4</td>\n",
       "      <td>14:28:00</td>\n",
       "      <td>4</td>\n",
       "      <td>14:35:00</td>\n",
       "      <td>20150504</td>\n",
       "    </tr>\n",
       "    <tr>\n",
       "      <th>41</th>\n",
       "      <td>1413</td>\n",
       "      <td>752524</td>\n",
       "      <td>612</td>\n",
       "      <td>2015-05-04 18:01:00</td>\n",
       "      <td>Market at 10th</td>\n",
       "      <td>67</td>\n",
       "      <td>2015-05-04 18:11:00</td>\n",
       "      <td>San Francisco Caltrain 2 (330 Townsend)</td>\n",
       "      <td>69</td>\n",
       "      <td>309</td>\n",
       "      <td>...</td>\n",
       "      <td>Subscriber</td>\n",
       "      <td>2015-05-04</td>\n",
       "      <td>2015-05-04</td>\n",
       "      <td>2015</td>\n",
       "      <td>5</td>\n",
       "      <td>4</td>\n",
       "      <td>18:01:00</td>\n",
       "      <td>4</td>\n",
       "      <td>18:11:00</td>\n",
       "      <td>20150504</td>\n",
       "    </tr>\n",
       "    <tr>\n",
       "      <th>68</th>\n",
       "      <td>2228</td>\n",
       "      <td>751517</td>\n",
       "      <td>650</td>\n",
       "      <td>2015-05-04 08:40:00</td>\n",
       "      <td>Powell at Post (Union Square)</td>\n",
       "      <td>71</td>\n",
       "      <td>2015-05-04 08:51:00</td>\n",
       "      <td>San Francisco Caltrain (Townsend at 4th)</td>\n",
       "      <td>70</td>\n",
       "      <td>598</td>\n",
       "      <td>...</td>\n",
       "      <td>Subscriber</td>\n",
       "      <td>2015-05-04</td>\n",
       "      <td>2015-05-04</td>\n",
       "      <td>2015</td>\n",
       "      <td>5</td>\n",
       "      <td>4</td>\n",
       "      <td>08:40:00</td>\n",
       "      <td>4</td>\n",
       "      <td>08:51:00</td>\n",
       "      <td>20150504</td>\n",
       "    </tr>\n",
       "    <tr>\n",
       "      <th>78</th>\n",
       "      <td>2605</td>\n",
       "      <td>752621</td>\n",
       "      <td>348</td>\n",
       "      <td>2015-05-04 18:22:00</td>\n",
       "      <td>San Jose Diridon Caltrain Station</td>\n",
       "      <td>2</td>\n",
       "      <td>2015-05-04 18:28:00</td>\n",
       "      <td>San Pedro Square</td>\n",
       "      <td>6</td>\n",
       "      <td>205</td>\n",
       "      <td>...</td>\n",
       "      <td>Subscriber</td>\n",
       "      <td>2015-05-04</td>\n",
       "      <td>2015-05-04</td>\n",
       "      <td>2015</td>\n",
       "      <td>5</td>\n",
       "      <td>4</td>\n",
       "      <td>18:22:00</td>\n",
       "      <td>4</td>\n",
       "      <td>18:28:00</td>\n",
       "      <td>20150504</td>\n",
       "    </tr>\n",
       "  </tbody>\n",
       "</table>\n",
       "<p>5 rows × 21 columns</p>\n",
       "</div>"
      ],
      "text/plain": [
       "    Unnamed: 0  trip_id  duration_sec           start_date  \\\n",
       "25         945   752508           758  2015-05-04 17:54:00   \n",
       "32        1192   752043           441  2015-05-04 14:28:00   \n",
       "41        1413   752524           612  2015-05-04 18:01:00   \n",
       "68        2228   751517           650  2015-05-04 08:40:00   \n",
       "78        2605   752621           348  2015-05-04 18:22:00   \n",
       "\n",
       "                   start_station_name  start_station_id             end_date  \\\n",
       "25              Embarcadero at Folsom                51  2015-05-04 18:07:00   \n",
       "32                  2nd at South Park                64  2015-05-04 14:35:00   \n",
       "41                     Market at 10th                67  2015-05-04 18:11:00   \n",
       "68      Powell at Post (Union Square)                71  2015-05-04 08:51:00   \n",
       "78  San Jose Diridon Caltrain Station                 2  2015-05-04 18:28:00   \n",
       "\n",
       "                                 end_station_name  end_station_id  \\\n",
       "25        San Francisco Caltrain 2 (330 Townsend)              69   \n",
       "32  Yerba Buena Center of the Arts (3rd @ Howard)              68   \n",
       "41        San Francisco Caltrain 2 (330 Townsend)              69   \n",
       "68       San Francisco Caltrain (Townsend at 4th)              70   \n",
       "78                               San Pedro Square               6   \n",
       "\n",
       "    bike_number     ...      subscriber_type start_just_date end_just_date  \\\n",
       "25          509     ...           Subscriber      2015-05-04    2015-05-04   \n",
       "32          687     ...           Subscriber      2015-05-04    2015-05-04   \n",
       "41          309     ...           Subscriber      2015-05-04    2015-05-04   \n",
       "68          598     ...           Subscriber      2015-05-04    2015-05-04   \n",
       "78          205     ...           Subscriber      2015-05-04    2015-05-04   \n",
       "\n",
       "    year  month  start_day  start_time end_day  end_time end_yyyymmdd  \n",
       "25  2015      5          4    17:54:00       4  18:07:00     20150504  \n",
       "32  2015      5          4    14:28:00       4  14:35:00     20150504  \n",
       "41  2015      5          4    18:01:00       4  18:11:00     20150504  \n",
       "68  2015      5          4    08:40:00       4  08:51:00     20150504  \n",
       "78  2015      5          4    18:22:00       4  18:28:00     20150504  \n",
       "\n",
       "[5 rows x 21 columns]"
      ]
     },
     "execution_count": 7,
     "metadata": {},
     "output_type": "execute_result"
    }
   ],
   "source": [
    "may_4[0:5]"
   ]
  },
  {
   "cell_type": "markdown",
   "metadata": {},
   "source": [
    "### Object Oriented approach"
   ]
  },
  {
   "cell_type": "code",
   "execution_count": 8,
   "metadata": {
    "collapsed": true
   },
   "outputs": [],
   "source": [
    "# Object oriented option\n",
    "%autoreload\n",
    "from network import Stations"
   ]
  },
  {
   "cell_type": "markdown",
   "metadata": {},
   "source": [
    "### SciPy matrix model approach"
   ]
  },
  {
   "cell_type": "code",
   "execution_count": 9,
   "metadata": {
    "collapsed": true
   },
   "outputs": [],
   "source": [
    "# Define matrix for SciPy graph modeling - https://docs.scipy.org/doc/scipy/reference/sparse.csgraph.html\n",
    "d = np.zeros([84, 84])"
   ]
  },
  {
   "cell_type": "code",
   "execution_count": 10,
   "metadata": {},
   "outputs": [
    {
     "data": {
      "text/plain": [
       "Index([u'Unnamed: 0', u'trip_id', u'duration_sec', u'start_date',\n",
       "       u'start_station_name', u'start_station_id', u'end_date',\n",
       "       u'end_station_name', u'end_station_id', u'bike_number', u'zip_code',\n",
       "       u'subscriber_type', u'start_just_date', u'end_just_date', u'year',\n",
       "       u'month', u'start_day', u'start_time', u'end_day', u'end_time',\n",
       "       u'end_yyyymmdd'],\n",
       "      dtype='object')"
      ]
     },
     "execution_count": 10,
     "metadata": {},
     "output_type": "execute_result"
    }
   ],
   "source": [
    "may_4.columns"
   ]
  },
  {
   "cell_type": "code",
   "execution_count": 11,
   "metadata": {
    "collapsed": true
   },
   "outputs": [],
   "source": [
    "# Create matrix of station counts\n",
    "for i, row in may_4.iterrows():\n",
    "    d[row['start_station_id']-1][row['end_station_id']-1] += 1"
   ]
  },
  {
   "cell_type": "code",
   "execution_count": 12,
   "metadata": {},
   "outputs": [
    {
     "data": {
      "text/plain": [
       "array([[ 0.,  0.,  0.,  0.,  0.,  0.,  0.,  0.,  0.,  0.,  0.,  0.,  0.,\n",
       "         0.,  0.,  0.,  0.,  0.,  0.,  0.,  0.,  0.,  0.,  0.,  0.,  0.,\n",
       "         0.,  0.,  0.,  0.,  0.,  0.,  0.,  0.,  0.,  0.,  0.,  0.,  0.,\n",
       "         0.,  0.,  0.,  0.,  0.,  0.,  0.,  0.,  0.,  0.,  0.,  0.,  0.,\n",
       "         0.,  0.,  0.,  0.,  0.,  0.,  0.,  0.,  0.,  0.,  0.,  0.,  0.,\n",
       "         0.,  0.,  0.,  0.,  0.,  0.,  0.,  0.,  0.,  0.,  0.,  0.,  0.,\n",
       "         0.,  0.,  0.,  0.,  0.,  0.],\n",
       "       [ 0.,  0.,  3.,  6.,  0.,  3.,  4.,  0.,  0.,  0.,  2.,  1.,  2.,\n",
       "         0.,  0.,  1.,  0.,  0.,  0.,  0.,  0.,  0.,  0.,  0.,  0.,  0.,\n",
       "         0.,  0.,  0.,  0.,  0.,  0.,  0.,  0.,  0.,  0.,  0.,  0.,  0.,\n",
       "         0.,  0.,  0.,  0.,  0.,  0.,  0.,  0.,  0.,  0.,  0.,  0.,  0.,\n",
       "         0.,  0.,  0.,  0.,  0.,  0.,  0.,  0.,  0.,  0.,  0.,  0.,  0.,\n",
       "         0.,  0.,  0.,  0.,  0.,  0.,  0.,  0.,  0.,  0.,  0.,  0.,  0.,\n",
       "         0.,  0.,  0.,  0.,  0.,  0.]])"
      ]
     },
     "execution_count": 12,
     "metadata": {},
     "output_type": "execute_result"
    }
   ],
   "source": [
    "d[0:2]"
   ]
  },
  {
   "cell_type": "code",
   "execution_count": 13,
   "metadata": {
    "collapsed": true
   },
   "outputs": [],
   "source": [
    "import scipy as sp\n",
    "from scipy.sparse import csgraph"
   ]
  },
  {
   "cell_type": "code",
   "execution_count": 16,
   "metadata": {
    "collapsed": true
   },
   "outputs": [],
   "source": [
    "test = csgraph.connected_components(d)"
   ]
  },
  {
   "cell_type": "code",
   "execution_count": 17,
   "metadata": {},
   "outputs": [
    {
     "data": {
      "text/plain": [
       "(25, array([ 0,  1,  1,  1,  1,  1,  1,  2,  1,  1,  1,  1,  1,  1,  3,  1,  4,\n",
       "         5,  6,  7,  8,  9, 10, 11, 12,  9, 13, 13, 13, 13, 13, 13, 13, 14,\n",
       "        15, 14, 14, 14, 16, 17, 16, 16, 18, 19, 16, 16, 16, 16, 16, 16, 16,\n",
       "        20, 21, 16, 16, 16, 16, 16, 16, 16, 16, 16, 16, 16, 16, 16, 16, 16,\n",
       "        16, 16, 16, 16, 16, 16, 16, 16, 16, 22, 23,  1, 24, 16,  9,  1], dtype=int32))"
      ]
     },
     "execution_count": 17,
     "metadata": {},
     "output_type": "execute_result"
    }
   ],
   "source": [
    "test[0:2]"
   ]
  },
  {
   "cell_type": "code",
   "execution_count": null,
   "metadata": {
    "collapsed": true
   },
   "outputs": [],
   "source": []
  }
 ],
 "metadata": {
  "anaconda-cloud": {},
  "kernelspec": {
   "display_name": "Python [conda root]",
   "language": "python",
   "name": "conda-root-py"
  },
  "language_info": {
   "codemirror_mode": {
    "name": "ipython",
    "version": 2
   },
   "file_extension": ".py",
   "mimetype": "text/x-python",
   "name": "python",
   "nbconvert_exporter": "python",
   "pygments_lexer": "ipython2",
   "version": "2.7.12"
  }
 },
 "nbformat": 4,
 "nbformat_minor": 2
}
