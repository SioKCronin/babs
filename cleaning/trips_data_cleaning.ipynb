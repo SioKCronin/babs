{
 "cells": [
  {
   "cell_type": "markdown",
   "metadata": {},
   "source": [
    "# Trips Data Cleaning"
   ]
  },
  {
   "cell_type": "markdown",
   "metadata": {},
   "source": [
    "## Summary"
   ]
  },
  {
   "cell_type": "markdown",
   "metadata": {},
   "source": [
    "Bike Supply is a PyMC3-driven Bayesian predictive model of an urban bike share company's supply-demand dynamics. This model was built using public data supplied by Bay Area Bike Share. This model was built to answer the question - is it possible to build a model that predicts the volume of bikes entering and leaving a station for any given day of the year?\n",
    "\n",
    "Bike sharing programs have the unique challenge of needing to ensure bikes and docking stations are available throughout the city for users throughout the day, even though users have the freedom to choose their own destinations rental by rental. "
   ]
  },
  {
   "cell_type": "markdown",
   "metadata": {},
   "source": [
    "## Load"
   ]
  },
  {
   "cell_type": "code",
   "execution_count": 1,
   "metadata": {},
   "outputs": [
    {
     "ename": "IOError",
     "evalue": "File big_query_data.csv does not exist",
     "output_type": "error",
     "traceback": [
      "\u001b[0;31m---------------------------------------------------------------------------\u001b[0m",
      "\u001b[0;31mIOError\u001b[0m                                   Traceback (most recent call last)",
      "\u001b[0;32m<ipython-input-1-b7cb54d4bd27>\u001b[0m in \u001b[0;36m<module>\u001b[0;34m()\u001b[0m\n\u001b[1;32m      6\u001b[0m \u001b[0;32mimport\u001b[0m \u001b[0mpprint\u001b[0m\u001b[0;34m\u001b[0m\u001b[0m\n\u001b[1;32m      7\u001b[0m \u001b[0;34m\u001b[0m\u001b[0m\n\u001b[0;32m----> 8\u001b[0;31m \u001b[0mdata\u001b[0m \u001b[0;34m=\u001b[0m \u001b[0mpd\u001b[0m\u001b[0;34m.\u001b[0m\u001b[0mread_csv\u001b[0m\u001b[0;34m(\u001b[0m\u001b[0;34m'big_query_data.csv'\u001b[0m\u001b[0;34m)\u001b[0m\u001b[0;34m\u001b[0m\u001b[0m\n\u001b[0m",
      "\u001b[0;32m/Users/siobhan/anaconda/lib/python2.7/site-packages/pandas/io/parsers.pyc\u001b[0m in \u001b[0;36mparser_f\u001b[0;34m(filepath_or_buffer, sep, delimiter, header, names, index_col, usecols, squeeze, prefix, mangle_dupe_cols, dtype, engine, converters, true_values, false_values, skipinitialspace, skiprows, nrows, na_values, keep_default_na, na_filter, verbose, skip_blank_lines, parse_dates, infer_datetime_format, keep_date_col, date_parser, dayfirst, iterator, chunksize, compression, thousands, decimal, lineterminator, quotechar, quoting, escapechar, comment, encoding, dialect, tupleize_cols, error_bad_lines, warn_bad_lines, skipfooter, skip_footer, doublequote, delim_whitespace, as_recarray, compact_ints, use_unsigned, low_memory, buffer_lines, memory_map, float_precision)\u001b[0m\n\u001b[1;32m    644\u001b[0m                     skip_blank_lines=skip_blank_lines)\n\u001b[1;32m    645\u001b[0m \u001b[0;34m\u001b[0m\u001b[0m\n\u001b[0;32m--> 646\u001b[0;31m         \u001b[0;32mreturn\u001b[0m \u001b[0m_read\u001b[0m\u001b[0;34m(\u001b[0m\u001b[0mfilepath_or_buffer\u001b[0m\u001b[0;34m,\u001b[0m \u001b[0mkwds\u001b[0m\u001b[0;34m)\u001b[0m\u001b[0;34m\u001b[0m\u001b[0m\n\u001b[0m\u001b[1;32m    647\u001b[0m \u001b[0;34m\u001b[0m\u001b[0m\n\u001b[1;32m    648\u001b[0m     \u001b[0mparser_f\u001b[0m\u001b[0;34m.\u001b[0m\u001b[0m__name__\u001b[0m \u001b[0;34m=\u001b[0m \u001b[0mname\u001b[0m\u001b[0;34m\u001b[0m\u001b[0m\n",
      "\u001b[0;32m/Users/siobhan/anaconda/lib/python2.7/site-packages/pandas/io/parsers.pyc\u001b[0m in \u001b[0;36m_read\u001b[0;34m(filepath_or_buffer, kwds)\u001b[0m\n\u001b[1;32m    387\u001b[0m \u001b[0;34m\u001b[0m\u001b[0m\n\u001b[1;32m    388\u001b[0m     \u001b[0;31m# Create the parser.\u001b[0m\u001b[0;34m\u001b[0m\u001b[0;34m\u001b[0m\u001b[0m\n\u001b[0;32m--> 389\u001b[0;31m     \u001b[0mparser\u001b[0m \u001b[0;34m=\u001b[0m \u001b[0mTextFileReader\u001b[0m\u001b[0;34m(\u001b[0m\u001b[0mfilepath_or_buffer\u001b[0m\u001b[0;34m,\u001b[0m \u001b[0;34m**\u001b[0m\u001b[0mkwds\u001b[0m\u001b[0;34m)\u001b[0m\u001b[0;34m\u001b[0m\u001b[0m\n\u001b[0m\u001b[1;32m    390\u001b[0m \u001b[0;34m\u001b[0m\u001b[0m\n\u001b[1;32m    391\u001b[0m     \u001b[0;32mif\u001b[0m \u001b[0;34m(\u001b[0m\u001b[0mnrows\u001b[0m \u001b[0;32mis\u001b[0m \u001b[0;32mnot\u001b[0m \u001b[0mNone\u001b[0m\u001b[0;34m)\u001b[0m \u001b[0;32mand\u001b[0m \u001b[0;34m(\u001b[0m\u001b[0mchunksize\u001b[0m \u001b[0;32mis\u001b[0m \u001b[0;32mnot\u001b[0m \u001b[0mNone\u001b[0m\u001b[0;34m)\u001b[0m\u001b[0;34m:\u001b[0m\u001b[0;34m\u001b[0m\u001b[0m\n",
      "\u001b[0;32m/Users/siobhan/anaconda/lib/python2.7/site-packages/pandas/io/parsers.pyc\u001b[0m in \u001b[0;36m__init__\u001b[0;34m(self, f, engine, **kwds)\u001b[0m\n\u001b[1;32m    728\u001b[0m             \u001b[0mself\u001b[0m\u001b[0;34m.\u001b[0m\u001b[0moptions\u001b[0m\u001b[0;34m[\u001b[0m\u001b[0;34m'has_index_names'\u001b[0m\u001b[0;34m]\u001b[0m \u001b[0;34m=\u001b[0m \u001b[0mkwds\u001b[0m\u001b[0;34m[\u001b[0m\u001b[0;34m'has_index_names'\u001b[0m\u001b[0;34m]\u001b[0m\u001b[0;34m\u001b[0m\u001b[0m\n\u001b[1;32m    729\u001b[0m \u001b[0;34m\u001b[0m\u001b[0m\n\u001b[0;32m--> 730\u001b[0;31m         \u001b[0mself\u001b[0m\u001b[0;34m.\u001b[0m\u001b[0m_make_engine\u001b[0m\u001b[0;34m(\u001b[0m\u001b[0mself\u001b[0m\u001b[0;34m.\u001b[0m\u001b[0mengine\u001b[0m\u001b[0;34m)\u001b[0m\u001b[0;34m\u001b[0m\u001b[0m\n\u001b[0m\u001b[1;32m    731\u001b[0m \u001b[0;34m\u001b[0m\u001b[0m\n\u001b[1;32m    732\u001b[0m     \u001b[0;32mdef\u001b[0m \u001b[0mclose\u001b[0m\u001b[0;34m(\u001b[0m\u001b[0mself\u001b[0m\u001b[0;34m)\u001b[0m\u001b[0;34m:\u001b[0m\u001b[0;34m\u001b[0m\u001b[0m\n",
      "\u001b[0;32m/Users/siobhan/anaconda/lib/python2.7/site-packages/pandas/io/parsers.pyc\u001b[0m in \u001b[0;36m_make_engine\u001b[0;34m(self, engine)\u001b[0m\n\u001b[1;32m    921\u001b[0m     \u001b[0;32mdef\u001b[0m \u001b[0m_make_engine\u001b[0m\u001b[0;34m(\u001b[0m\u001b[0mself\u001b[0m\u001b[0;34m,\u001b[0m \u001b[0mengine\u001b[0m\u001b[0;34m=\u001b[0m\u001b[0;34m'c'\u001b[0m\u001b[0;34m)\u001b[0m\u001b[0;34m:\u001b[0m\u001b[0;34m\u001b[0m\u001b[0m\n\u001b[1;32m    922\u001b[0m         \u001b[0;32mif\u001b[0m \u001b[0mengine\u001b[0m \u001b[0;34m==\u001b[0m \u001b[0;34m'c'\u001b[0m\u001b[0;34m:\u001b[0m\u001b[0;34m\u001b[0m\u001b[0m\n\u001b[0;32m--> 923\u001b[0;31m             \u001b[0mself\u001b[0m\u001b[0;34m.\u001b[0m\u001b[0m_engine\u001b[0m \u001b[0;34m=\u001b[0m \u001b[0mCParserWrapper\u001b[0m\u001b[0;34m(\u001b[0m\u001b[0mself\u001b[0m\u001b[0;34m.\u001b[0m\u001b[0mf\u001b[0m\u001b[0;34m,\u001b[0m \u001b[0;34m**\u001b[0m\u001b[0mself\u001b[0m\u001b[0;34m.\u001b[0m\u001b[0moptions\u001b[0m\u001b[0;34m)\u001b[0m\u001b[0;34m\u001b[0m\u001b[0m\n\u001b[0m\u001b[1;32m    924\u001b[0m         \u001b[0;32melse\u001b[0m\u001b[0;34m:\u001b[0m\u001b[0;34m\u001b[0m\u001b[0m\n\u001b[1;32m    925\u001b[0m             \u001b[0;32mif\u001b[0m \u001b[0mengine\u001b[0m \u001b[0;34m==\u001b[0m \u001b[0;34m'python'\u001b[0m\u001b[0;34m:\u001b[0m\u001b[0;34m\u001b[0m\u001b[0m\n",
      "\u001b[0;32m/Users/siobhan/anaconda/lib/python2.7/site-packages/pandas/io/parsers.pyc\u001b[0m in \u001b[0;36m__init__\u001b[0;34m(self, src, **kwds)\u001b[0m\n\u001b[1;32m   1388\u001b[0m         \u001b[0mkwds\u001b[0m\u001b[0;34m[\u001b[0m\u001b[0;34m'allow_leading_cols'\u001b[0m\u001b[0;34m]\u001b[0m \u001b[0;34m=\u001b[0m \u001b[0mself\u001b[0m\u001b[0;34m.\u001b[0m\u001b[0mindex_col\u001b[0m \u001b[0;32mis\u001b[0m \u001b[0;32mnot\u001b[0m \u001b[0mFalse\u001b[0m\u001b[0;34m\u001b[0m\u001b[0m\n\u001b[1;32m   1389\u001b[0m \u001b[0;34m\u001b[0m\u001b[0m\n\u001b[0;32m-> 1390\u001b[0;31m         \u001b[0mself\u001b[0m\u001b[0;34m.\u001b[0m\u001b[0m_reader\u001b[0m \u001b[0;34m=\u001b[0m \u001b[0m_parser\u001b[0m\u001b[0;34m.\u001b[0m\u001b[0mTextReader\u001b[0m\u001b[0;34m(\u001b[0m\u001b[0msrc\u001b[0m\u001b[0;34m,\u001b[0m \u001b[0;34m**\u001b[0m\u001b[0mkwds\u001b[0m\u001b[0;34m)\u001b[0m\u001b[0;34m\u001b[0m\u001b[0m\n\u001b[0m\u001b[1;32m   1391\u001b[0m \u001b[0;34m\u001b[0m\u001b[0m\n\u001b[1;32m   1392\u001b[0m         \u001b[0;31m# XXX\u001b[0m\u001b[0;34m\u001b[0m\u001b[0;34m\u001b[0m\u001b[0m\n",
      "\u001b[0;32mpandas/parser.pyx\u001b[0m in \u001b[0;36mpandas.parser.TextReader.__cinit__ (pandas/parser.c:4184)\u001b[0;34m()\u001b[0m\n",
      "\u001b[0;32mpandas/parser.pyx\u001b[0m in \u001b[0;36mpandas.parser.TextReader._setup_parser_source (pandas/parser.c:8449)\u001b[0;34m()\u001b[0m\n",
      "\u001b[0;31mIOError\u001b[0m: File big_query_data.csv does not exist"
     ]
    }
   ],
   "source": [
    "%matplotlib inline\n",
    "import pandas as pd\n",
    "import numpy as np\n",
    "import matplotlib.pyplot as plt\n",
    "plt.style.use('ggplot')\n",
    "import pprint\n",
    "\n",
    "data = pd.read_csv('big_query_data.csv')"
   ]
  },
  {
   "cell_type": "code",
   "execution_count": 2,
   "metadata": {},
   "outputs": [
    {
     "data": {
      "text/html": [
       "<div>\n",
       "<table border=\"1\" class=\"dataframe\">\n",
       "  <thead>\n",
       "    <tr style=\"text-align: right;\">\n",
       "      <th></th>\n",
       "      <th>trip_id</th>\n",
       "      <th>duration_sec</th>\n",
       "      <th>start_date</th>\n",
       "      <th>start_station_name</th>\n",
       "      <th>start_station_id</th>\n",
       "      <th>end_date</th>\n",
       "      <th>end_station_name</th>\n",
       "      <th>end_station_id</th>\n",
       "      <th>bike_number</th>\n",
       "      <th>zip_code</th>\n",
       "      <th>subscriber_type</th>\n",
       "    </tr>\n",
       "  </thead>\n",
       "  <tbody>\n",
       "    <tr>\n",
       "      <th>0</th>\n",
       "      <td>650330</td>\n",
       "      <td>495</td>\n",
       "      <td>2015-02-19 15:46:00 UTC</td>\n",
       "      <td>Yerba Buena Center of the Arts (3rd @ Howard)</td>\n",
       "      <td>68</td>\n",
       "      <td>2015-02-19 15:54:00 UTC</td>\n",
       "      <td>San Francisco Caltrain 2 (330 Townsend)</td>\n",
       "      <td>69</td>\n",
       "      <td>463</td>\n",
       "      <td>94061</td>\n",
       "      <td>Subscriber</td>\n",
       "    </tr>\n",
       "    <tr>\n",
       "      <th>1</th>\n",
       "      <td>367544</td>\n",
       "      <td>241</td>\n",
       "      <td>2014-07-17 08:09:00 UTC</td>\n",
       "      <td>San Francisco Caltrain 2 (330 Townsend)</td>\n",
       "      <td>69</td>\n",
       "      <td>2014-07-17 08:13:00 UTC</td>\n",
       "      <td>Townsend at 7th</td>\n",
       "      <td>65</td>\n",
       "      <td>441</td>\n",
       "      <td>95120</td>\n",
       "      <td>Subscriber</td>\n",
       "    </tr>\n",
       "    <tr>\n",
       "      <th>2</th>\n",
       "      <td>586344</td>\n",
       "      <td>3589</td>\n",
       "      <td>2014-12-27 16:01:00 UTC</td>\n",
       "      <td>Embarcadero at Bryant</td>\n",
       "      <td>54</td>\n",
       "      <td>2014-12-27 17:01:00 UTC</td>\n",
       "      <td>2nd at Townsend</td>\n",
       "      <td>61</td>\n",
       "      <td>466</td>\n",
       "      <td>27401</td>\n",
       "      <td>Customer</td>\n",
       "    </tr>\n",
       "    <tr>\n",
       "      <th>3</th>\n",
       "      <td>772874</td>\n",
       "      <td>733</td>\n",
       "      <td>2015-05-19 09:50:00 UTC</td>\n",
       "      <td>Davis at Jackson</td>\n",
       "      <td>42</td>\n",
       "      <td>2015-05-19 10:02:00 UTC</td>\n",
       "      <td>2nd at Townsend</td>\n",
       "      <td>61</td>\n",
       "      <td>501</td>\n",
       "      <td>94111</td>\n",
       "      <td>Subscriber</td>\n",
       "    </tr>\n",
       "    <tr>\n",
       "      <th>4</th>\n",
       "      <td>419431</td>\n",
       "      <td>302</td>\n",
       "      <td>2014-08-21 19:11:00 UTC</td>\n",
       "      <td>5th at Howard</td>\n",
       "      <td>57</td>\n",
       "      <td>2014-08-21 19:16:00 UTC</td>\n",
       "      <td>San Francisco Caltrain (Townsend at 4th)</td>\n",
       "      <td>70</td>\n",
       "      <td>392</td>\n",
       "      <td>95110</td>\n",
       "      <td>Subscriber</td>\n",
       "    </tr>\n",
       "  </tbody>\n",
       "</table>\n",
       "</div>"
      ],
      "text/plain": [
       "   trip_id  duration_sec               start_date  \\\n",
       "0   650330           495  2015-02-19 15:46:00 UTC   \n",
       "1   367544           241  2014-07-17 08:09:00 UTC   \n",
       "2   586344          3589  2014-12-27 16:01:00 UTC   \n",
       "3   772874           733  2015-05-19 09:50:00 UTC   \n",
       "4   419431           302  2014-08-21 19:11:00 UTC   \n",
       "\n",
       "                              start_station_name  start_station_id  \\\n",
       "0  Yerba Buena Center of the Arts (3rd @ Howard)                68   \n",
       "1        San Francisco Caltrain 2 (330 Townsend)                69   \n",
       "2                          Embarcadero at Bryant                54   \n",
       "3                               Davis at Jackson                42   \n",
       "4                                  5th at Howard                57   \n",
       "\n",
       "                  end_date                          end_station_name  \\\n",
       "0  2015-02-19 15:54:00 UTC   San Francisco Caltrain 2 (330 Townsend)   \n",
       "1  2014-07-17 08:13:00 UTC                           Townsend at 7th   \n",
       "2  2014-12-27 17:01:00 UTC                           2nd at Townsend   \n",
       "3  2015-05-19 10:02:00 UTC                           2nd at Townsend   \n",
       "4  2014-08-21 19:16:00 UTC  San Francisco Caltrain (Townsend at 4th)   \n",
       "\n",
       "   end_station_id  bike_number zip_code subscriber_type  \n",
       "0              69          463    94061      Subscriber  \n",
       "1              65          441    95120      Subscriber  \n",
       "2              61          466    27401        Customer  \n",
       "3              61          501    94111      Subscriber  \n",
       "4              70          392    95110      Subscriber  "
      ]
     },
     "execution_count": 2,
     "metadata": {},
     "output_type": "execute_result"
    }
   ],
   "source": [
    "data[0:5]"
   ]
  },
  {
   "cell_type": "code",
   "execution_count": 3,
   "metadata": {},
   "outputs": [
    {
     "name": "stdout",
     "output_type": "stream",
     "text": [
      "Number of stations: 84\n",
      "Number of bikes: 700\n",
      "Number of trips logged: 983648\n"
     ]
    }
   ],
   "source": [
    "print \"Number of stations:\",len(data.start_station_name.unique())\n",
    "print \"Number of bikes:\", len(data.bike_number.unique())\n",
    "print \"Number of trips logged:\", len(data)"
   ]
  },
  {
   "cell_type": "code",
   "execution_count": 4,
   "metadata": {
    "collapsed": true
   },
   "outputs": [],
   "source": [
    "# Remove UTC from datatime !!Don't do this more than once!!\n",
    "data['start_date'] = data['start_date'].astype(str).str[:-3]"
   ]
  },
  {
   "cell_type": "code",
   "execution_count": 5,
   "metadata": {
    "collapsed": true
   },
   "outputs": [],
   "source": [
    "data['start_date'] = pd.to_datetime(data['start_date'])"
   ]
  },
  {
   "cell_type": "code",
   "execution_count": 6,
   "metadata": {
    "collapsed": true
   },
   "outputs": [],
   "source": [
    "data['end_date'] = pd.to_datetime(data['end_date'])"
   ]
  },
  {
   "cell_type": "code",
   "execution_count": 7,
   "metadata": {},
   "outputs": [
    {
     "data": {
      "text/html": [
       "<div>\n",
       "<table border=\"1\" class=\"dataframe\">\n",
       "  <thead>\n",
       "    <tr style=\"text-align: right;\">\n",
       "      <th></th>\n",
       "      <th>trip_id</th>\n",
       "      <th>duration_sec</th>\n",
       "      <th>start_date</th>\n",
       "      <th>start_station_name</th>\n",
       "      <th>start_station_id</th>\n",
       "      <th>end_date</th>\n",
       "      <th>end_station_name</th>\n",
       "      <th>end_station_id</th>\n",
       "      <th>bike_number</th>\n",
       "      <th>zip_code</th>\n",
       "      <th>subscriber_type</th>\n",
       "    </tr>\n",
       "  </thead>\n",
       "  <tbody>\n",
       "    <tr>\n",
       "      <th>0</th>\n",
       "      <td>650330</td>\n",
       "      <td>495</td>\n",
       "      <td>2015-02-19 15:46:00</td>\n",
       "      <td>Yerba Buena Center of the Arts (3rd @ Howard)</td>\n",
       "      <td>68</td>\n",
       "      <td>2015-02-19 15:54:00</td>\n",
       "      <td>San Francisco Caltrain 2 (330 Townsend)</td>\n",
       "      <td>69</td>\n",
       "      <td>463</td>\n",
       "      <td>94061</td>\n",
       "      <td>Subscriber</td>\n",
       "    </tr>\n",
       "    <tr>\n",
       "      <th>1</th>\n",
       "      <td>367544</td>\n",
       "      <td>241</td>\n",
       "      <td>2014-07-17 08:09:00</td>\n",
       "      <td>San Francisco Caltrain 2 (330 Townsend)</td>\n",
       "      <td>69</td>\n",
       "      <td>2014-07-17 08:13:00</td>\n",
       "      <td>Townsend at 7th</td>\n",
       "      <td>65</td>\n",
       "      <td>441</td>\n",
       "      <td>95120</td>\n",
       "      <td>Subscriber</td>\n",
       "    </tr>\n",
       "    <tr>\n",
       "      <th>2</th>\n",
       "      <td>586344</td>\n",
       "      <td>3589</td>\n",
       "      <td>2014-12-27 16:01:00</td>\n",
       "      <td>Embarcadero at Bryant</td>\n",
       "      <td>54</td>\n",
       "      <td>2014-12-27 17:01:00</td>\n",
       "      <td>2nd at Townsend</td>\n",
       "      <td>61</td>\n",
       "      <td>466</td>\n",
       "      <td>27401</td>\n",
       "      <td>Customer</td>\n",
       "    </tr>\n",
       "  </tbody>\n",
       "</table>\n",
       "</div>"
      ],
      "text/plain": [
       "   trip_id  duration_sec          start_date  \\\n",
       "0   650330           495 2015-02-19 15:46:00   \n",
       "1   367544           241 2014-07-17 08:09:00   \n",
       "2   586344          3589 2014-12-27 16:01:00   \n",
       "\n",
       "                              start_station_name  start_station_id  \\\n",
       "0  Yerba Buena Center of the Arts (3rd @ Howard)                68   \n",
       "1        San Francisco Caltrain 2 (330 Townsend)                69   \n",
       "2                          Embarcadero at Bryant                54   \n",
       "\n",
       "             end_date                         end_station_name  \\\n",
       "0 2015-02-19 15:54:00  San Francisco Caltrain 2 (330 Townsend)   \n",
       "1 2014-07-17 08:13:00                          Townsend at 7th   \n",
       "2 2014-12-27 17:01:00                          2nd at Townsend   \n",
       "\n",
       "   end_station_id  bike_number zip_code subscriber_type  \n",
       "0              69          463    94061      Subscriber  \n",
       "1              65          441    95120      Subscriber  \n",
       "2              61          466    27401        Customer  "
      ]
     },
     "execution_count": 7,
     "metadata": {},
     "output_type": "execute_result"
    }
   ],
   "source": [
    "data[0:3]"
   ]
  },
  {
   "cell_type": "code",
   "execution_count": 8,
   "metadata": {},
   "outputs": [
    {
     "name": "stdout",
     "output_type": "stream",
     "text": [
      "Number of years in dataset: 4\n"
     ]
    }
   ],
   "source": [
    "print \"Number of years in dataset:\", len(data.start_date.dt.year.unique())"
   ]
  },
  {
   "cell_type": "code",
   "execution_count": 9,
   "metadata": {
    "collapsed": true
   },
   "outputs": [],
   "source": [
    "data['start_just_date'] = data.start_date.dt.date"
   ]
  },
  {
   "cell_type": "code",
   "execution_count": 10,
   "metadata": {
    "collapsed": true
   },
   "outputs": [],
   "source": [
    "data['end_just_date'] = data.end_date.dt.date"
   ]
  },
  {
   "cell_type": "code",
   "execution_count": 11,
   "metadata": {
    "collapsed": true
   },
   "outputs": [],
   "source": [
    "data['year'] = data.start_date.dt.year"
   ]
  },
  {
   "cell_type": "code",
   "execution_count": 12,
   "metadata": {
    "collapsed": true
   },
   "outputs": [],
   "source": [
    "data['month'] = data.start_date.dt.month"
   ]
  },
  {
   "cell_type": "code",
   "execution_count": 13,
   "metadata": {
    "collapsed": true
   },
   "outputs": [],
   "source": [
    "data['start_day'] = data.start_date.dt.day"
   ]
  },
  {
   "cell_type": "code",
   "execution_count": 14,
   "metadata": {
    "collapsed": true
   },
   "outputs": [],
   "source": [
    "data['start_time'] = data.start_date.dt.time"
   ]
  },
  {
   "cell_type": "code",
   "execution_count": 15,
   "metadata": {
    "collapsed": true
   },
   "outputs": [],
   "source": [
    "data['end_day'] = data.end_date.dt.day"
   ]
  },
  {
   "cell_type": "code",
   "execution_count": 16,
   "metadata": {
    "collapsed": true
   },
   "outputs": [],
   "source": [
    "data['end_time'] = data.end_date.dt.time"
   ]
  },
  {
   "cell_type": "code",
   "execution_count": 17,
   "metadata": {},
   "outputs": [
    {
     "data": {
      "text/html": [
       "<div>\n",
       "<table border=\"1\" class=\"dataframe\">\n",
       "  <thead>\n",
       "    <tr style=\"text-align: right;\">\n",
       "      <th></th>\n",
       "      <th>trip_id</th>\n",
       "      <th>duration_sec</th>\n",
       "      <th>start_date</th>\n",
       "      <th>start_station_name</th>\n",
       "      <th>start_station_id</th>\n",
       "      <th>end_date</th>\n",
       "      <th>end_station_name</th>\n",
       "      <th>end_station_id</th>\n",
       "      <th>bike_number</th>\n",
       "      <th>zip_code</th>\n",
       "      <th>subscriber_type</th>\n",
       "      <th>start_just_date</th>\n",
       "      <th>end_just_date</th>\n",
       "      <th>year</th>\n",
       "      <th>month</th>\n",
       "      <th>start_day</th>\n",
       "      <th>start_time</th>\n",
       "      <th>end_day</th>\n",
       "      <th>end_time</th>\n",
       "    </tr>\n",
       "  </thead>\n",
       "  <tbody>\n",
       "    <tr>\n",
       "      <th>0</th>\n",
       "      <td>650330</td>\n",
       "      <td>495</td>\n",
       "      <td>2015-02-19 15:46:00</td>\n",
       "      <td>Yerba Buena Center of the Arts (3rd @ Howard)</td>\n",
       "      <td>68</td>\n",
       "      <td>2015-02-19 15:54:00</td>\n",
       "      <td>San Francisco Caltrain 2 (330 Townsend)</td>\n",
       "      <td>69</td>\n",
       "      <td>463</td>\n",
       "      <td>94061</td>\n",
       "      <td>Subscriber</td>\n",
       "      <td>2015-02-19</td>\n",
       "      <td>2015-02-19</td>\n",
       "      <td>2015</td>\n",
       "      <td>2</td>\n",
       "      <td>19</td>\n",
       "      <td>15:46:00</td>\n",
       "      <td>19</td>\n",
       "      <td>15:54:00</td>\n",
       "    </tr>\n",
       "    <tr>\n",
       "      <th>1</th>\n",
       "      <td>367544</td>\n",
       "      <td>241</td>\n",
       "      <td>2014-07-17 08:09:00</td>\n",
       "      <td>San Francisco Caltrain 2 (330 Townsend)</td>\n",
       "      <td>69</td>\n",
       "      <td>2014-07-17 08:13:00</td>\n",
       "      <td>Townsend at 7th</td>\n",
       "      <td>65</td>\n",
       "      <td>441</td>\n",
       "      <td>95120</td>\n",
       "      <td>Subscriber</td>\n",
       "      <td>2014-07-17</td>\n",
       "      <td>2014-07-17</td>\n",
       "      <td>2014</td>\n",
       "      <td>7</td>\n",
       "      <td>17</td>\n",
       "      <td>08:09:00</td>\n",
       "      <td>17</td>\n",
       "      <td>08:13:00</td>\n",
       "    </tr>\n",
       "    <tr>\n",
       "      <th>2</th>\n",
       "      <td>586344</td>\n",
       "      <td>3589</td>\n",
       "      <td>2014-12-27 16:01:00</td>\n",
       "      <td>Embarcadero at Bryant</td>\n",
       "      <td>54</td>\n",
       "      <td>2014-12-27 17:01:00</td>\n",
       "      <td>2nd at Townsend</td>\n",
       "      <td>61</td>\n",
       "      <td>466</td>\n",
       "      <td>27401</td>\n",
       "      <td>Customer</td>\n",
       "      <td>2014-12-27</td>\n",
       "      <td>2014-12-27</td>\n",
       "      <td>2014</td>\n",
       "      <td>12</td>\n",
       "      <td>27</td>\n",
       "      <td>16:01:00</td>\n",
       "      <td>27</td>\n",
       "      <td>17:01:00</td>\n",
       "    </tr>\n",
       "    <tr>\n",
       "      <th>3</th>\n",
       "      <td>772874</td>\n",
       "      <td>733</td>\n",
       "      <td>2015-05-19 09:50:00</td>\n",
       "      <td>Davis at Jackson</td>\n",
       "      <td>42</td>\n",
       "      <td>2015-05-19 10:02:00</td>\n",
       "      <td>2nd at Townsend</td>\n",
       "      <td>61</td>\n",
       "      <td>501</td>\n",
       "      <td>94111</td>\n",
       "      <td>Subscriber</td>\n",
       "      <td>2015-05-19</td>\n",
       "      <td>2015-05-19</td>\n",
       "      <td>2015</td>\n",
       "      <td>5</td>\n",
       "      <td>19</td>\n",
       "      <td>09:50:00</td>\n",
       "      <td>19</td>\n",
       "      <td>10:02:00</td>\n",
       "    </tr>\n",
       "    <tr>\n",
       "      <th>4</th>\n",
       "      <td>419431</td>\n",
       "      <td>302</td>\n",
       "      <td>2014-08-21 19:11:00</td>\n",
       "      <td>5th at Howard</td>\n",
       "      <td>57</td>\n",
       "      <td>2014-08-21 19:16:00</td>\n",
       "      <td>San Francisco Caltrain (Townsend at 4th)</td>\n",
       "      <td>70</td>\n",
       "      <td>392</td>\n",
       "      <td>95110</td>\n",
       "      <td>Subscriber</td>\n",
       "      <td>2014-08-21</td>\n",
       "      <td>2014-08-21</td>\n",
       "      <td>2014</td>\n",
       "      <td>8</td>\n",
       "      <td>21</td>\n",
       "      <td>19:11:00</td>\n",
       "      <td>21</td>\n",
       "      <td>19:16:00</td>\n",
       "    </tr>\n",
       "  </tbody>\n",
       "</table>\n",
       "</div>"
      ],
      "text/plain": [
       "   trip_id  duration_sec          start_date  \\\n",
       "0   650330           495 2015-02-19 15:46:00   \n",
       "1   367544           241 2014-07-17 08:09:00   \n",
       "2   586344          3589 2014-12-27 16:01:00   \n",
       "3   772874           733 2015-05-19 09:50:00   \n",
       "4   419431           302 2014-08-21 19:11:00   \n",
       "\n",
       "                              start_station_name  start_station_id  \\\n",
       "0  Yerba Buena Center of the Arts (3rd @ Howard)                68   \n",
       "1        San Francisco Caltrain 2 (330 Townsend)                69   \n",
       "2                          Embarcadero at Bryant                54   \n",
       "3                               Davis at Jackson                42   \n",
       "4                                  5th at Howard                57   \n",
       "\n",
       "             end_date                          end_station_name  \\\n",
       "0 2015-02-19 15:54:00   San Francisco Caltrain 2 (330 Townsend)   \n",
       "1 2014-07-17 08:13:00                           Townsend at 7th   \n",
       "2 2014-12-27 17:01:00                           2nd at Townsend   \n",
       "3 2015-05-19 10:02:00                           2nd at Townsend   \n",
       "4 2014-08-21 19:16:00  San Francisco Caltrain (Townsend at 4th)   \n",
       "\n",
       "   end_station_id  bike_number zip_code subscriber_type start_just_date  \\\n",
       "0              69          463    94061      Subscriber      2015-02-19   \n",
       "1              65          441    95120      Subscriber      2014-07-17   \n",
       "2              61          466    27401        Customer      2014-12-27   \n",
       "3              61          501    94111      Subscriber      2015-05-19   \n",
       "4              70          392    95110      Subscriber      2014-08-21   \n",
       "\n",
       "  end_just_date  year  month  start_day start_time  end_day  end_time  \n",
       "0    2015-02-19  2015      2         19   15:46:00       19  15:54:00  \n",
       "1    2014-07-17  2014      7         17   08:09:00       17  08:13:00  \n",
       "2    2014-12-27  2014     12         27   16:01:00       27  17:01:00  \n",
       "3    2015-05-19  2015      5         19   09:50:00       19  10:02:00  \n",
       "4    2014-08-21  2014      8         21   19:11:00       21  19:16:00  "
      ]
     },
     "execution_count": 17,
     "metadata": {},
     "output_type": "execute_result"
    }
   ],
   "source": [
    "data[0:5]"
   ]
  },
  {
   "cell_type": "code",
   "execution_count": 18,
   "metadata": {},
   "outputs": [
    {
     "name": "stdout",
     "output_type": "stream",
     "text": [
      "Max duration 17270400\n"
     ]
    }
   ],
   "source": [
    "print \"Max duration\", max(data.duration_sec)"
   ]
  },
  {
   "cell_type": "code",
   "execution_count": 19,
   "metadata": {},
   "outputs": [
    {
     "name": "stdout",
     "output_type": "stream",
     "text": [
      "Min duration 60\n"
     ]
    }
   ],
   "source": [
    "print \"Min duration\", min(data.duration_sec)"
   ]
  },
  {
   "cell_type": "code",
   "execution_count": 20,
   "metadata": {
    "collapsed": true
   },
   "outputs": [],
   "source": [
    "longer_than_one_day = data.query(\"duration_sec >= 86400\")"
   ]
  },
  {
   "cell_type": "code",
   "execution_count": 21,
   "metadata": {},
   "outputs": [
    {
     "data": {
      "text/plain": [
       "296"
      ]
     },
     "execution_count": 21,
     "metadata": {},
     "output_type": "execute_result"
    }
   ],
   "source": [
    "len(longer_than_one_day)"
   ]
  },
  {
   "cell_type": "code",
   "execution_count": 22,
   "metadata": {},
   "outputs": [
    {
     "data": {
      "text/html": [
       "<div>\n",
       "<table border=\"1\" class=\"dataframe\">\n",
       "  <thead>\n",
       "    <tr style=\"text-align: right;\">\n",
       "      <th></th>\n",
       "      <th>trip_id</th>\n",
       "      <th>duration_sec</th>\n",
       "      <th>start_date</th>\n",
       "      <th>start_station_name</th>\n",
       "      <th>start_station_id</th>\n",
       "      <th>end_date</th>\n",
       "      <th>end_station_name</th>\n",
       "      <th>end_station_id</th>\n",
       "      <th>bike_number</th>\n",
       "      <th>zip_code</th>\n",
       "      <th>subscriber_type</th>\n",
       "      <th>start_just_date</th>\n",
       "      <th>end_just_date</th>\n",
       "      <th>year</th>\n",
       "      <th>month</th>\n",
       "      <th>start_day</th>\n",
       "      <th>start_time</th>\n",
       "      <th>end_day</th>\n",
       "      <th>end_time</th>\n",
       "    </tr>\n",
       "  </thead>\n",
       "  <tbody>\n",
       "    <tr>\n",
       "      <th>5288</th>\n",
       "      <td>110653</td>\n",
       "      <td>213405</td>\n",
       "      <td>2013-11-29 10:31:00</td>\n",
       "      <td>Cowper at University</td>\n",
       "      <td>37</td>\n",
       "      <td>2013-12-01 21:48:00</td>\n",
       "      <td>Cowper at University</td>\n",
       "      <td>37</td>\n",
       "      <td>668</td>\n",
       "      <td>94301</td>\n",
       "      <td>Customer</td>\n",
       "      <td>2013-11-29</td>\n",
       "      <td>2013-12-01</td>\n",
       "      <td>2013</td>\n",
       "      <td>11</td>\n",
       "      <td>29</td>\n",
       "      <td>10:31:00</td>\n",
       "      <td>1</td>\n",
       "      <td>21:48:00</td>\n",
       "    </tr>\n",
       "    <tr>\n",
       "      <th>9300</th>\n",
       "      <td>298294</td>\n",
       "      <td>156790</td>\n",
       "      <td>2014-05-26 13:02:00</td>\n",
       "      <td>Grant Avenue at Columbus Avenue</td>\n",
       "      <td>73</td>\n",
       "      <td>2014-05-28 08:35:00</td>\n",
       "      <td>Mechanics Plaza (Market at Battery)</td>\n",
       "      <td>75</td>\n",
       "      <td>404</td>\n",
       "      <td>94133</td>\n",
       "      <td>Customer</td>\n",
       "      <td>2014-05-26</td>\n",
       "      <td>2014-05-28</td>\n",
       "      <td>2014</td>\n",
       "      <td>5</td>\n",
       "      <td>26</td>\n",
       "      <td>13:02:00</td>\n",
       "      <td>28</td>\n",
       "      <td>08:35:00</td>\n",
       "    </tr>\n",
       "    <tr>\n",
       "      <th>10982</th>\n",
       "      <td>360916</td>\n",
       "      <td>101521</td>\n",
       "      <td>2014-07-12 12:48:00</td>\n",
       "      <td>Harry Bridges Plaza (Ferry Building)</td>\n",
       "      <td>50</td>\n",
       "      <td>2014-07-13 17:00:00</td>\n",
       "      <td>Broadway St at Battery St</td>\n",
       "      <td>82</td>\n",
       "      <td>632</td>\n",
       "      <td>94133</td>\n",
       "      <td>Customer</td>\n",
       "      <td>2014-07-12</td>\n",
       "      <td>2014-07-13</td>\n",
       "      <td>2014</td>\n",
       "      <td>7</td>\n",
       "      <td>12</td>\n",
       "      <td>12:48:00</td>\n",
       "      <td>13</td>\n",
       "      <td>17:00:00</td>\n",
       "    </tr>\n",
       "    <tr>\n",
       "      <th>13278</th>\n",
       "      <td>823564</td>\n",
       "      <td>110571</td>\n",
       "      <td>2015-06-26 09:50:00</td>\n",
       "      <td>California Ave Caltrain Station</td>\n",
       "      <td>36</td>\n",
       "      <td>2015-06-27 16:33:00</td>\n",
       "      <td>California Ave Caltrain Station</td>\n",
       "      <td>36</td>\n",
       "      <td>165</td>\n",
       "      <td>94306</td>\n",
       "      <td>Customer</td>\n",
       "      <td>2015-06-26</td>\n",
       "      <td>2015-06-27</td>\n",
       "      <td>2015</td>\n",
       "      <td>6</td>\n",
       "      <td>26</td>\n",
       "      <td>09:50:00</td>\n",
       "      <td>27</td>\n",
       "      <td>16:33:00</td>\n",
       "    </tr>\n",
       "    <tr>\n",
       "      <th>13564</th>\n",
       "      <td>784285</td>\n",
       "      <td>102107</td>\n",
       "      <td>2015-05-28 10:15:00</td>\n",
       "      <td>Redwood City Caltrain Station</td>\n",
       "      <td>22</td>\n",
       "      <td>2015-05-29 14:36:00</td>\n",
       "      <td>Stanford in Redwood City</td>\n",
       "      <td>25</td>\n",
       "      <td>179</td>\n",
       "      <td>94040</td>\n",
       "      <td>Customer</td>\n",
       "      <td>2015-05-28</td>\n",
       "      <td>2015-05-29</td>\n",
       "      <td>2015</td>\n",
       "      <td>5</td>\n",
       "      <td>28</td>\n",
       "      <td>10:15:00</td>\n",
       "      <td>29</td>\n",
       "      <td>14:36:00</td>\n",
       "    </tr>\n",
       "  </tbody>\n",
       "</table>\n",
       "</div>"
      ],
      "text/plain": [
       "       trip_id  duration_sec          start_date  \\\n",
       "5288    110653        213405 2013-11-29 10:31:00   \n",
       "9300    298294        156790 2014-05-26 13:02:00   \n",
       "10982   360916        101521 2014-07-12 12:48:00   \n",
       "13278   823564        110571 2015-06-26 09:50:00   \n",
       "13564   784285        102107 2015-05-28 10:15:00   \n",
       "\n",
       "                         start_station_name  start_station_id  \\\n",
       "5288                   Cowper at University                37   \n",
       "9300        Grant Avenue at Columbus Avenue                73   \n",
       "10982  Harry Bridges Plaza (Ferry Building)                50   \n",
       "13278       California Ave Caltrain Station                36   \n",
       "13564         Redwood City Caltrain Station                22   \n",
       "\n",
       "                 end_date                     end_station_name  \\\n",
       "5288  2013-12-01 21:48:00                 Cowper at University   \n",
       "9300  2014-05-28 08:35:00  Mechanics Plaza (Market at Battery)   \n",
       "10982 2014-07-13 17:00:00            Broadway St at Battery St   \n",
       "13278 2015-06-27 16:33:00      California Ave Caltrain Station   \n",
       "13564 2015-05-29 14:36:00             Stanford in Redwood City   \n",
       "\n",
       "       end_station_id  bike_number zip_code subscriber_type start_just_date  \\\n",
       "5288               37          668    94301        Customer      2013-11-29   \n",
       "9300               75          404    94133        Customer      2014-05-26   \n",
       "10982              82          632    94133        Customer      2014-07-12   \n",
       "13278              36          165    94306        Customer      2015-06-26   \n",
       "13564              25          179    94040        Customer      2015-05-28   \n",
       "\n",
       "      end_just_date  year  month  start_day start_time  end_day  end_time  \n",
       "5288     2013-12-01  2013     11         29   10:31:00        1  21:48:00  \n",
       "9300     2014-05-28  2014      5         26   13:02:00       28  08:35:00  \n",
       "10982    2014-07-13  2014      7         12   12:48:00       13  17:00:00  \n",
       "13278    2015-06-27  2015      6         26   09:50:00       27  16:33:00  \n",
       "13564    2015-05-29  2015      5         28   10:15:00       29  14:36:00  "
      ]
     },
     "execution_count": 22,
     "metadata": {},
     "output_type": "execute_result"
    }
   ],
   "source": [
    "longer_than_one_day[0:5]"
   ]
  },
  {
   "cell_type": "code",
   "execution_count": 23,
   "metadata": {},
   "outputs": [
    {
     "data": {
      "text/plain": [
       "numpy.int64"
      ]
     },
     "execution_count": 23,
     "metadata": {},
     "output_type": "execute_result"
    }
   ],
   "source": [
    "type(data['year'][0])"
   ]
  },
  {
   "cell_type": "code",
   "execution_count": 67,
   "metadata": {},
   "outputs": [
    {
     "data": {
      "text/plain": [
       "<matplotlib.text.Text at 0x11d02b990>"
      ]
     },
     "execution_count": 67,
     "metadata": {},
     "output_type": "execute_result"
    },
    {
     "data": {
      "image/png": "[encoded data removed]",
      "text/plain": [
       "<matplotlib.figure.Figure at 0x11d0671d0>"
      ]
     },
     "metadata": {},
     "output_type": "display_data"
    }
   ],
   "source": [
    "# How are these distributed over the years?\n",
    "\n",
    "plt.style.use('ggplot')\n",
    "\n",
    "plt.figure()\n",
    "\n",
    "plot = plt.hist(longer_than_one_day['year'], 3, histtype='bar', color = '#c8b9a4', rwidth=0.5)\n",
    "plt.title('Long trips')\n",
    "plt.xlabel('Years')\n",
    "plt.ylabel('Number of long trips')"
   ]
  },
  {
   "cell_type": "code",
   "execution_count": 25,
   "metadata": {},
   "outputs": [
    {
     "data": {
      "text/plain": [
       "137"
      ]
     },
     "execution_count": 25,
     "metadata": {},
     "output_type": "execute_result"
    }
   ],
   "source": [
    "#Seems this might be some kind of outlier experience that is decreasing as the business grows\n",
    "#Maybe I cut it too close to the bone, let me try within 2 days (to include overnight trips)\n",
    "\n",
    "longer_than_two_days = data.query(\"duration_sec >= 172800\")\n",
    "len(longer_than_two_days)"
   ]
  },
  {
   "cell_type": "code",
   "execution_count": 26,
   "metadata": {
    "collapsed": true
   },
   "outputs": [],
   "source": [
    "#At this point, I mostly care about 2015 and 2016, so let me plot all points less than 2 days and look at the data\n",
    "\n",
    "# less_than_two_days = data.query(\"trip_length <= 172800\")\n",
    "\n",
    "less_than_two_days = data[(data['duration_sec'] <= 172800) & (data['year'] == 2016)]"
   ]
  },
  {
   "cell_type": "code",
   "execution_count": 27,
   "metadata": {
    "collapsed": true
   },
   "outputs": [],
   "source": [
    "data['end_yyyymmdd'] = (\n",
    "    data['end_date'].dt.year.astype(str) + \n",
    "    data['end_date'].dt.month.astype(str).str.zfill(2) + \n",
    "    data['end_date'].dt.day.astype(str).str.zfill(2))"
   ]
  },
  {
   "cell_type": "code",
   "execution_count": 28,
   "metadata": {
    "collapsed": true
   },
   "outputs": [],
   "source": [
    "data['end_yyyymmdd'] = data['end_yyyymmdd'].astype(int)"
   ]
  },
  {
   "cell_type": "code",
   "execution_count": 29,
   "metadata": {
    "collapsed": true
   },
   "outputs": [],
   "source": [
    "less_than_two_days_2016 = data[(data['duration_sec'] <= 172800) & (data['year'] == 2016)]"
   ]
  },
  {
   "cell_type": "code",
   "execution_count": 30,
   "metadata": {},
   "outputs": [
    {
     "data": {
      "text/html": [
       "<div>\n",
       "<table border=\"1\" class=\"dataframe\">\n",
       "  <thead>\n",
       "    <tr style=\"text-align: right;\">\n",
       "      <th></th>\n",
       "      <th>trip_id</th>\n",
       "      <th>duration_sec</th>\n",
       "      <th>start_date</th>\n",
       "      <th>start_station_name</th>\n",
       "      <th>start_station_id</th>\n",
       "      <th>end_date</th>\n",
       "      <th>end_station_name</th>\n",
       "      <th>end_station_id</th>\n",
       "      <th>bike_number</th>\n",
       "      <th>zip_code</th>\n",
       "      <th>subscriber_type</th>\n",
       "      <th>start_just_date</th>\n",
       "      <th>end_just_date</th>\n",
       "      <th>year</th>\n",
       "      <th>month</th>\n",
       "      <th>start_day</th>\n",
       "      <th>start_time</th>\n",
       "      <th>end_day</th>\n",
       "      <th>end_time</th>\n",
       "      <th>end_yyyymmdd</th>\n",
       "    </tr>\n",
       "  </thead>\n",
       "  <tbody>\n",
       "    <tr>\n",
       "      <th>10</th>\n",
       "      <td>1279437</td>\n",
       "      <td>1017</td>\n",
       "      <td>2016-07-16 16:05:00</td>\n",
       "      <td>Powell Street BART</td>\n",
       "      <td>39</td>\n",
       "      <td>2016-07-16 16:21:00</td>\n",
       "      <td>Civic Center BART (7th at Market)</td>\n",
       "      <td>72</td>\n",
       "      <td>441</td>\n",
       "      <td>92844</td>\n",
       "      <td>Customer</td>\n",
       "      <td>2016-07-16</td>\n",
       "      <td>2016-07-16</td>\n",
       "      <td>2016</td>\n",
       "      <td>7</td>\n",
       "      <td>16</td>\n",
       "      <td>16:05:00</td>\n",
       "      <td>16</td>\n",
       "      <td>16:21:00</td>\n",
       "      <td>20160716</td>\n",
       "    </tr>\n",
       "    <tr>\n",
       "      <th>21</th>\n",
       "      <td>1189381</td>\n",
       "      <td>510</td>\n",
       "      <td>2016-05-05 12:00:00</td>\n",
       "      <td>Yerba Buena Center of the Arts (3rd @ Howard)</td>\n",
       "      <td>68</td>\n",
       "      <td>2016-05-05 12:09:00</td>\n",
       "      <td>Embarcadero at Folsom</td>\n",
       "      <td>51</td>\n",
       "      <td>635</td>\n",
       "      <td>2130</td>\n",
       "      <td>Customer</td>\n",
       "      <td>2016-05-05</td>\n",
       "      <td>2016-05-05</td>\n",
       "      <td>2016</td>\n",
       "      <td>5</td>\n",
       "      <td>5</td>\n",
       "      <td>12:00:00</td>\n",
       "      <td>5</td>\n",
       "      <td>12:09:00</td>\n",
       "      <td>20160505</td>\n",
       "    </tr>\n",
       "    <tr>\n",
       "      <th>27</th>\n",
       "      <td>1225665</td>\n",
       "      <td>577</td>\n",
       "      <td>2016-06-03 11:55:00</td>\n",
       "      <td>Embarcadero at Sansome</td>\n",
       "      <td>60</td>\n",
       "      <td>2016-06-03 12:05:00</td>\n",
       "      <td>Harry Bridges Plaza (Ferry Building)</td>\n",
       "      <td>50</td>\n",
       "      <td>510</td>\n",
       "      <td>94040</td>\n",
       "      <td>Customer</td>\n",
       "      <td>2016-06-03</td>\n",
       "      <td>2016-06-03</td>\n",
       "      <td>2016</td>\n",
       "      <td>6</td>\n",
       "      <td>3</td>\n",
       "      <td>11:55:00</td>\n",
       "      <td>3</td>\n",
       "      <td>12:05:00</td>\n",
       "      <td>20160603</td>\n",
       "    </tr>\n",
       "    <tr>\n",
       "      <th>28</th>\n",
       "      <td>1196140</td>\n",
       "      <td>400</td>\n",
       "      <td>2016-05-11 08:56:00</td>\n",
       "      <td>Temporary Transbay Terminal (Howard at Beale)</td>\n",
       "      <td>55</td>\n",
       "      <td>2016-05-11 09:02:00</td>\n",
       "      <td>5th at Howard</td>\n",
       "      <td>57</td>\n",
       "      <td>527</td>\n",
       "      <td>94103</td>\n",
       "      <td>Subscriber</td>\n",
       "      <td>2016-05-11</td>\n",
       "      <td>2016-05-11</td>\n",
       "      <td>2016</td>\n",
       "      <td>5</td>\n",
       "      <td>11</td>\n",
       "      <td>08:56:00</td>\n",
       "      <td>11</td>\n",
       "      <td>09:02:00</td>\n",
       "      <td>20160511</td>\n",
       "    </tr>\n",
       "    <tr>\n",
       "      <th>30</th>\n",
       "      <td>1220829</td>\n",
       "      <td>194</td>\n",
       "      <td>2016-05-31 12:47:00</td>\n",
       "      <td>Commercial at Montgomery</td>\n",
       "      <td>45</td>\n",
       "      <td>2016-05-31 12:51:00</td>\n",
       "      <td>Davis at Jackson</td>\n",
       "      <td>42</td>\n",
       "      <td>620</td>\n",
       "      <td>94965</td>\n",
       "      <td>Subscriber</td>\n",
       "      <td>2016-05-31</td>\n",
       "      <td>2016-05-31</td>\n",
       "      <td>2016</td>\n",
       "      <td>5</td>\n",
       "      <td>31</td>\n",
       "      <td>12:47:00</td>\n",
       "      <td>31</td>\n",
       "      <td>12:51:00</td>\n",
       "      <td>20160531</td>\n",
       "    </tr>\n",
       "  </tbody>\n",
       "</table>\n",
       "</div>"
      ],
      "text/plain": [
       "    trip_id  duration_sec          start_date  \\\n",
       "10  1279437          1017 2016-07-16 16:05:00   \n",
       "21  1189381           510 2016-05-05 12:00:00   \n",
       "27  1225665           577 2016-06-03 11:55:00   \n",
       "28  1196140           400 2016-05-11 08:56:00   \n",
       "30  1220829           194 2016-05-31 12:47:00   \n",
       "\n",
       "                               start_station_name  start_station_id  \\\n",
       "10                             Powell Street BART                39   \n",
       "21  Yerba Buena Center of the Arts (3rd @ Howard)                68   \n",
       "27                         Embarcadero at Sansome                60   \n",
       "28  Temporary Transbay Terminal (Howard at Beale)                55   \n",
       "30                       Commercial at Montgomery                45   \n",
       "\n",
       "              end_date                      end_station_name  end_station_id  \\\n",
       "10 2016-07-16 16:21:00     Civic Center BART (7th at Market)              72   \n",
       "21 2016-05-05 12:09:00                 Embarcadero at Folsom              51   \n",
       "27 2016-06-03 12:05:00  Harry Bridges Plaza (Ferry Building)              50   \n",
       "28 2016-05-11 09:02:00                         5th at Howard              57   \n",
       "30 2016-05-31 12:51:00                      Davis at Jackson              42   \n",
       "\n",
       "    bike_number zip_code subscriber_type start_just_date end_just_date  year  \\\n",
       "10          441    92844        Customer      2016-07-16    2016-07-16  2016   \n",
       "21          635     2130        Customer      2016-05-05    2016-05-05  2016   \n",
       "27          510    94040        Customer      2016-06-03    2016-06-03  2016   \n",
       "28          527    94103      Subscriber      2016-05-11    2016-05-11  2016   \n",
       "30          620    94965      Subscriber      2016-05-31    2016-05-31  2016   \n",
       "\n",
       "    month  start_day start_time  end_day  end_time  end_yyyymmdd  \n",
       "10      7         16   16:05:00       16  16:21:00      20160716  \n",
       "21      5          5   12:00:00        5  12:09:00      20160505  \n",
       "27      6          3   11:55:00        3  12:05:00      20160603  \n",
       "28      5         11   08:56:00       11  09:02:00      20160511  \n",
       "30      5         31   12:47:00       31  12:51:00      20160531  "
      ]
     },
     "execution_count": 30,
     "metadata": {},
     "output_type": "execute_result"
    }
   ],
   "source": [
    "less_than_two_days_2016[0:5]"
   ]
  },
  {
   "cell_type": "code",
   "execution_count": 31,
   "metadata": {
    "collapsed": true
   },
   "outputs": [],
   "source": [
    "less_than_two_days_2016_May = data[(data['duration_sec'] <= 172800) & (data['year'] == 2016) & (data['month'] == 5)]"
   ]
  },
  {
   "cell_type": "code",
   "execution_count": 32,
   "metadata": {
    "collapsed": true
   },
   "outputs": [],
   "source": [
    "less_than_two_days_2015_May = data[(data['duration_sec'] <= 172800) & (data['year'] == 2015) & (data['month'] == 5)]"
   ]
  },
  {
   "cell_type": "code",
   "execution_count": 33,
   "metadata": {},
   "outputs": [
    {
     "data": {
      "text/plain": [
       "28322"
      ]
     },
     "execution_count": 33,
     "metadata": {},
     "output_type": "execute_result"
    }
   ],
   "source": [
    "len(less_than_two_days_2016_May)"
   ]
  },
  {
   "cell_type": "code",
   "execution_count": 71,
   "metadata": {},
   "outputs": [
    {
     "data": {
      "text/plain": [
       "<matplotlib.text.Text at 0x12e75b5d0>"
      ]
     },
     "execution_count": 71,
     "metadata": {},
     "output_type": "execute_result"
    },
    {
     "data": {
      "image/png": "[encoded data removed]",
      "text/plain": [
       "<matplotlib.figure.Figure at 0x12e71aa50>"
      ]
     },
     "metadata": {},
     "output_type": "display_data"
    }
   ],
   "source": [
    "data = less_than_two_days_2016_May['duration_sec']\n",
    "\n",
    "plt.figure()\n",
    "\n",
    "plot = plt.hist(data, 10, histtype='stepfilled', color = '#4d5665')\n",
    "plt.title('Trip durations May')\n",
    "plt.xlabel('Durations(s)')\n",
    "plt.ylabel('Frequency')"
   ]
  },
  {
   "cell_type": "code",
   "execution_count": 45,
   "metadata": {},
   "outputs": [
    {
     "data": {
      "text/html": [
       "<div>\n",
       "<table border=\"1\" class=\"dataframe\">\n",
       "  <thead>\n",
       "    <tr style=\"text-align: right;\">\n",
       "      <th></th>\n",
       "      <th>trip_id</th>\n",
       "      <th>duration_sec</th>\n",
       "      <th>start_date</th>\n",
       "      <th>start_station_name</th>\n",
       "      <th>start_station_id</th>\n",
       "      <th>end_date</th>\n",
       "      <th>end_station_name</th>\n",
       "      <th>end_station_id</th>\n",
       "      <th>bike_number</th>\n",
       "      <th>zip_code</th>\n",
       "      <th>subscriber_type</th>\n",
       "      <th>start_just_date</th>\n",
       "      <th>end_just_date</th>\n",
       "      <th>year</th>\n",
       "      <th>month</th>\n",
       "      <th>start_day</th>\n",
       "      <th>start_time</th>\n",
       "      <th>end_day</th>\n",
       "      <th>end_time</th>\n",
       "      <th>end_yyyymmdd</th>\n",
       "    </tr>\n",
       "  </thead>\n",
       "  <tbody>\n",
       "    <tr>\n",
       "      <th>21</th>\n",
       "      <td>1189381</td>\n",
       "      <td>510</td>\n",
       "      <td>2016-05-05 12:00:00</td>\n",
       "      <td>Yerba Buena Center of the Arts (3rd @ Howard)</td>\n",
       "      <td>68</td>\n",
       "      <td>2016-05-05 12:09:00</td>\n",
       "      <td>Embarcadero at Folsom</td>\n",
       "      <td>51</td>\n",
       "      <td>635</td>\n",
       "      <td>2130</td>\n",
       "      <td>Customer</td>\n",
       "      <td>2016-05-05</td>\n",
       "      <td>2016-05-05</td>\n",
       "      <td>2016</td>\n",
       "      <td>5</td>\n",
       "      <td>5</td>\n",
       "      <td>12:00:00</td>\n",
       "      <td>5</td>\n",
       "      <td>12:09:00</td>\n",
       "      <td>20160505</td>\n",
       "    </tr>\n",
       "    <tr>\n",
       "      <th>28</th>\n",
       "      <td>1196140</td>\n",
       "      <td>400</td>\n",
       "      <td>2016-05-11 08:56:00</td>\n",
       "      <td>Temporary Transbay Terminal (Howard at Beale)</td>\n",
       "      <td>55</td>\n",
       "      <td>2016-05-11 09:02:00</td>\n",
       "      <td>5th at Howard</td>\n",
       "      <td>57</td>\n",
       "      <td>527</td>\n",
       "      <td>94103</td>\n",
       "      <td>Subscriber</td>\n",
       "      <td>2016-05-11</td>\n",
       "      <td>2016-05-11</td>\n",
       "      <td>2016</td>\n",
       "      <td>5</td>\n",
       "      <td>11</td>\n",
       "      <td>08:56:00</td>\n",
       "      <td>11</td>\n",
       "      <td>09:02:00</td>\n",
       "      <td>20160511</td>\n",
       "    </tr>\n",
       "    <tr>\n",
       "      <th>30</th>\n",
       "      <td>1220829</td>\n",
       "      <td>194</td>\n",
       "      <td>2016-05-31 12:47:00</td>\n",
       "      <td>Commercial at Montgomery</td>\n",
       "      <td>45</td>\n",
       "      <td>2016-05-31 12:51:00</td>\n",
       "      <td>Davis at Jackson</td>\n",
       "      <td>42</td>\n",
       "      <td>620</td>\n",
       "      <td>94965</td>\n",
       "      <td>Subscriber</td>\n",
       "      <td>2016-05-31</td>\n",
       "      <td>2016-05-31</td>\n",
       "      <td>2016</td>\n",
       "      <td>5</td>\n",
       "      <td>31</td>\n",
       "      <td>12:47:00</td>\n",
       "      <td>31</td>\n",
       "      <td>12:51:00</td>\n",
       "      <td>20160531</td>\n",
       "    </tr>\n",
       "    <tr>\n",
       "      <th>35</th>\n",
       "      <td>1208884</td>\n",
       "      <td>534</td>\n",
       "      <td>2016-05-20 07:58:00</td>\n",
       "      <td>2nd at Townsend</td>\n",
       "      <td>61</td>\n",
       "      <td>2016-05-20 08:07:00</td>\n",
       "      <td>Embarcadero at Folsom</td>\n",
       "      <td>51</td>\n",
       "      <td>350</td>\n",
       "      <td>95148</td>\n",
       "      <td>Subscriber</td>\n",
       "      <td>2016-05-20</td>\n",
       "      <td>2016-05-20</td>\n",
       "      <td>2016</td>\n",
       "      <td>5</td>\n",
       "      <td>20</td>\n",
       "      <td>07:58:00</td>\n",
       "      <td>20</td>\n",
       "      <td>08:07:00</td>\n",
       "      <td>20160520</td>\n",
       "    </tr>\n",
       "    <tr>\n",
       "      <th>50</th>\n",
       "      <td>1212010</td>\n",
       "      <td>262</td>\n",
       "      <td>2016-05-23 16:45:00</td>\n",
       "      <td>Embarcadero at Folsom</td>\n",
       "      <td>51</td>\n",
       "      <td>2016-05-23 16:49:00</td>\n",
       "      <td>Harry Bridges Plaza (Ferry Building)</td>\n",
       "      <td>50</td>\n",
       "      <td>494</td>\n",
       "      <td>94112</td>\n",
       "      <td>Subscriber</td>\n",
       "      <td>2016-05-23</td>\n",
       "      <td>2016-05-23</td>\n",
       "      <td>2016</td>\n",
       "      <td>5</td>\n",
       "      <td>23</td>\n",
       "      <td>16:45:00</td>\n",
       "      <td>23</td>\n",
       "      <td>16:49:00</td>\n",
       "      <td>20160523</td>\n",
       "    </tr>\n",
       "  </tbody>\n",
       "</table>\n",
       "</div>"
      ],
      "text/plain": [
       "    trip_id  duration_sec          start_date  \\\n",
       "21  1189381           510 2016-05-05 12:00:00   \n",
       "28  1196140           400 2016-05-11 08:56:00   \n",
       "30  1220829           194 2016-05-31 12:47:00   \n",
       "35  1208884           534 2016-05-20 07:58:00   \n",
       "50  1212010           262 2016-05-23 16:45:00   \n",
       "\n",
       "                               start_station_name  start_station_id  \\\n",
       "21  Yerba Buena Center of the Arts (3rd @ Howard)                68   \n",
       "28  Temporary Transbay Terminal (Howard at Beale)                55   \n",
       "30                       Commercial at Montgomery                45   \n",
       "35                                2nd at Townsend                61   \n",
       "50                          Embarcadero at Folsom                51   \n",
       "\n",
       "              end_date                      end_station_name  end_station_id  \\\n",
       "21 2016-05-05 12:09:00                 Embarcadero at Folsom              51   \n",
       "28 2016-05-11 09:02:00                         5th at Howard              57   \n",
       "30 2016-05-31 12:51:00                      Davis at Jackson              42   \n",
       "35 2016-05-20 08:07:00                 Embarcadero at Folsom              51   \n",
       "50 2016-05-23 16:49:00  Harry Bridges Plaza (Ferry Building)              50   \n",
       "\n",
       "    bike_number zip_code subscriber_type start_just_date end_just_date  year  \\\n",
       "21          635     2130        Customer      2016-05-05    2016-05-05  2016   \n",
       "28          527    94103      Subscriber      2016-05-11    2016-05-11  2016   \n",
       "30          620    94965      Subscriber      2016-05-31    2016-05-31  2016   \n",
       "35          350    95148      Subscriber      2016-05-20    2016-05-20  2016   \n",
       "50          494    94112      Subscriber      2016-05-23    2016-05-23  2016   \n",
       "\n",
       "    month  start_day start_time  end_day  end_time  end_yyyymmdd  \n",
       "21      5          5   12:00:00        5  12:09:00      20160505  \n",
       "28      5         11   08:56:00       11  09:02:00      20160511  \n",
       "30      5         31   12:47:00       31  12:51:00      20160531  \n",
       "35      5         20   07:58:00       20  08:07:00      20160520  \n",
       "50      5         23   16:45:00       23  16:49:00      20160523  "
      ]
     },
     "execution_count": 45,
     "metadata": {},
     "output_type": "execute_result"
    }
   ],
   "source": [
    "less_than_two_days_2016_May[0:5]"
   ]
  },
  {
   "cell_type": "code",
   "execution_count": 36,
   "metadata": {
    "collapsed": true
   },
   "outputs": [],
   "source": [
    "less_than_two_days_2016_May_1 = less_than_two_days_2016_May.query('start_day == 1')"
   ]
  },
  {
   "cell_type": "code",
   "execution_count": 37,
   "metadata": {},
   "outputs": [
    {
     "data": {
      "text/plain": [
       "243"
      ]
     },
     "execution_count": 37,
     "metadata": {},
     "output_type": "execute_result"
    }
   ],
   "source": [
    "len(less_than_two_days_2016_May_1)"
   ]
  },
  {
   "cell_type": "code",
   "execution_count": 46,
   "metadata": {},
   "outputs": [
    {
     "data": {
      "text/html": [
       "<div>\n",
       "<table border=\"1\" class=\"dataframe\">\n",
       "  <thead>\n",
       "    <tr style=\"text-align: right;\">\n",
       "      <th></th>\n",
       "      <th>trip_id</th>\n",
       "      <th>duration_sec</th>\n",
       "      <th>start_date</th>\n",
       "      <th>start_station_name</th>\n",
       "      <th>start_station_id</th>\n",
       "      <th>end_date</th>\n",
       "      <th>end_station_name</th>\n",
       "      <th>end_station_id</th>\n",
       "      <th>bike_number</th>\n",
       "      <th>zip_code</th>\n",
       "      <th>subscriber_type</th>\n",
       "      <th>start_just_date</th>\n",
       "      <th>end_just_date</th>\n",
       "      <th>year</th>\n",
       "      <th>month</th>\n",
       "      <th>start_day</th>\n",
       "      <th>start_time</th>\n",
       "      <th>end_day</th>\n",
       "      <th>end_time</th>\n",
       "      <th>end_yyyymmdd</th>\n",
       "    </tr>\n",
       "  </thead>\n",
       "  <tbody>\n",
       "    <tr>\n",
       "      <th>12326</th>\n",
       "      <td>1183579</td>\n",
       "      <td>7898</td>\n",
       "      <td>2016-05-01 21:52:00</td>\n",
       "      <td>Market at 4th</td>\n",
       "      <td>76</td>\n",
       "      <td>2016-05-02 00:03:00</td>\n",
       "      <td>Market at 4th</td>\n",
       "      <td>76</td>\n",
       "      <td>530</td>\n",
       "      <td>33141</td>\n",
       "      <td>Customer</td>\n",
       "      <td>2016-05-01</td>\n",
       "      <td>2016-05-02</td>\n",
       "      <td>2016</td>\n",
       "      <td>5</td>\n",
       "      <td>1</td>\n",
       "      <td>21:52:00</td>\n",
       "      <td>2</td>\n",
       "      <td>00:03:00</td>\n",
       "      <td>20160502</td>\n",
       "    </tr>\n",
       "    <tr>\n",
       "      <th>13632</th>\n",
       "      <td>1183330</td>\n",
       "      <td>352</td>\n",
       "      <td>2016-05-01 12:55:00</td>\n",
       "      <td>Japantown</td>\n",
       "      <td>9</td>\n",
       "      <td>2016-05-01 13:01:00</td>\n",
       "      <td>Ryland Park</td>\n",
       "      <td>84</td>\n",
       "      <td>702</td>\n",
       "      <td>95110</td>\n",
       "      <td>Subscriber</td>\n",
       "      <td>2016-05-01</td>\n",
       "      <td>2016-05-01</td>\n",
       "      <td>2016</td>\n",
       "      <td>5</td>\n",
       "      <td>1</td>\n",
       "      <td>12:55:00</td>\n",
       "      <td>1</td>\n",
       "      <td>13:01:00</td>\n",
       "      <td>20160501</td>\n",
       "    </tr>\n",
       "    <tr>\n",
       "      <th>14540</th>\n",
       "      <td>1183282</td>\n",
       "      <td>282</td>\n",
       "      <td>2016-05-01 11:11:00</td>\n",
       "      <td>San Antonio Shopping Center</td>\n",
       "      <td>31</td>\n",
       "      <td>2016-05-01 11:16:00</td>\n",
       "      <td>San Antonio Caltrain Station</td>\n",
       "      <td>29</td>\n",
       "      <td>233</td>\n",
       "      <td>94107</td>\n",
       "      <td>Subscriber</td>\n",
       "      <td>2016-05-01</td>\n",
       "      <td>2016-05-01</td>\n",
       "      <td>2016</td>\n",
       "      <td>5</td>\n",
       "      <td>1</td>\n",
       "      <td>11:11:00</td>\n",
       "      <td>1</td>\n",
       "      <td>11:16:00</td>\n",
       "      <td>20160501</td>\n",
       "    </tr>\n",
       "    <tr>\n",
       "      <th>18715</th>\n",
       "      <td>1183440</td>\n",
       "      <td>2488</td>\n",
       "      <td>2016-05-01 16:31:00</td>\n",
       "      <td>Embarcadero at Sansome</td>\n",
       "      <td>60</td>\n",
       "      <td>2016-05-01 17:13:00</td>\n",
       "      <td>San Francisco Caltrain 2 (330 Townsend)</td>\n",
       "      <td>69</td>\n",
       "      <td>388</td>\n",
       "      <td>94107</td>\n",
       "      <td>Customer</td>\n",
       "      <td>2016-05-01</td>\n",
       "      <td>2016-05-01</td>\n",
       "      <td>2016</td>\n",
       "      <td>5</td>\n",
       "      <td>1</td>\n",
       "      <td>16:31:00</td>\n",
       "      <td>1</td>\n",
       "      <td>17:13:00</td>\n",
       "      <td>20160501</td>\n",
       "    </tr>\n",
       "    <tr>\n",
       "      <th>21671</th>\n",
       "      <td>1183224</td>\n",
       "      <td>777</td>\n",
       "      <td>2016-05-01 08:41:00</td>\n",
       "      <td>2nd at Townsend</td>\n",
       "      <td>61</td>\n",
       "      <td>2016-05-01 08:54:00</td>\n",
       "      <td>Embarcadero at Sansome</td>\n",
       "      <td>60</td>\n",
       "      <td>327</td>\n",
       "      <td>94107</td>\n",
       "      <td>Subscriber</td>\n",
       "      <td>2016-05-01</td>\n",
       "      <td>2016-05-01</td>\n",
       "      <td>2016</td>\n",
       "      <td>5</td>\n",
       "      <td>1</td>\n",
       "      <td>08:41:00</td>\n",
       "      <td>1</td>\n",
       "      <td>08:54:00</td>\n",
       "      <td>20160501</td>\n",
       "    </tr>\n",
       "  </tbody>\n",
       "</table>\n",
       "</div>"
      ],
      "text/plain": [
       "       trip_id  duration_sec          start_date           start_station_name  \\\n",
       "12326  1183579          7898 2016-05-01 21:52:00                Market at 4th   \n",
       "13632  1183330           352 2016-05-01 12:55:00                    Japantown   \n",
       "14540  1183282           282 2016-05-01 11:11:00  San Antonio Shopping Center   \n",
       "18715  1183440          2488 2016-05-01 16:31:00       Embarcadero at Sansome   \n",
       "21671  1183224           777 2016-05-01 08:41:00              2nd at Townsend   \n",
       "\n",
       "       start_station_id            end_date  \\\n",
       "12326                76 2016-05-02 00:03:00   \n",
       "13632                 9 2016-05-01 13:01:00   \n",
       "14540                31 2016-05-01 11:16:00   \n",
       "18715                60 2016-05-01 17:13:00   \n",
       "21671                61 2016-05-01 08:54:00   \n",
       "\n",
       "                              end_station_name  end_station_id  bike_number  \\\n",
       "12326                            Market at 4th              76          530   \n",
       "13632                              Ryland Park              84          702   \n",
       "14540             San Antonio Caltrain Station              29          233   \n",
       "18715  San Francisco Caltrain 2 (330 Townsend)              69          388   \n",
       "21671                   Embarcadero at Sansome              60          327   \n",
       "\n",
       "      zip_code subscriber_type start_just_date end_just_date  year  month  \\\n",
       "12326    33141        Customer      2016-05-01    2016-05-02  2016      5   \n",
       "13632    95110      Subscriber      2016-05-01    2016-05-01  2016      5   \n",
       "14540    94107      Subscriber      2016-05-01    2016-05-01  2016      5   \n",
       "18715    94107        Customer      2016-05-01    2016-05-01  2016      5   \n",
       "21671    94107      Subscriber      2016-05-01    2016-05-01  2016      5   \n",
       "\n",
       "       start_day start_time  end_day  end_time  end_yyyymmdd  \n",
       "12326          1   21:52:00        2  00:03:00      20160502  \n",
       "13632          1   12:55:00        1  13:01:00      20160501  \n",
       "14540          1   11:11:00        1  11:16:00      20160501  \n",
       "18715          1   16:31:00        1  17:13:00      20160501  \n",
       "21671          1   08:41:00        1  08:54:00      20160501  "
      ]
     },
     "execution_count": 46,
     "metadata": {},
     "output_type": "execute_result"
    }
   ],
   "source": [
    "less_than_two_days_2016_May_1[0:5]"
   ]
  },
  {
   "cell_type": "code",
   "execution_count": 73,
   "metadata": {},
   "outputs": [
    {
     "data": {
      "text/plain": [
       "<matplotlib.text.Text at 0x1354281d0>"
      ]
     },
     "execution_count": 73,
     "metadata": {},
     "output_type": "execute_result"
    },
    {
     "data": {
      "image/png": "[encoded data removed]",
      "text/plain": [
       "<matplotlib.figure.Figure at 0x12d914710>"
      ]
     },
     "metadata": {},
     "output_type": "display_data"
    }
   ],
   "source": [
    "# Plot bar plot of all lengths\n",
    "data = less_than_two_days_2016_May_1['duration_sec']\n",
    "plot = plt.hist(data, 10, histtype='stepfilled', color = '#c8b9a4')\n",
    "plt.title('Trip durations 5.1.2016')\n",
    "plt.xlabel('Durations(s)')\n",
    "plt.ylabel('Frequency')"
   ]
  },
  {
   "cell_type": "markdown",
   "metadata": {},
   "source": [
    "Most hover in the low bin, around 5,000 (1.5 hours). The upper bound is 14 hours (long bike adventure?). It seems the use cases point to commuting and errands. "
   ]
  },
  {
   "cell_type": "markdown",
   "metadata": {},
   "source": [
    "## Weekday/Weekend"
   ]
  },
  {
   "cell_type": "code",
   "execution_count": 40,
   "metadata": {
    "collapsed": true
   },
   "outputs": [],
   "source": [
    "temp = pd.DatetimeIndex(less_than_two_days['end_date'])\n",
    "less_than_two_days['weekday'] = temp.weekday"
   ]
  },
  {
   "cell_type": "code",
   "execution_count": 41,
   "metadata": {
    "collapsed": true
   },
   "outputs": [],
   "source": [
    "for i, row in less_than_two_days.iterrows():\n",
    "    if row['weekday'] == 5 or row['weekday'] == 6:\n",
    "        less_than_two_days.set_value(i,'is_weekend', True)\n",
    "    else:\n",
    "        less_than_two_days.set_value(i,'is_weekend', False)\n",
    "    "
   ]
  },
  {
   "cell_type": "code",
   "execution_count": 42,
   "metadata": {},
   "outputs": [
    {
     "data": {
      "text/html": [
       "<div>\n",
       "<table border=\"1\" class=\"dataframe\">\n",
       "  <thead>\n",
       "    <tr style=\"text-align: right;\">\n",
       "      <th></th>\n",
       "      <th>trip_id</th>\n",
       "      <th>duration_sec</th>\n",
       "      <th>start_date</th>\n",
       "      <th>start_station_name</th>\n",
       "      <th>start_station_id</th>\n",
       "      <th>end_date</th>\n",
       "      <th>end_station_name</th>\n",
       "      <th>end_station_id</th>\n",
       "      <th>bike_number</th>\n",
       "      <th>zip_code</th>\n",
       "      <th>...</th>\n",
       "      <th>start_just_date</th>\n",
       "      <th>end_just_date</th>\n",
       "      <th>year</th>\n",
       "      <th>month</th>\n",
       "      <th>start_day</th>\n",
       "      <th>start_time</th>\n",
       "      <th>end_day</th>\n",
       "      <th>end_time</th>\n",
       "      <th>weekday</th>\n",
       "      <th>is_weekend</th>\n",
       "    </tr>\n",
       "  </thead>\n",
       "  <tbody>\n",
       "    <tr>\n",
       "      <th>10</th>\n",
       "      <td>1279437</td>\n",
       "      <td>1017</td>\n",
       "      <td>2016-07-16 16:05:00</td>\n",
       "      <td>Powell Street BART</td>\n",
       "      <td>39</td>\n",
       "      <td>2016-07-16 16:21:00</td>\n",
       "      <td>Civic Center BART (7th at Market)</td>\n",
       "      <td>72</td>\n",
       "      <td>441</td>\n",
       "      <td>92844</td>\n",
       "      <td>...</td>\n",
       "      <td>2016-07-16</td>\n",
       "      <td>2016-07-16</td>\n",
       "      <td>2016</td>\n",
       "      <td>7</td>\n",
       "      <td>16</td>\n",
       "      <td>16:05:00</td>\n",
       "      <td>16</td>\n",
       "      <td>16:21:00</td>\n",
       "      <td>5</td>\n",
       "      <td>True</td>\n",
       "    </tr>\n",
       "    <tr>\n",
       "      <th>21</th>\n",
       "      <td>1189381</td>\n",
       "      <td>510</td>\n",
       "      <td>2016-05-05 12:00:00</td>\n",
       "      <td>Yerba Buena Center of the Arts (3rd @ Howard)</td>\n",
       "      <td>68</td>\n",
       "      <td>2016-05-05 12:09:00</td>\n",
       "      <td>Embarcadero at Folsom</td>\n",
       "      <td>51</td>\n",
       "      <td>635</td>\n",
       "      <td>2130</td>\n",
       "      <td>...</td>\n",
       "      <td>2016-05-05</td>\n",
       "      <td>2016-05-05</td>\n",
       "      <td>2016</td>\n",
       "      <td>5</td>\n",
       "      <td>5</td>\n",
       "      <td>12:00:00</td>\n",
       "      <td>5</td>\n",
       "      <td>12:09:00</td>\n",
       "      <td>3</td>\n",
       "      <td>False</td>\n",
       "    </tr>\n",
       "    <tr>\n",
       "      <th>27</th>\n",
       "      <td>1225665</td>\n",
       "      <td>577</td>\n",
       "      <td>2016-06-03 11:55:00</td>\n",
       "      <td>Embarcadero at Sansome</td>\n",
       "      <td>60</td>\n",
       "      <td>2016-06-03 12:05:00</td>\n",
       "      <td>Harry Bridges Plaza (Ferry Building)</td>\n",
       "      <td>50</td>\n",
       "      <td>510</td>\n",
       "      <td>94040</td>\n",
       "      <td>...</td>\n",
       "      <td>2016-06-03</td>\n",
       "      <td>2016-06-03</td>\n",
       "      <td>2016</td>\n",
       "      <td>6</td>\n",
       "      <td>3</td>\n",
       "      <td>11:55:00</td>\n",
       "      <td>3</td>\n",
       "      <td>12:05:00</td>\n",
       "      <td>4</td>\n",
       "      <td>False</td>\n",
       "    </tr>\n",
       "    <tr>\n",
       "      <th>28</th>\n",
       "      <td>1196140</td>\n",
       "      <td>400</td>\n",
       "      <td>2016-05-11 08:56:00</td>\n",
       "      <td>Temporary Transbay Terminal (Howard at Beale)</td>\n",
       "      <td>55</td>\n",
       "      <td>2016-05-11 09:02:00</td>\n",
       "      <td>5th at Howard</td>\n",
       "      <td>57</td>\n",
       "      <td>527</td>\n",
       "      <td>94103</td>\n",
       "      <td>...</td>\n",
       "      <td>2016-05-11</td>\n",
       "      <td>2016-05-11</td>\n",
       "      <td>2016</td>\n",
       "      <td>5</td>\n",
       "      <td>11</td>\n",
       "      <td>08:56:00</td>\n",
       "      <td>11</td>\n",
       "      <td>09:02:00</td>\n",
       "      <td>2</td>\n",
       "      <td>False</td>\n",
       "    </tr>\n",
       "    <tr>\n",
       "      <th>30</th>\n",
       "      <td>1220829</td>\n",
       "      <td>194</td>\n",
       "      <td>2016-05-31 12:47:00</td>\n",
       "      <td>Commercial at Montgomery</td>\n",
       "      <td>45</td>\n",
       "      <td>2016-05-31 12:51:00</td>\n",
       "      <td>Davis at Jackson</td>\n",
       "      <td>42</td>\n",
       "      <td>620</td>\n",
       "      <td>94965</td>\n",
       "      <td>...</td>\n",
       "      <td>2016-05-31</td>\n",
       "      <td>2016-05-31</td>\n",
       "      <td>2016</td>\n",
       "      <td>5</td>\n",
       "      <td>31</td>\n",
       "      <td>12:47:00</td>\n",
       "      <td>31</td>\n",
       "      <td>12:51:00</td>\n",
       "      <td>1</td>\n",
       "      <td>False</td>\n",
       "    </tr>\n",
       "  </tbody>\n",
       "</table>\n",
       "<p>5 rows × 21 columns</p>\n",
       "</div>"
      ],
      "text/plain": [
       "    trip_id  duration_sec          start_date  \\\n",
       "10  1279437          1017 2016-07-16 16:05:00   \n",
       "21  1189381           510 2016-05-05 12:00:00   \n",
       "27  1225665           577 2016-06-03 11:55:00   \n",
       "28  1196140           400 2016-05-11 08:56:00   \n",
       "30  1220829           194 2016-05-31 12:47:00   \n",
       "\n",
       "                               start_station_name  start_station_id  \\\n",
       "10                             Powell Street BART                39   \n",
       "21  Yerba Buena Center of the Arts (3rd @ Howard)                68   \n",
       "27                         Embarcadero at Sansome                60   \n",
       "28  Temporary Transbay Terminal (Howard at Beale)                55   \n",
       "30                       Commercial at Montgomery                45   \n",
       "\n",
       "              end_date                      end_station_name  end_station_id  \\\n",
       "10 2016-07-16 16:21:00     Civic Center BART (7th at Market)              72   \n",
       "21 2016-05-05 12:09:00                 Embarcadero at Folsom              51   \n",
       "27 2016-06-03 12:05:00  Harry Bridges Plaza (Ferry Building)              50   \n",
       "28 2016-05-11 09:02:00                         5th at Howard              57   \n",
       "30 2016-05-31 12:51:00                      Davis at Jackson              42   \n",
       "\n",
       "    bike_number zip_code     ...     start_just_date end_just_date  year  \\\n",
       "10          441    92844     ...          2016-07-16    2016-07-16  2016   \n",
       "21          635     2130     ...          2016-05-05    2016-05-05  2016   \n",
       "27          510    94040     ...          2016-06-03    2016-06-03  2016   \n",
       "28          527    94103     ...          2016-05-11    2016-05-11  2016   \n",
       "30          620    94965     ...          2016-05-31    2016-05-31  2016   \n",
       "\n",
       "    month  start_day  start_time end_day  end_time weekday  is_weekend  \n",
       "10      7         16    16:05:00      16  16:21:00       5        True  \n",
       "21      5          5    12:00:00       5  12:09:00       3       False  \n",
       "27      6          3    11:55:00       3  12:05:00       4       False  \n",
       "28      5         11    08:56:00      11  09:02:00       2       False  \n",
       "30      5         31    12:47:00      31  12:51:00       1       False  \n",
       "\n",
       "[5 rows x 21 columns]"
      ]
     },
     "execution_count": 42,
     "metadata": {},
     "output_type": "execute_result"
    }
   ],
   "source": [
    "less_than_two_days[0:5]"
   ]
  },
  {
   "cell_type": "markdown",
   "metadata": {},
   "source": [
    "## Print out May trips testing files"
   ]
  },
  {
   "cell_type": "code",
   "execution_count": 43,
   "metadata": {
    "collapsed": true
   },
   "outputs": [],
   "source": [
    "less_than_two_days_2016_May.to_csv(\"may_2016.csv\")"
   ]
  },
  {
   "cell_type": "code",
   "execution_count": 44,
   "metadata": {
    "collapsed": true
   },
   "outputs": [],
   "source": [
    "less_than_two_days_2015_May.to_csv(\"may_2015.csv\")"
   ]
  }
 ],
 "metadata": {
  "anaconda-cloud": {},
  "kernelspec": {
   "display_name": "Python [conda root]",
   "language": "python",
   "name": "conda-root-py"
  },
  "language_info": {
   "codemirror_mode": {
    "name": "ipython",
    "version": 2
   },
   "file_extension": ".py",
   "mimetype": "text/x-python",
   "name": "python",
   "nbconvert_exporter": "python",
   "pygments_lexer": "ipython2",
   "version": "2.7.12"
  }
 },
 "nbformat": 4,
 "nbformat_minor": 1
}
