{
 "cells": [
  {
   "cell_type": "markdown",
   "metadata": {},
   "source": [
    "# Conditional Probability Binning"
   ]
  },
  {
   "cell_type": "markdown",
   "metadata": {},
   "source": [
    "## Overview"
   ]
  },
  {
   "cell_type": "markdown",
   "metadata": {},
   "source": [
    "This model leverages historical destination probabilities for all stations (calculated by type of day - weekday vs. weekend), and uses these conditional probabilities to predict the number of bikes that will arrive at each in the network on a given day based on the departure data from that day. \n",
    "\n",
    "As we'll soon observe, this model works rather well at predicting where bikes will end up up once we know where they left from (with predictions falling within a margin of two bikes for 95% of all arrivals in the given day I tested). While further validation is necesary, this early finding is encouraging as it suggests that travel patterns observed in our data may be somewhat consisten across months, or even years. \n",
    "\n",
    "I'll note that we have a pretty good sample size when analyzing patterns across an entire day (in our validation case, this number is 1197 bikes), but this story will soon be complicated as we pursue our lofty goal of predicting bike arrivals before they arrive. As most travel durations fall under 30 minutes, we'll be aiming to make arrival predictions in increments of time far smaller than 24 hours, which ultimately means we will be working with smaller numbers of departing bikes (compared to total bike departures for a day).   \n",
    "\n",
    "But before we address those hurdles, let's take a look at how we came up with our conditional probabilities. "
   ]
  },
  {
   "cell_type": "markdown",
   "metadata": {},
   "source": [
    "## Load data"
   ]
  },
  {
   "cell_type": "code",
   "execution_count": 337,
   "metadata": {},
   "outputs": [
    {
     "name": "stdout",
     "output_type": "stream",
     "text": [
      "The autoreload extension is already loaded. To reload it, use:\n",
      "  %reload_ext autoreload\n"
     ]
    }
   ],
   "source": [
    "%matplotlib inline\n",
    "import pandas as pd\n",
    "import numpy as np\n",
    "import matplotlib.pyplot as plt\n",
    "plt.style.use('ggplot')\n",
    "import pprint\n",
    "%load_ext autoreload\n",
    "from pylab import rcParams\n",
    "import matplotlib.patches as mpatches"
   ]
  },
  {
   "cell_type": "code",
   "execution_count": 346,
   "metadata": {
    "collapsed": true
   },
   "outputs": [],
   "source": [
    "may_2015 = pd.read_csv('~/Code/bikesupply/data/test_data/trips_may2015.csv', parse_dates = ['start_date'])\n",
    "may_2016 = pd.read_csv('~/Code/bikesupply/data/test_data/trips_may2016.csv', parse_dates = ['start_date'])"
   ]
  },
  {
   "cell_type": "code",
   "execution_count": 347,
   "metadata": {},
   "outputs": [],
   "source": [
    "may_2015['start_date'] = pd.to_datetime(may_2015['start_date'])\n",
    "may_2015['weekday'] = may_2015.start_date.dt.weekday"
   ]
  },
  {
   "cell_type": "markdown",
   "metadata": {},
   "source": [
    "## Weekday probability distribution"
   ]
  },
  {
   "cell_type": "markdown",
   "metadata": {},
   "source": [
    "I found very small training samples when I restrict by day type, so I opted to group all weekdays into one block, and aimed to test on a weekday in 2016. "
   ]
  },
  {
   "cell_type": "markdown",
   "metadata": {},
   "source": [
    "To evaulate performance, I defined a loss function that yields the following metrics:\n",
    "\n",
    "* Type I rate - false possitive (we were expecting them, and they didn't show up) \n",
    "* Type II error rate - false negatives (they showed up and we weren't expecting them) \n",
    "* Mean absolute error "
   ]
  },
  {
   "cell_type": "code",
   "execution_count": 353,
   "metadata": {},
   "outputs": [],
   "source": [
    "def false_negatives(train, test, set_size):\n",
    "    true_negatives = float(set_size - 1)\n",
    "    test = list(test.index)\n",
    "    train = list(train.index)\n",
    "    n = 0\n",
    "    for x in test:\n",
    "        if x not in train:\n",
    "            n += 1\n",
    "    print \"TYPE II (false negatives / divided by true negatives):\", \"%.2f\" % (n / true_negatives)\n",
    "\n",
    "def false_positives(train, test, set_size):\n",
    "    true_negatives = float(set_size - 1)\n",
    "    test = list(test.index)\n",
    "    train = list(train.index)\n",
    "    n = 0\n",
    "    for x in train:\n",
    "        if x not in test:\n",
    "            n += 1\n",
    "    print \"TYPE I (false positives / true negatives):\", \"%.2f\" % (n / true_negatives)\n",
    "    \n",
    "def mean_absolute_error(train, test):\n",
    "    sums = 0.0\n",
    "    n = float(max(len(train), len(test)))\n",
    "    train_data = train\n",
    "    test_data = test\n",
    "    test_list = list(test.index)\n",
    "    train_list = list(train.index)\n",
    "    for x in train_list:\n",
    "        if x in test_list:\n",
    "            sums += abs(train_data.get(x) - test_data.get(x))\n",
    "            train_list.pop(train_list.index(x))\n",
    "            test_list.pop(test_list.index(x))\n",
    "        else:\n",
    "            sums += train_data.get(x)\n",
    "            train_list.pop(train_list.index(x))\n",
    "                   \n",
    "    for x in test_list:\n",
    "        sums += test_data.get(x)\n",
    "        \n",
    "    return round((sums / n), 2)\n",
    "\n",
    "def one_station_loss_function(train, test, set_size, target_station, test_day):\n",
    "    train_station = train.query(\"start_station_id == {}\".format(target_station))\n",
    "    test_station = test.query('start_day == {} and start_station_id == {}'.format(test_day, target_station))\n",
    "    train_station_ids = train_station.groupby(['end_station_id'])['trip_id'].count() / len(train_station)\n",
    "    test_station_ids = test_station.groupby(['end_station_id'])['trip_id'].count() \n",
    "    binned_data = train_station_ids * len(test_station)\n",
    "    binned_data = binned_data[binned_data >= 0.3]\n",
    "    \n",
    "    print \"Mean Absolute Error:\", mean_absolute_error(binned_data, test_station_ids)"
   ]
  },
  {
   "cell_type": "code",
   "execution_count": 354,
   "metadata": {},
   "outputs": [],
   "source": [
    "may_2015_weekdays = may_2015.query(\"weekday >= 0 and weekday <= 4\")"
   ]
  },
  {
   "cell_type": "code",
   "execution_count": 355,
   "metadata": {},
   "outputs": [
    {
     "name": "stdout",
     "output_type": "stream",
     "text": [
      "Mean Absolute Error: 1.64\n"
     ]
    }
   ],
   "source": [
    "# STATION 50\n",
    "one_station_loss_function(may_2015_weekdays, may_2016, 84, 50, 2)"
   ]
  },
  {
   "cell_type": "code",
   "execution_count": 356,
   "metadata": {},
   "outputs": [
    {
     "name": "stdout",
     "output_type": "stream",
     "text": [
      "Mean Absolute Error: 2.29\n"
     ]
    }
   ],
   "source": [
    "# STATION 70\n",
    "one_station_loss_function(may_2015_weekdays, may_2016, 84, 70, 2)"
   ]
  },
  {
   "cell_type": "code",
   "execution_count": 357,
   "metadata": {},
   "outputs": [],
   "source": [
    "def station_data_split(train, test, test_day, station_id):\n",
    "    train_station = train.query(\"start_station_id == {}\".format(station_id))\n",
    "    train_station_ids = train_station.groupby(['end_station_id'])['trip_id'].count() / len(train_station)\n",
    "    test_station = test.query('start_day == {} and start_station_id == {}'.format(test_day, station_id))\n",
    "    test_station_ids = test_station.groupby(['end_station_id'])['trip_id'].count() \n",
    "    binned_data = train_station_ids * len(test_station)\n",
    "    binned_data = binned_data[binned_data >= 0.3]\n",
    "    \n",
    "    return binned_data, test_station_ids\n",
    "\n",
    "def plot_features(binned_data, test_station_ids, test_day, station_id):\n",
    "    rcParams['figure.figsize'] =  12, 6\n",
    "    plt.scatter(binned_data.index, binned_data, color = 'blue')\n",
    "    plt.scatter(test_station_ids.index, test_station_ids, color = 'green')\n",
    "    pred = mpatches.Patch(color='blue', label='Predicted')\n",
    "    actual = mpatches.Patch(color='green', label='Actuals')\n",
    "    plt.legend(handles=[pred, actual], loc=2)\n",
    "    plt.title(\"Station {}\".format(station_id))\n",
    "    plt.show()"
   ]
  },
  {
   "cell_type": "code",
   "execution_count": 366,
   "metadata": {},
   "outputs": [
    {
     "data": {
      "text/plain": [
       "1197"
      ]
     },
     "execution_count": 366,
     "metadata": {},
     "output_type": "execute_result"
    }
   ],
   "source": [
    "# How many bikes total moved on May 2, 2016?\n",
    "len(may_2016.query(\"start_day == 2\"))"
   ]
  },
  {
   "cell_type": "code",
   "execution_count": 358,
   "metadata": {},
   "outputs": [
    {
     "data": {
      "image/png": "[encoded data removed]",
      "text/plain": [
       "<matplotlib.figure.Figure at 0x113527650>"
      ]
     },
     "metadata": {},
     "output_type": "display_data"
    }
   ],
   "source": [
    "station_50_train, station_50_test = station_data_split(may_2015_weekdays, may_2016, 2, 50)\n",
    "plot_features(station_50_train, station_50_test, 2, 50)"
   ]
  },
  {
   "cell_type": "code",
   "execution_count": 359,
   "metadata": {},
   "outputs": [
    {
     "data": {
      "image/png": "[encoded data removed]",
      "text/plain": [
       "<matplotlib.figure.Figure at 0x115fe4dd0>"
      ]
     },
     "metadata": {},
     "output_type": "display_data"
    }
   ],
   "source": [
    "station_70_train, station_70_test = station_data_split(may_2015_weekdays, may_2016, 2, 70)\n",
    "plot_features(station_70_train, station_70_test, 2, 70)"
   ]
  },
  {
   "cell_type": "code",
   "execution_count": 360,
   "metadata": {},
   "outputs": [],
   "source": [
    "def multiple_station_loss_function(train, test, set_size):\n",
    "    d = {}\n",
    "    for i in range(set_size):\n",
    "        train_station = train.query(\"start_station_id == {}\".format(i))\n",
    "        test_station = test.query('start_day == 2 and start_station_id == {}'.format(i))\n",
    "        if i in list(train.start_station_id.values) and len(test_station) > 0:\n",
    "            train_station_ids = train_station.groupby(['end_station_id'])['trip_id'].count() / len(train_station)\n",
    "            test_station_ids = test_station.groupby(['end_station_id'])['trip_id'].count() \n",
    "            binned_data = train_station_ids * len(test_station)\n",
    "            binned_data = binned_data[binned_data >= 0.3]\n",
    "            d[i] = mean_absolute_error(binned_data, test_station_ids)\n",
    "    return d"
   ]
  },
  {
   "cell_type": "code",
   "execution_count": 361,
   "metadata": {},
   "outputs": [
    {
     "data": {
      "text/plain": [
       "<matplotlib.text.Text at 0x1182b6210>"
      ]
     },
     "execution_count": 361,
     "metadata": {},
     "output_type": "execute_result"
    },
    {
     "data": {
      "image/png": "[encoded data removed]",
      "text/plain": [
       "<matplotlib.figure.Figure at 0x119935cd0>"
      ]
     },
     "metadata": {},
     "output_type": "display_data"
    }
   ],
   "source": [
    "values = multiple_station_loss_function(may_2015_weekdays, may_2016, 84)\n",
    "plt.bar(values.keys(), values.values(), color = 'red', alpha = 0.3) \n",
    "plt.title(\"May 2, 2016 Average Absolute Errors (Prediction vs. Actual)\")"
   ]
  },
  {
   "cell_type": "code",
   "execution_count": 364,
   "metadata": {
    "collapsed": true
   },
   "outputs": [],
   "source": [
    "def percent_one_or_below(data):\n",
    "    n = float(len(data))\n",
    "    counts = 0\n",
    "    l = data.values()\n",
    "    for x in l:\n",
    "        if x <= 2.0:\n",
    "            counts += 1\n",
    "    return round((counts / n), 2)"
   ]
  },
  {
   "cell_type": "code",
   "execution_count": 365,
   "metadata": {},
   "outputs": [
    {
     "name": "stdout",
     "output_type": "stream",
     "text": [
      "0.95\n"
     ]
    }
   ],
   "source": [
    "print percent_one_or_below(values)"
   ]
  },
  {
   "cell_type": "markdown",
   "metadata": {},
   "source": [
    "95% of predictions for May 2, 2016 station arrivals (both station and number of bikes) based on soley on departure data were within an average accuracy of 2 bikes. "
   ]
  },
  {
   "cell_type": "markdown",
   "metadata": {},
   "source": [
    "## Time estimates"
   ]
  },
  {
   "cell_type": "code",
   "execution_count": 3,
   "metadata": {
    "collapsed": true
   },
   "outputs": [],
   "source": [
    "def create_time_columns(data, date_column, hour_column, minutes_column, delta_column):\n",
    "    data[date_column] = pd.to_datetime(data[date_column])\n",
    "    data = data.set_index(date_column)\n",
    "    data[hour_column] = [ts.hour for ts in data.index]\n",
    "    data[minutes_column] = [ts.minute for ts in data.index]\n",
    "    data[delta_column] = (data[hour_column] * 60) + data[minutes_column]\n",
    "    data = data.reset_index()\n",
    "    return data\n",
    "                                \n",
    "create_time_columns(may_2015, 'end_date', 'end_hour', 'end_minutes', 'end_time_in_mins')\n",
    "create_time_columns(may_2016, 'start_date', 'start_hour', 'start_minutes', 'start_time_in_mins')                      "
   ]
  }
 ],
 "metadata": {
  "anaconda-cloud": {},
  "kernelspec": {
   "display_name": "Python [conda root]",
   "language": "python",
   "name": "conda-root-py"
  },
  "language_info": {
   "codemirror_mode": {
    "name": "ipython",
    "version": 2
   },
   "file_extension": ".py",
   "mimetype": "text/x-python",
   "name": "python",
   "nbconvert_exporter": "python",
   "pygments_lexer": "ipython2",
   "version": "2.7.12"
  }
 },
 "nbformat": 4,
 "nbformat_minor": 2
}
