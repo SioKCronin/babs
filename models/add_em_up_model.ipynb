{
 "cells": [
  {
   "cell_type": "markdown",
   "metadata": {},
   "source": [
    "# Add em up model"
   ]
  },
  {
   "cell_type": "markdown",
   "metadata": {},
   "source": [
    "## Overview"
   ]
  },
  {
   "cell_type": "markdown",
   "metadata": {},
   "source": [
    "Given the bikes that have departed so far today, how many bikes will be available at all stations in the next 30 minutes? \n",
    "\n",
    "Calculate the historical destination probabilities for all stations in 5 minute increments by month and day type.\n",
    "\n",
    "When a bike leaves a given station, add the conditional probabilities of arriving at all stations to the bins of each destination station (at the average time of bikes traveling between the start and end station). \n",
    "\n",
    "For each station, when the bins have over a certain threshold (0.50?), shave off the extra and have that extra be the new probabilitiy binned, and +1 to the incoming bike counter. Departures will be based on historical averages for that station during that interval. \n"
   ]
  },
  {
   "cell_type": "markdown",
   "metadata": {},
   "source": [
    "## Load May data"
   ]
  },
  {
   "cell_type": "code",
   "execution_count": 1,
   "metadata": {},
   "outputs": [
    {
     "data": {
      "text/plain": [
       "<matplotlib.figure.Figure at 0x105b19d50>"
      ]
     },
     "metadata": {},
     "output_type": "display_data"
    }
   ],
   "source": [
    "%matplotlib inline\n",
    "import pandas as pd\n",
    "import numpy as np\n",
    "import matplotlib.pyplot as plt\n",
    "plt.style.use('ggplot')\n",
    "import pprint\n",
    "%load_ext autoreload\n",
    "from pylab import rcParams\n",
    "from pymc3 import  *\n",
    "\n",
    "fig = plt.gcf()\n",
    "fig.set_size_inches(18.5, 10.5)"
   ]
  },
  {
   "cell_type": "code",
   "execution_count": 103,
   "metadata": {
    "collapsed": true
   },
   "outputs": [],
   "source": [
    "may_2015 = pd.read_csv('~/Code/bikesupply/data/test_data/trips_may2015.csv', parse_dates = ['start_date'])\n",
    "may_2016 = pd.read_csv('~/Code/bikesupply/data/test_data/trips_may2016.csv', parse_dates = ['start_date'])"
   ]
  },
  {
   "cell_type": "code",
   "execution_count": 104,
   "metadata": {
    "collapsed": true
   },
   "outputs": [],
   "source": [
    "def extract_times_from_timestamp(data):\n",
    "    data['start_date'] = pd.to_datetime(data['start_date'])\n",
    "    data = data.set_index('start_date')\n",
    "    data['weekday'] = [ts.weekday() for ts in data.index]\n",
    "    data['start_hour'] = [ts.hour for ts in data.index]\n",
    "    data['start_minutes'] = [ts.minute for ts in data.index]\n",
    "    data['start_time_in_mins'] = (data['start_day'] * 1440) + (data['start_hour'] * 60) + data['start_minutes']\n",
    "    data = data.reset_index()\n",
    "    data['end_date'] = pd.to_datetime(data['end_date'])\n",
    "    data = data.set_index('end_date')\n",
    "    data['end_hour'] = [ts.hour for ts in data.index]\n",
    "    data['end_minutes'] = [ts.minute for ts in data.index]\n",
    "    data['end_time_in_mins'] = (data['end_day'] * 1440) + (data['end_hour'] * 60) + data['end_minutes']\n",
    "    data = data.reset_index()  \n",
    "    \n",
    "    return data"
   ]
  },
  {
   "cell_type": "code",
   "execution_count": 105,
   "metadata": {
    "collapsed": true
   },
   "outputs": [],
   "source": [
    "may_2015 = extract_times_from_timestamp(may_2015)"
   ]
  },
  {
   "cell_type": "code",
   "execution_count": 107,
   "metadata": {},
   "outputs": [],
   "source": [
    "may_2016 = extract_times_from_timestamp(may_2016)"
   ]
  },
  {
   "cell_type": "markdown",
   "metadata": {},
   "source": [
    "## Weekday probability distribution"
   ]
  },
  {
   "cell_type": "markdown",
   "metadata": {},
   "source": [
    "Very small training sample when we restrict by day type. What if we grouped all weekdays for that same time block?"
   ]
  },
  {
   "cell_type": "code",
   "execution_count": 226,
   "metadata": {
    "collapsed": true
   },
   "outputs": [],
   "source": [
    "may_2015_weekdays = may_2015.query(\"weekday >= 0 and weekday <= 4\")"
   ]
  },
  {
   "cell_type": "code",
   "execution_count": 227,
   "metadata": {},
   "outputs": [
    {
     "data": {
      "text/plain": [
       "26055"
      ]
     },
     "execution_count": 227,
     "metadata": {},
     "output_type": "execute_result"
    }
   ],
   "source": [
    "len(may_2015_weekdays)"
   ]
  },
  {
   "cell_type": "code",
   "execution_count": 228,
   "metadata": {},
   "outputs": [],
   "source": [
    "station_50 = may_2015_weekdays.query(\"start_station_id == 50\")\n",
    "station_ids = station_50.groupby(['end_station_id'])['trip_id'].count() / len(station_50)"
   ]
  },
  {
   "cell_type": "code",
   "execution_count": 222,
   "metadata": {},
   "outputs": [
    {
     "data": {
      "text/plain": [
       "60"
      ]
     },
     "execution_count": 222,
     "metadata": {},
     "output_type": "execute_result"
    }
   ],
   "source": [
    "may_2_2016 = may_2016.query('start_day == 2 and start_station_id == 50')\n",
    "len(may_2_2016)"
   ]
  },
  {
   "cell_type": "code",
   "execution_count": 223,
   "metadata": {},
   "outputs": [],
   "source": [
    "may_2_stations = may_2_2016.groupby(['end_station_id'])['trip_id'].count() "
   ]
  },
  {
   "cell_type": "code",
   "execution_count": 264,
   "metadata": {
    "collapsed": true
   },
   "outputs": [],
   "source": [
    "binned_data = station_ids * 60"
   ]
  },
  {
   "cell_type": "code",
   "execution_count": 260,
   "metadata": {},
   "outputs": [],
   "source": [
    "binned_data = binned_data[binned_data >= .5]"
   ]
  },
  {
   "cell_type": "code",
   "execution_count": 265,
   "metadata": {},
   "outputs": [
    {
     "data": {
      "text/plain": [
       "end_station_id\n",
       "39     1.086420\n",
       "41     0.444444\n",
       "42     0.345679\n",
       "45     0.592593\n",
       "46     0.098765\n",
       "47     1.283951\n",
       "48     1.086420\n",
       "49     0.395062\n",
       "50     1.679012\n",
       "51     0.049383\n",
       "54     1.679012\n",
       "55     0.888889\n",
       "56     0.098765\n",
       "57     1.925926\n",
       "58     0.197531\n",
       "59     0.246914\n",
       "60    11.950617\n",
       "61     9.481481\n",
       "62     2.271605\n",
       "63     1.382716\n",
       "64     2.518519\n",
       "65     2.172840\n",
       "66     0.345679\n",
       "67     0.790123\n",
       "68     2.469136\n",
       "69     1.679012\n",
       "70     7.506173\n",
       "71     0.543210\n",
       "73     0.444444\n",
       "74     0.049383\n",
       "75     0.740741\n",
       "76     0.740741\n",
       "77     2.320988\n",
       "82     0.493827\n",
       "Name: trip_id, dtype: float64"
      ]
     },
     "execution_count": 265,
     "metadata": {},
     "output_type": "execute_result"
    }
   ],
   "source": [
    "binned_data"
   ]
  },
  {
   "cell_type": "code",
   "execution_count": 266,
   "metadata": {},
   "outputs": [
    {
     "data": {
      "image/png": "[encoded data removed]",
      "text/plain": [
       "<matplotlib.figure.Figure at 0x11c7cecd0>"
      ]
     },
     "metadata": {},
     "output_type": "display_data"
    }
   ],
   "source": [
    "plt.scatter(binned_data.index, binned_data, color = 'blue')\n",
    "plt.scatter(may_2_stations.index, may_2_stations, color = 'green')\n",
    "\n",
    "plt.show()"
   ]
  },
  {
   "cell_type": "markdown",
   "metadata": {},
   "source": [
    "All stations where bikes arrived were predicted for this station by the historical weekday data. However, we also predicted stations that didn't show up (although these were all low probabilities and could be filtered out). "
   ]
  },
  {
   "cell_type": "code",
   "execution_count": 263,
   "metadata": {
    "collapsed": true
   },
   "outputs": [],
   "source": [
    "# Define a function that creates a matrix of probabilities of destination stations for this given hour for each starting station. \n",
    "\n",
    "\n",
    "# i.e. if Station 1 sends 1 bike to Station 2, and no other bikes to any othe station\n",
    "# we estimate that if a bike leaves Station 1 it is bound for Station 2 100% of the time (p = 1.0)\n",
    "# If Station 1 sends 2 bikes to Station 2, 1 bike to Station 3, and 1 bike to Station 4\n",
    "# then the probabilities would be 0.50 (Station 2), 0.25 (Station 3), and 0.25 (Station 4)"
   ]
  },
  {
   "cell_type": "code",
   "execution_count": 92,
   "metadata": {
    "collapsed": true
   },
   "outputs": [],
   "source": [
    "# If a bike leaves a given station, return the probabilities of the destination stations to each station's bin"
   ]
  },
  {
   "cell_type": "code",
   "execution_count": 93,
   "metadata": {
    "collapsed": true
   },
   "outputs": [],
   "source": [
    "# Compare the binned probabilities with the actual bike destinations. Do they correlate? Should probs be rounded up?"
   ]
  },
  {
   "cell_type": "markdown",
   "metadata": {},
   "source": []
  }
 ],
 "metadata": {
  "anaconda-cloud": {},
  "kernelspec": {
   "display_name": "Python [conda root]",
   "language": "python",
   "name": "conda-root-py"
  },
  "language_info": {
   "codemirror_mode": {
    "name": "ipython",
    "version": 2
   },
   "file_extension": ".py",
   "mimetype": "text/x-python",
   "name": "python",
   "nbconvert_exporter": "python",
   "pygments_lexer": "ipython2",
   "version": "2.7.12"
  }
 },
 "nbformat": 4,
 "nbformat_minor": 2
}
