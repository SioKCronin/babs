{
 "cells": [
  {
   "cell_type": "markdown",
   "metadata": {},
   "source": [
    "# Bayes Net Model"
   ]
  },
  {
   "cell_type": "markdown",
   "metadata": {},
   "source": [
    "## Overview"
   ]
  },
  {
   "cell_type": "markdown",
   "metadata": {},
   "source": [
    "Given the bikes that have departed so far today, how many bikes will be available at all stations in the next 30 minutes? \n",
    "\n",
    "For the sake of our analysis, we will work with trips data only (avialable bikes being calculated as deltas of real data deltas, and not from status, as it is presently unclear how much bike redistribution takes place in the current data). \n",
    "\n",
    "The general structure of the model is to use as priors the conditional probabilities of all stations as root nodes sending bikes to all nonroot nodes (by month, day-type, weather, and five minute time increment). These means that all stations are treated as nodes, yet since arrivals do not influence the probability of the next conditional probability mapping in the next 5 minutes, we can think of the destination bins as an indpendent calculation from the network. We will start with new priors each 5 minutes. \n",
    "\n",
    "My thought for the \"typical_day_index\" is to create a weighted factor that is calculated from each station's activity up to the bin we are starting our prediction at. If the day is \"slow\", we will attenuate our predictions. If there is high volume, we will boost our predictions. This will be a scaler weight that is the ratio of the diference between the current day and historical average of bikes deployed divided by the \n",
    "\n",
    "x = b_current_total - b_historical_total\n",
    "\n",
    "weighted_probability = conditional_probability * (1 + x) "
   ]
  },
  {
   "cell_type": "markdown",
   "metadata": {},
   "source": [
    "## Primary features"
   ]
  },
  {
   "cell_type": "markdown",
   "metadata": {},
   "source": [
    "For each non-root node we will calculate: \n",
    "* start_avail_bikes\n",
    "* avail_bikes_delta ** This is what our model is estimating**\n",
    "* end_avail_bikes  = y_start_avail_bikes + y_avail_bikes_delta"
   ]
  },
  {
   "cell_type": "markdown",
   "metadata": {},
   "source": [
    "## Features used to calculate available bikes delta"
   ]
  },
  {
   "cell_type": "markdown",
   "metadata": {},
   "source": [
    "* start_station\n",
    "* time_bin\n",
    "* day_type\n",
    "* weather\n",
    "* month \n",
    "* typical_index"
   ]
  },
  {
   "cell_type": "markdown",
   "metadata": {},
   "source": [
    "## Quanifying states and changes"
   ]
  },
  {
   "cell_type": "markdown",
   "metadata": {},
   "source": [
    "A simple way to think about states in this model is to visualize a plot of all the binned departures and arrivals for each station by some time interval. Let's say every five minutes in the hour preceeding our start time. Minute by minute we cast a distribution for our station feeding all other stations in the network in the future based on the prior of our current available bike deltas for that day (not absolute bikes available, as redistribution might change from day to day). \n",
    "\n",
    "I imagine this as a series of snapshots (matrices) for each station showing the departure times of bikes that fed into that station over the course of the day so far. Given the patterns we see in those changing states today, what examplar day in our station's hisotry does that most resemble? What are our predictive results if we adopt that day's regression model for each feeder station?\n",
    "\n",
    "In this case, the regressions for our model are selected station by station for all of our possible 83 feeder stations, based on their activity that day (leading us to the most similar branch). "
   ]
  },
  {
   "cell_type": "markdown",
   "metadata": {},
   "source": [
    "## Load May data"
   ]
  },
  {
   "cell_type": "code",
   "execution_count": 1,
   "metadata": {},
   "outputs": [
    {
     "data": {
      "text/plain": [
       "<matplotlib.figure.Figure at 0x105baad50>"
      ]
     },
     "metadata": {},
     "output_type": "display_data"
    }
   ],
   "source": [
    "%matplotlib inline\n",
    "import pandas as pd\n",
    "import numpy as np\n",
    "import matplotlib.pyplot as plt\n",
    "plt.style.use('ggplot')\n",
    "import pprint\n",
    "%load_ext autoreload\n",
    "from pylab import rcParams\n",
    "from pymc3 import  *\n",
    "\n",
    "fig = plt.gcf()\n",
    "fig.set_size_inches(18.5, 10.5)"
   ]
  },
  {
   "cell_type": "code",
   "execution_count": 2,
   "metadata": {
    "collapsed": true
   },
   "outputs": [],
   "source": [
    "may_15 = pd.read_csv('~/Code/bikesupply/data/test_data/trips_may2015.csv', parse_dates = ['start_date'])\n",
    "may_16 = pd.read_csv('~/Code/bikesupply/data/test_data/trips_may2016.csv', parse_dates = ['start_date'])"
   ]
  },
  {
   "cell_type": "code",
   "execution_count": 3,
   "metadata": {
    "collapsed": true
   },
   "outputs": [],
   "source": [
    "may_15 = may_15.set_index('start_date')\n",
    "may_15['weekday'] = [ts.weekday() for ts in may_15.index]\n",
    "may_15['start_hour'] = [ts.hour for ts in may_15.index]\n",
    "may_15['start_minutes'] = [ts.minute for ts in may_15.index]\n",
    "may_15['start_time_in_mins'] = (may_15['start_day'] * 1440) + (may_15['start_hour'] * 60) + may_15['start_minutes']"
   ]
  },
  {
   "cell_type": "code",
   "execution_count": 4,
   "metadata": {
    "collapsed": true
   },
   "outputs": [],
   "source": [
    "may_15 = may_15.reset_index()"
   ]
  },
  {
   "cell_type": "code",
   "execution_count": 5,
   "metadata": {
    "collapsed": true
   },
   "outputs": [],
   "source": [
    "may_15['end_date'] = pd.to_datetime(may_15['end_date'])"
   ]
  },
  {
   "cell_type": "code",
   "execution_count": 6,
   "metadata": {
    "collapsed": true
   },
   "outputs": [],
   "source": [
    "may_15 = may_15.set_index('end_date')\n",
    "may_15['end_hour'] = [ts.hour for ts in may_15.index]\n",
    "may_15['end_minutes'] = [ts.minute for ts in may_15.index]\n",
    "may_15['end_time_in_mins'] = (may_15['end_day'] * 1440) + (may_15['end_hour'] * 60) + may_15['end_minutes']"
   ]
  },
  {
   "cell_type": "code",
   "execution_count": 7,
   "metadata": {
    "collapsed": true
   },
   "outputs": [],
   "source": [
    "may_15 = may_15.reset_index()"
   ]
  },
  {
   "cell_type": "markdown",
   "metadata": {},
   "source": [
    "## Trip lengths"
   ]
  },
  {
   "cell_type": "code",
   "execution_count": 8,
   "metadata": {
    "collapsed": true
   },
   "outputs": [],
   "source": [
    "may_15['deltas'] = may_15['end_time_in_mins'] - may_15['start_time_in_mins']"
   ]
  },
  {
   "cell_type": "code",
   "execution_count": 9,
   "metadata": {
    "collapsed": true
   },
   "outputs": [],
   "source": [
    "deltas = may_15['deltas']\n",
    "deltas = pd.Series(deltas).where(lambda x : x >= 0).dropna()"
   ]
  },
  {
   "cell_type": "code",
   "execution_count": 10,
   "metadata": {},
   "outputs": [
    {
     "data": {
      "text/plain": [
       "<matplotlib.axes._subplots.AxesSubplot at 0x11068e1d0>"
      ]
     },
     "execution_count": 10,
     "metadata": {},
     "output_type": "execute_result"
    },
    {
     "data": {
      "image/png": "[encoded data removed]",
      "text/plain": [
       "<matplotlib.figure.Figure at 0x10fcf5c90>"
      ]
     },
     "metadata": {},
     "output_type": "display_data"
    }
   ],
   "source": [
    "rcParams['figure.figsize'] =  14, 7\n",
    "\n",
    "deltas.hist(bins = [5, 10, 15, 20, 25, 30, 35, 40, 45, 50, 55, 60])"
   ]
  },
  {
   "cell_type": "code",
   "execution_count": 11,
   "metadata": {},
   "outputs": [
    {
     "ename": "NameError",
     "evalue": "name 'deltas_15' is not defined",
     "output_type": "error",
     "traceback": [
      "\u001b[0;31m---------------------------------------------------------------------------\u001b[0m",
      "\u001b[0;31mNameError\u001b[0m                                 Traceback (most recent call last)",
      "\u001b[0;32m<ipython-input-11-a6cb2615d900>\u001b[0m in \u001b[0;36m<module>\u001b[0;34m()\u001b[0m\n\u001b[0;32m----> 1\u001b[0;31m \u001b[0mdeltas_15\u001b[0m\u001b[0;34m\u001b[0m\u001b[0m\n\u001b[0m",
      "\u001b[0;31mNameError\u001b[0m: name 'deltas_15' is not defined"
     ]
    }
   ],
   "source": [
    "deltas_15"
   ]
  },
  {
   "cell_type": "code",
   "execution_count": null,
   "metadata": {
    "collapsed": true
   },
   "outputs": [],
   "source": [
    "# Create bins of +60 minute intervals for each station and populate with arrival data (for training)"
   ]
  },
  {
   "cell_type": "markdown",
   "metadata": {},
   "source": [
    "## May 4, 2015"
   ]
  },
  {
   "cell_type": "markdown",
   "metadata": {},
   "source": [
    "As we have for our other models, let's bild for a particular day. Let's select May 4, 2015 (the first Monday in May). "
   ]
  },
  {
   "cell_type": "code",
   "execution_count": 13,
   "metadata": {},
   "outputs": [],
   "source": [
    "# Filter May 4 data\n",
    "may_4 = may_15.query('start_day == 4')\n",
    "\n",
    "# Calculate bike deltas for that day from trips (not from status)\n",
    "# Zero into a busy time of day - calculate the delta from ten-minutes before start to start, \n",
    "# and calculate deltas for each station in the next 30 minutes"
   ]
  },
  {
   "cell_type": "code",
   "execution_count": 17,
   "metadata": {},
   "outputs": [],
   "source": [
    "thirty_minutes = may_4.query('start_time_in_mins >=6480 and start_time_in_mins <= 6510')"
   ]
  },
  {
   "cell_type": "code",
   "execution_count": 20,
   "metadata": {},
   "outputs": [
    {
     "data": {
      "text/html": [
       "<div>\n",
       "<table border=\"1\" class=\"dataframe\">\n",
       "  <thead>\n",
       "    <tr style=\"text-align: right;\">\n",
       "      <th></th>\n",
       "      <th>end_date</th>\n",
       "      <th>start_date</th>\n",
       "      <th>Unnamed: 0</th>\n",
       "      <th>trip_id</th>\n",
       "      <th>duration_sec</th>\n",
       "      <th>start_station_name</th>\n",
       "      <th>start_station_id</th>\n",
       "      <th>end_station_name</th>\n",
       "      <th>end_station_id</th>\n",
       "      <th>bike_number</th>\n",
       "      <th>...</th>\n",
       "      <th>end_time</th>\n",
       "      <th>end_yyyymmdd</th>\n",
       "      <th>weekday</th>\n",
       "      <th>start_hour</th>\n",
       "      <th>start_minutes</th>\n",
       "      <th>start_time_in_mins</th>\n",
       "      <th>end_hour</th>\n",
       "      <th>end_minutes</th>\n",
       "      <th>end_time_in_mins</th>\n",
       "      <th>deltas</th>\n",
       "    </tr>\n",
       "  </thead>\n",
       "  <tbody>\n",
       "    <tr>\n",
       "      <th>539</th>\n",
       "      <td>2015-05-04 12:27:00</td>\n",
       "      <td>2015-05-04 12:12:00</td>\n",
       "      <td>16767</td>\n",
       "      <td>751935</td>\n",
       "      <td>875</td>\n",
       "      <td>Beale at Market</td>\n",
       "      <td>56</td>\n",
       "      <td>2nd at South Park</td>\n",
       "      <td>64</td>\n",
       "      <td>158</td>\n",
       "      <td>...</td>\n",
       "      <td>12:27:00</td>\n",
       "      <td>20150504</td>\n",
       "      <td>0</td>\n",
       "      <td>12</td>\n",
       "      <td>12</td>\n",
       "      <td>6492</td>\n",
       "      <td>12</td>\n",
       "      <td>27</td>\n",
       "      <td>6507</td>\n",
       "      <td>15</td>\n",
       "    </tr>\n",
       "    <tr>\n",
       "      <th>1679</th>\n",
       "      <td>2015-05-04 12:07:00</td>\n",
       "      <td>2015-05-04 12:03:00</td>\n",
       "      <td>54942</td>\n",
       "      <td>751930</td>\n",
       "      <td>199</td>\n",
       "      <td>Embarcadero at Vallejo</td>\n",
       "      <td>48</td>\n",
       "      <td>Steuart at Market</td>\n",
       "      <td>74</td>\n",
       "      <td>442</td>\n",
       "      <td>...</td>\n",
       "      <td>12:07:00</td>\n",
       "      <td>20150504</td>\n",
       "      <td>0</td>\n",
       "      <td>12</td>\n",
       "      <td>3</td>\n",
       "      <td>6483</td>\n",
       "      <td>12</td>\n",
       "      <td>7</td>\n",
       "      <td>6487</td>\n",
       "      <td>4</td>\n",
       "    </tr>\n",
       "    <tr>\n",
       "      <th>1788</th>\n",
       "      <td>2015-05-04 12:09:00</td>\n",
       "      <td>2015-05-04 12:04:00</td>\n",
       "      <td>58772</td>\n",
       "      <td>751931</td>\n",
       "      <td>287</td>\n",
       "      <td>San Pedro Square</td>\n",
       "      <td>6</td>\n",
       "      <td>San Jose Diridon Caltrain Station</td>\n",
       "      <td>2</td>\n",
       "      <td>103</td>\n",
       "      <td>...</td>\n",
       "      <td>12:09:00</td>\n",
       "      <td>20150504</td>\n",
       "      <td>0</td>\n",
       "      <td>12</td>\n",
       "      <td>4</td>\n",
       "      <td>6484</td>\n",
       "      <td>12</td>\n",
       "      <td>9</td>\n",
       "      <td>6489</td>\n",
       "      <td>5</td>\n",
       "    </tr>\n",
       "    <tr>\n",
       "      <th>2972</th>\n",
       "      <td>2015-05-04 12:22:00</td>\n",
       "      <td>2015-05-04 12:11:00</td>\n",
       "      <td>97959</td>\n",
       "      <td>751932</td>\n",
       "      <td>683</td>\n",
       "      <td>Civic Center BART (7th at Market)</td>\n",
       "      <td>72</td>\n",
       "      <td>2nd at Folsom</td>\n",
       "      <td>62</td>\n",
       "      <td>607</td>\n",
       "      <td>...</td>\n",
       "      <td>12:22:00</td>\n",
       "      <td>20150504</td>\n",
       "      <td>0</td>\n",
       "      <td>12</td>\n",
       "      <td>11</td>\n",
       "      <td>6491</td>\n",
       "      <td>12</td>\n",
       "      <td>22</td>\n",
       "      <td>6502</td>\n",
       "      <td>11</td>\n",
       "    </tr>\n",
       "    <tr>\n",
       "      <th>4478</th>\n",
       "      <td>2015-05-04 12:26:00</td>\n",
       "      <td>2015-05-04 12:16:00</td>\n",
       "      <td>148699</td>\n",
       "      <td>751941</td>\n",
       "      <td>569</td>\n",
       "      <td>Washington at Kearny</td>\n",
       "      <td>46</td>\n",
       "      <td>Post at Kearny</td>\n",
       "      <td>47</td>\n",
       "      <td>300</td>\n",
       "      <td>...</td>\n",
       "      <td>12:26:00</td>\n",
       "      <td>20150504</td>\n",
       "      <td>0</td>\n",
       "      <td>12</td>\n",
       "      <td>16</td>\n",
       "      <td>6496</td>\n",
       "      <td>12</td>\n",
       "      <td>26</td>\n",
       "      <td>6506</td>\n",
       "      <td>10</td>\n",
       "    </tr>\n",
       "  </tbody>\n",
       "</table>\n",
       "<p>5 rows × 29 columns</p>\n",
       "</div>"
      ],
      "text/plain": [
       "                end_date          start_date  Unnamed: 0  trip_id  \\\n",
       "539  2015-05-04 12:27:00 2015-05-04 12:12:00       16767   751935   \n",
       "1679 2015-05-04 12:07:00 2015-05-04 12:03:00       54942   751930   \n",
       "1788 2015-05-04 12:09:00 2015-05-04 12:04:00       58772   751931   \n",
       "2972 2015-05-04 12:22:00 2015-05-04 12:11:00       97959   751932   \n",
       "4478 2015-05-04 12:26:00 2015-05-04 12:16:00      148699   751941   \n",
       "\n",
       "      duration_sec                 start_station_name  start_station_id  \\\n",
       "539            875                    Beale at Market                56   \n",
       "1679           199             Embarcadero at Vallejo                48   \n",
       "1788           287                   San Pedro Square                 6   \n",
       "2972           683  Civic Center BART (7th at Market)                72   \n",
       "4478           569               Washington at Kearny                46   \n",
       "\n",
       "                       end_station_name  end_station_id  bike_number  ...    \\\n",
       "539                   2nd at South Park              64          158  ...     \n",
       "1679                  Steuart at Market              74          442  ...     \n",
       "1788  San Jose Diridon Caltrain Station               2          103  ...     \n",
       "2972                      2nd at Folsom              62          607  ...     \n",
       "4478                     Post at Kearny              47          300  ...     \n",
       "\n",
       "      end_time end_yyyymmdd weekday start_hour  start_minutes  \\\n",
       "539   12:27:00     20150504       0         12             12   \n",
       "1679  12:07:00     20150504       0         12              3   \n",
       "1788  12:09:00     20150504       0         12              4   \n",
       "2972  12:22:00     20150504       0         12             11   \n",
       "4478  12:26:00     20150504       0         12             16   \n",
       "\n",
       "      start_time_in_mins  end_hour end_minutes  end_time_in_mins deltas  \n",
       "539                 6492        12          27              6507     15  \n",
       "1679                6483        12           7              6487      4  \n",
       "1788                6484        12           9              6489      5  \n",
       "2972                6491        12          22              6502     11  \n",
       "4478                6496        12          26              6506     10  \n",
       "\n",
       "[5 rows x 29 columns]"
      ]
     },
     "execution_count": 20,
     "metadata": {},
     "output_type": "execute_result"
    }
   ],
   "source": [
    "thirty_minutes[0:5]"
   ]
  },
  {
   "cell_type": "code",
   "execution_count": 21,
   "metadata": {
    "collapsed": true
   },
   "outputs": [],
   "source": [
    "# https://plot.ly/ipython-notebooks/network-graphs/"
   ]
  },
  {
   "cell_type": "markdown",
   "metadata": {},
   "source": [
    "##  Average travel time between stations"
   ]
  },
  {
   "cell_type": "code",
   "execution_count": null,
   "metadata": {
    "collapsed": true
   },
   "outputs": [],
   "source": []
  },
  {
   "cell_type": "markdown",
   "metadata": {},
   "source": [
    "This will be used to predict when to \"bin\" the predicted arriving bikes at the target station."
   ]
  },
  {
   "cell_type": "markdown",
   "metadata": {},
   "source": [
    "## PyMC3"
   ]
  },
  {
   "cell_type": "code",
   "execution_count": null,
   "metadata": {},
   "outputs": [
    {
     "name": "stdout",
     "output_type": "stream",
     "text": [
      "==============\n",
      " PyMC console\n",
      "==============\n",
      "\n",
      "        PyMC is now sampling. Use the following commands to query or pause the sampler.\n",
      "        \n",
      "\n",
      "        Commands:\n",
      "          i -- index: print current iteration index\n",
      "          p -- pause: interrupt sampling and return to the main console.\n",
      "                      Sampling can be resumed later with icontinue().\n",
      "          h -- halt:  stop sampling and truncate trace. Sampling cannot be\n",
      "                      resumed for this chain.\n",
      "          b -- bg:    return to the main console. The sampling will still\n",
      "                      run in a background thread. There is a possibility of\n",
      "                      malfunction if you interfere with the Sampler's\n",
      "                      state or the database during sampling. Use this at your\n",
      "                      own risk.\n",
      "        \n",
      "pymc > \tTuning at iteration 1000\n",
      "\tMetropolis_beta tuning:\n",
      "\t\tvalue: 0.00147251777466\n",
      "\t\tacceptance rate: 0.001\n",
      "\t\tadaptive scale factor: 0.5\n",
      "\n"
     ]
    }
   ],
   "source": [
    "from scipy.stats import norm\n",
    "from pymc import Normal, Lambda, Bernoulli\n",
    "from numpy import mean, std\n",
    "\n",
    "# Data\n",
    "grade = (0, 0, 1, 0, 1, 1, 1, 1, 1, 1, 1, 1, 1, 1, 1, 0, 1, 0, 0, 1, 1, 0, 1, 1, 0, 1, 0, 1, 1, 1)\n",
    "sat = (525, 533, 545, 582, 581, 576, 572, 609, 559, 543, 576, 525, 574, 582, 574, 471, 595, 557, 557, 584, 599, 517, 649, 584, 463, 591, 488, 563, 553, 549)\n",
    "\n",
    "# Probit transform\n",
    "probit = norm.cdf\n",
    "\n",
    "# Linear model parameters\n",
    "alpha = Normal('alpha', mu=0.0, tau=0.001, value=0)\n",
    "beta = Normal('beta', mu=0.0, tau=0.001, value=0)\n",
    "\n",
    "# Probability of passing\n",
    "p = Lambda('p', lambda a=alpha, b=beta, x=sat: probit(a+b*x))\n",
    "\n",
    "# Data likelihood\n",
    "y = Bernoulli('y', p=p, value=grade, observed=True)\n",
    "\n",
    "if __name__ == '__main__':\n",
    "    \n",
    "    from pymc import MCMC, Matplot\n",
    "    M = MCMC([alpha, beta, p, y])\n",
    "    M.isample(20000, 10000, verbose=2)\n",
    "    Matplot.plot(M)"
   ]
  },
  {
   "cell_type": "code",
   "execution_count": 70,
   "metadata": {
    "collapsed": true
   },
   "outputs": [],
   "source": [
    "# Testing out code from https://healthyalgorithms.com/2011/11/23/causal-modeling-in-python-bayesian-networks-in-pymc/\n",
    "# sprinkler.py\n",
    "import pylab as pl\n",
    "import pymc as mc\n",
    " \n",
    "G_obs = [1.]\n",
    "N = len(G_obs)\n",
    " \n",
    "R = mc.Bernoulli('R', .2, value=pl.ones(N))\n",
    " \n",
    "p_S = mc.Lambda('p_S', lambda R=R: pl.where(R, .01, .4),\n",
    "                doc='Pr[S|R]')\n",
    "S = mc.Bernoulli('S', p_S, value=pl.ones(N))\n",
    " \n",
    "p_G = mc.Lambda('p_G', lambda S=S, R=R:\n",
    "                pl.where(S, pl.where(R, .99, .9), pl.where(R, .8, 0.)),\n",
    "                doc='Pr[G|S,R]')\n",
    "G = mc.Bernoulli('G', p_G, value=G_obs, observed=True)"
   ]
  },
  {
   "cell_type": "code",
   "execution_count": 71,
   "metadata": {},
   "outputs": [
    {
     "ename": "ImportError",
     "evalue": "No module named sprinkler",
     "output_type": "error",
     "traceback": [
      "\u001b[0;31m---------------------------------------------------------------------------\u001b[0m",
      "\u001b[0;31mImportError\u001b[0m                               Traceback (most recent call last)",
      "\u001b[0;32m<ipython-input-71-14fed73166ce>\u001b[0m in \u001b[0;36m<module>\u001b[0;34m()\u001b[0m\n\u001b[0;32m----> 1\u001b[0;31m \u001b[0;32mimport\u001b[0m \u001b[0msprinkler\u001b[0m\u001b[0;34m\u001b[0m\u001b[0m\n\u001b[0m\u001b[1;32m      2\u001b[0m \u001b[0mm\u001b[0m \u001b[0;34m=\u001b[0m \u001b[0mmc\u001b[0m\u001b[0;34m.\u001b[0m\u001b[0mMCMC\u001b[0m\u001b[0;34m(\u001b[0m\u001b[0msprinkler\u001b[0m\u001b[0;34m)\u001b[0m\u001b[0;34m\u001b[0m\u001b[0m\n\u001b[1;32m      3\u001b[0m \u001b[0mm\u001b[0m\u001b[0;34m.\u001b[0m\u001b[0msample\u001b[0m\u001b[0;34m(\u001b[0m\u001b[0;36m100000\u001b[0m\u001b[0;34m)\u001b[0m\u001b[0;34m\u001b[0m\u001b[0m\n",
      "\u001b[0;31mImportError\u001b[0m: No module named sprinkler"
     ]
    }
   ],
   "source": [
    "import sprinkler\n",
    "m = mc.MCMC(sprinkler)\n",
    "m.sample(100000)"
   ]
  },
  {
   "cell_type": "markdown",
   "metadata": {},
   "source": [
    "# Muli-layer Perceptron Regressor"
   ]
  },
  {
   "cell_type": "markdown",
   "metadata": {},
   "source": [
    "http://scikit-learn.org/stable/modules/generated/sklearn.neural_network.MLPRegressor.html#sklearn.neural_network.MLPRegressor"
   ]
  },
  {
   "cell_type": "markdown",
   "metadata": {},
   "source": [
    "\n",
    "\n",
    "## Validation"
   ]
  },
  {
   "cell_type": "markdown",
   "metadata": {
    "collapsed": true
   },
   "source": [
    "Coming soon!"
   ]
  }
 ],
 "metadata": {
  "anaconda-cloud": {},
  "kernelspec": {
   "display_name": "Python [conda root]",
   "language": "python",
   "name": "conda-root-py"
  },
  "language_info": {
   "codemirror_mode": {
    "name": "ipython",
    "version": 2
   },
   "file_extension": ".py",
   "mimetype": "text/x-python",
   "name": "python",
   "nbconvert_exporter": "python",
   "pygments_lexer": "ipython2",
   "version": "2.7.12"
  }
 },
 "nbformat": 4,
 "nbformat_minor": 2
}
